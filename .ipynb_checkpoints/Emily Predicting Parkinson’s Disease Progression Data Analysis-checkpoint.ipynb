{
 "cells": [
  {
   "cell_type": "markdown",
   "id": "2e5d786d",
   "metadata": {},
   "source": [
    "# Predicting Parkinson’s Disease Progression Data Analysis"
   ]
  },
  {
   "cell_type": "markdown",
   "id": "f6e70882",
   "metadata": {},
   "source": [
    "### Import Libraries"
   ]
  },
  {
   "cell_type": "code",
   "execution_count": 8,
   "id": "ea0ff7ee",
   "metadata": {},
   "outputs": [],
   "source": [
    "import matplotlib.pyplot as plt\n",
    "import seaborn as sns\n",
    "import pandas as pd\n",
    "import numpy as np\n",
    "from pathlib import Path\n",
    "import plotly.express as px\n",
    "import matplotlib as mpl\n",
    "from matplotlib import pyplot as plt"
   ]
  },
  {
   "cell_type": "markdown",
   "id": "4e56edc9",
   "metadata": {},
   "source": [
    "### Import Data"
   ]
  },
  {
   "cell_type": "code",
   "execution_count": 9,
   "id": "ba54ae57",
   "metadata": {},
   "outputs": [],
   "source": [
    "train_clinical_path = \"PD-datasets/train_clinical_data.csv\"\n",
    "train_clinical = pd.read_csv(train_clinical_path)\n",
    "\n",
    "train_peptides_path = \"PD-datasets/train_peptides.csv\"\n",
    "train_peptides = pd.read_csv(train_peptides_path)\n",
    "\n",
    "train_proteins_path = \"PD-datasets/train_proteins.csv\"\n",
    "train_proteins = pd.read_csv(train_proteins_path)"
   ]
  },
  {
   "cell_type": "markdown",
   "id": "30cc8fdf",
   "metadata": {},
   "source": [
    "### Study Data"
   ]
  },
  {
   "cell_type": "code",
   "execution_count": 10,
   "id": "09575090",
   "metadata": {},
   "outputs": [
    {
     "name": "stdout",
     "output_type": "stream",
     "text": [
      "train_clinical shape : (2615, 8)\n",
      "train_peptide shape : (981834, 6)\n",
      "train_protein shape : (232741, 5)\n"
     ]
    }
   ],
   "source": [
    "print('train_clinical shape :',  train_clinical.shape)\n",
    "print('train_peptide shape :', train_peptides.shape)\n",
    "print('train_protein shape :', train_proteins.shape)"
   ]
  },
  {
   "cell_type": "code",
   "execution_count": 11,
   "id": "c3d444fb",
   "metadata": {},
   "outputs": [
    {
     "name": "stdout",
     "output_type": "stream",
     "text": [
      "train_clinical info :\n",
      " \n",
      "\n",
      "<class 'pandas.core.frame.DataFrame'>\n",
      "RangeIndex: 2615 entries, 0 to 2614\n",
      "Data columns (total 8 columns):\n",
      " #   Column                               Non-Null Count  Dtype  \n",
      "---  ------                               --------------  -----  \n",
      " 0   visit_id                             2615 non-null   object \n",
      " 1   patient_id                           2615 non-null   int64  \n",
      " 2   visit_month                          2615 non-null   int64  \n",
      " 3   updrs_1                              2614 non-null   float64\n",
      " 4   updrs_2                              2613 non-null   float64\n",
      " 5   updrs_3                              2590 non-null   float64\n",
      " 6   updrs_4                              1577 non-null   float64\n",
      " 7   upd23b_clinical_state_on_medication  1288 non-null   object \n",
      "dtypes: float64(4), int64(2), object(2)\n",
      "memory usage: 163.6+ KB\n"
     ]
    }
   ],
   "source": [
    "print('train_clinical info :\\n \\n')\n",
    "train_clinical.info()"
   ]
  },
  {
   "cell_type": "code",
   "execution_count": 12,
   "id": "58907bb5",
   "metadata": {},
   "outputs": [
    {
     "data": {
      "text/plain": [
       "count    2615.000000\n",
       "mean       31.190822\n",
       "std        25.199053\n",
       "min         0.000000\n",
       "25%        10.500000\n",
       "50%        24.000000\n",
       "75%        48.000000\n",
       "max       108.000000\n",
       "Name: visit_month, dtype: float64"
      ]
     },
     "execution_count": 12,
     "metadata": {},
     "output_type": "execute_result"
    }
   ],
   "source": [
    "train_clinical[\"visit_month\"].describe()"
   ]
  },
  {
   "cell_type": "code",
   "execution_count": 13,
   "id": "42006e3d",
   "metadata": {},
   "outputs": [
    {
     "data": {
      "text/plain": [
       "count    2614.000000\n",
       "mean        7.110559\n",
       "std         5.525955\n",
       "min         0.000000\n",
       "25%         3.000000\n",
       "50%         6.000000\n",
       "75%        10.000000\n",
       "max        33.000000\n",
       "Name: updrs_1, dtype: float64"
      ]
     },
     "execution_count": 13,
     "metadata": {},
     "output_type": "execute_result"
    }
   ],
   "source": [
    "train_clinical[\"updrs_1\"].describe()"
   ]
  },
  {
   "cell_type": "code",
   "execution_count": 14,
   "id": "73cd5106",
   "metadata": {},
   "outputs": [
    {
     "data": {
      "text/plain": [
       "count    2613.00000\n",
       "mean        6.74359\n",
       "std         6.32323\n",
       "min         0.00000\n",
       "25%         1.00000\n",
       "50%         5.00000\n",
       "75%        10.00000\n",
       "max        40.00000\n",
       "Name: updrs_2, dtype: float64"
      ]
     },
     "execution_count": 14,
     "metadata": {},
     "output_type": "execute_result"
    }
   ],
   "source": [
    "train_clinical[\"updrs_2\"].describe()"
   ]
  },
  {
   "cell_type": "code",
   "execution_count": 15,
   "id": "3bd39820",
   "metadata": {},
   "outputs": [
    {
     "data": {
      "text/plain": [
       "count    2590.000000\n",
       "mean       19.421236\n",
       "std        15.000289\n",
       "min         0.000000\n",
       "25%         6.000000\n",
       "50%        19.000000\n",
       "75%        29.000000\n",
       "max        86.000000\n",
       "Name: updrs_3, dtype: float64"
      ]
     },
     "execution_count": 15,
     "metadata": {},
     "output_type": "execute_result"
    }
   ],
   "source": [
    "train_clinical[\"updrs_3\"].describe()"
   ]
  },
  {
   "cell_type": "code",
   "execution_count": 16,
   "id": "cf656b9b",
   "metadata": {},
   "outputs": [
    {
     "data": {
      "text/plain": [
       "count    1577.000000\n",
       "mean        1.861763\n",
       "std         3.022112\n",
       "min         0.000000\n",
       "25%         0.000000\n",
       "50%         0.000000\n",
       "75%         3.000000\n",
       "max        20.000000\n",
       "Name: updrs_4, dtype: float64"
      ]
     },
     "execution_count": 16,
     "metadata": {},
     "output_type": "execute_result"
    }
   ],
   "source": [
    "train_clinical[\"updrs_4\"].describe()"
   ]
  },
  {
   "cell_type": "code",
   "execution_count": 17,
   "id": "5605a387",
   "metadata": {},
   "outputs": [
    {
     "name": "stdout",
     "output_type": "stream",
     "text": [
      "train_peptides info :\n",
      " \n",
      "\n",
      "<class 'pandas.core.frame.DataFrame'>\n",
      "RangeIndex: 981834 entries, 0 to 981833\n",
      "Data columns (total 6 columns):\n",
      " #   Column            Non-Null Count   Dtype  \n",
      "---  ------            --------------   -----  \n",
      " 0   visit_id          981834 non-null  object \n",
      " 1   visit_month       981834 non-null  int64  \n",
      " 2   patient_id        981834 non-null  int64  \n",
      " 3   UniProt           981834 non-null  object \n",
      " 4   Peptide           981834 non-null  object \n",
      " 5   PeptideAbundance  981834 non-null  float64\n",
      "dtypes: float64(1), int64(2), object(3)\n",
      "memory usage: 44.9+ MB\n"
     ]
    }
   ],
   "source": [
    "print('train_peptides info :\\n \\n')\n",
    "train_peptides.info()"
   ]
  },
  {
   "cell_type": "code",
   "execution_count": 18,
   "id": "8cda5b4c",
   "metadata": {},
   "outputs": [
    {
     "data": {
      "text/plain": [
       "968"
      ]
     },
     "execution_count": 18,
     "metadata": {},
     "output_type": "execute_result"
    }
   ],
   "source": [
    "train_peptides[\"Peptide\"].nunique()"
   ]
  },
  {
   "cell_type": "code",
   "execution_count": 19,
   "id": "7076d8b8",
   "metadata": {},
   "outputs": [
    {
     "data": {
      "text/plain": [
       "248"
      ]
     },
     "execution_count": 19,
     "metadata": {},
     "output_type": "execute_result"
    }
   ],
   "source": [
    "train_peptides[\"patient_id\"].nunique()"
   ]
  },
  {
   "cell_type": "code",
   "execution_count": 20,
   "id": "57f72e15",
   "metadata": {
    "scrolled": true
   },
   "outputs": [
    {
     "name": "stdout",
     "output_type": "stream",
     "text": [
      "train_proteins info :\n",
      " \n",
      "\n",
      "<class 'pandas.core.frame.DataFrame'>\n",
      "RangeIndex: 232741 entries, 0 to 232740\n",
      "Data columns (total 5 columns):\n",
      " #   Column       Non-Null Count   Dtype  \n",
      "---  ------       --------------   -----  \n",
      " 0   visit_id     232741 non-null  object \n",
      " 1   visit_month  232741 non-null  int64  \n",
      " 2   patient_id   232741 non-null  int64  \n",
      " 3   UniProt      232741 non-null  object \n",
      " 4   NPX          232741 non-null  float64\n",
      "dtypes: float64(1), int64(2), object(2)\n",
      "memory usage: 8.9+ MB\n"
     ]
    }
   ],
   "source": [
    "print('train_proteins info :\\n \\n')\n",
    "train_proteins.info()"
   ]
  },
  {
   "cell_type": "code",
   "execution_count": 21,
   "id": "2aee2802",
   "metadata": {},
   "outputs": [
    {
     "data": {
      "text/plain": [
       "248"
      ]
     },
     "execution_count": 21,
     "metadata": {},
     "output_type": "execute_result"
    }
   ],
   "source": [
    "train_proteins[\"patient_id\"].nunique()"
   ]
  },
  {
   "cell_type": "markdown",
   "id": "8f915e46",
   "metadata": {},
   "source": [
    "## Cleaning column names"
   ]
  },
  {
   "cell_type": "code",
   "execution_count": 22,
   "id": "f2c863ff",
   "metadata": {},
   "outputs": [
    {
     "data": {
      "text/html": [
       "<div>\n",
       "<style scoped>\n",
       "    .dataframe tbody tr th:only-of-type {\n",
       "        vertical-align: middle;\n",
       "    }\n",
       "\n",
       "    .dataframe tbody tr th {\n",
       "        vertical-align: top;\n",
       "    }\n",
       "\n",
       "    .dataframe thead th {\n",
       "        text-align: right;\n",
       "    }\n",
       "</style>\n",
       "<table border=\"1\" class=\"dataframe\">\n",
       "  <thead>\n",
       "    <tr style=\"text-align: right;\">\n",
       "      <th></th>\n",
       "      <th>Visit ID</th>\n",
       "      <th>Patient ID</th>\n",
       "      <th>Visit Month</th>\n",
       "      <th>UPDRS 1</th>\n",
       "      <th>UPDRS 2</th>\n",
       "      <th>UPDRS 3</th>\n",
       "      <th>UPDRS 4</th>\n",
       "      <th>Clinical State on Medication UPD23B</th>\n",
       "    </tr>\n",
       "  </thead>\n",
       "  <tbody>\n",
       "    <tr>\n",
       "      <th>0</th>\n",
       "      <td>55_0</td>\n",
       "      <td>55</td>\n",
       "      <td>0</td>\n",
       "      <td>10.0</td>\n",
       "      <td>6.0</td>\n",
       "      <td>15.0</td>\n",
       "      <td>NaN</td>\n",
       "      <td>NaN</td>\n",
       "    </tr>\n",
       "    <tr>\n",
       "      <th>1</th>\n",
       "      <td>55_3</td>\n",
       "      <td>55</td>\n",
       "      <td>3</td>\n",
       "      <td>10.0</td>\n",
       "      <td>7.0</td>\n",
       "      <td>25.0</td>\n",
       "      <td>NaN</td>\n",
       "      <td>NaN</td>\n",
       "    </tr>\n",
       "    <tr>\n",
       "      <th>2</th>\n",
       "      <td>55_6</td>\n",
       "      <td>55</td>\n",
       "      <td>6</td>\n",
       "      <td>8.0</td>\n",
       "      <td>10.0</td>\n",
       "      <td>34.0</td>\n",
       "      <td>NaN</td>\n",
       "      <td>NaN</td>\n",
       "    </tr>\n",
       "    <tr>\n",
       "      <th>3</th>\n",
       "      <td>55_9</td>\n",
       "      <td>55</td>\n",
       "      <td>9</td>\n",
       "      <td>8.0</td>\n",
       "      <td>9.0</td>\n",
       "      <td>30.0</td>\n",
       "      <td>0.0</td>\n",
       "      <td>On</td>\n",
       "    </tr>\n",
       "    <tr>\n",
       "      <th>4</th>\n",
       "      <td>55_12</td>\n",
       "      <td>55</td>\n",
       "      <td>12</td>\n",
       "      <td>10.0</td>\n",
       "      <td>10.0</td>\n",
       "      <td>41.0</td>\n",
       "      <td>0.0</td>\n",
       "      <td>On</td>\n",
       "    </tr>\n",
       "  </tbody>\n",
       "</table>\n",
       "</div>"
      ],
      "text/plain": [
       "  Visit ID  Patient ID  Visit Month  UPDRS 1  UPDRS 2  UPDRS 3  UPDRS 4  \\\n",
       "0     55_0          55            0     10.0      6.0     15.0      NaN   \n",
       "1     55_3          55            3     10.0      7.0     25.0      NaN   \n",
       "2     55_6          55            6      8.0     10.0     34.0      NaN   \n",
       "3     55_9          55            9      8.0      9.0     30.0      0.0   \n",
       "4    55_12          55           12     10.0     10.0     41.0      0.0   \n",
       "\n",
       "  Clinical State on Medication UPD23B  \n",
       "0                                 NaN  \n",
       "1                                 NaN  \n",
       "2                                 NaN  \n",
       "3                                  On  \n",
       "4                                  On  "
      ]
     },
     "execution_count": 22,
     "metadata": {},
     "output_type": "execute_result"
    }
   ],
   "source": [
    "train_clinical = train_clinical.rename(columns={'visit_id': 'Visit ID',\n",
    "                                                'patient_id': 'Patient ID',\n",
    "                                                'visit_month':'Visit Month',\n",
    "                                                'updrs_1': 'UPDRS 1', \n",
    "                                              'updrs_2': 'UPDRS 2', \n",
    "                                              'updrs_3': 'UPDRS 3',\n",
    "                                                'updrs_4' : 'UPDRS 4',\n",
    "                                              'upd23b_clinical_state_on_medication': 'Clinical State on Medication UPD23B'})\n",
    "train_clinical.head()"
   ]
  },
  {
   "cell_type": "markdown",
   "id": "7b33c259",
   "metadata": {},
   "source": [
    "### Are there differences in the UPDR scores of PD patients receiving medication versus those who do not receive medication?"
   ]
  },
  {
   "cell_type": "code",
   "execution_count": 38,
   "id": "afbfc44f",
   "metadata": {},
   "outputs": [
    {
     "data": {
      "application/vnd.plotly.v1+json": {
       "config": {
        "plotlyServerURL": "https://plot.ly"
       },
       "data": [
        {
         "alignmentgroup": "True",
         "bingroup": "x",
         "hovertemplate": "Clinical State on Medication UPD23B=On<br>Visit Month=%{x}<br>count=%{y}<extra></extra>",
         "legendgroup": "On",
         "marker": {
          "color": "rgb(93, 105, 177)",
          "pattern": {
           "shape": ""
          }
         },
         "name": "On",
         "offsetgroup": "On",
         "orientation": "v",
         "showlegend": true,
         "type": "histogram",
         "x": [
          9,
          12,
          18,
          24,
          30,
          36,
          42,
          48,
          54,
          60,
          0,
          6,
          12,
          18,
          24,
          36,
          42,
          9,
          12,
          18,
          30,
          42,
          0,
          6,
          12,
          18,
          24,
          30,
          36,
          42,
          0,
          6,
          12,
          18,
          24,
          36,
          42,
          48,
          54,
          60,
          18,
          36,
          42,
          30,
          42,
          54,
          60,
          72,
          30,
          42,
          54,
          84,
          0,
          6,
          12,
          18,
          24,
          30,
          36,
          48,
          18,
          30,
          42,
          54,
          30,
          42,
          54,
          84,
          24,
          30,
          36,
          42,
          54,
          60,
          18,
          30,
          42,
          54,
          72,
          96,
          0,
          6,
          12,
          18,
          24,
          36,
          42,
          0,
          6,
          12,
          18,
          24,
          30,
          36,
          54,
          42,
          54,
          72,
          0,
          6,
          12,
          18,
          24,
          30,
          36,
          48,
          60,
          30,
          36,
          42,
          54,
          84,
          96,
          36,
          54,
          96,
          54,
          60,
          72,
          12,
          18,
          24,
          30,
          36,
          42,
          48,
          54,
          60,
          72,
          84,
          9,
          18,
          30,
          42,
          6,
          12,
          18,
          24,
          36,
          42,
          48,
          60,
          84,
          30,
          54,
          9,
          12,
          24,
          30,
          36,
          42,
          48,
          54,
          60,
          72,
          84,
          0,
          6,
          12,
          18,
          30,
          36,
          42,
          18,
          30,
          36,
          54,
          0,
          6,
          30,
          36,
          0,
          6,
          12,
          18,
          24,
          30,
          36,
          48,
          9,
          30,
          54,
          108,
          30,
          54,
          96,
          0,
          6,
          12,
          18,
          24,
          30,
          36,
          48,
          54,
          36,
          48,
          54,
          72,
          84,
          96,
          0,
          6,
          12,
          18,
          24,
          36,
          42,
          48,
          60,
          30,
          42,
          36,
          42,
          54,
          96,
          9,
          12,
          18,
          24,
          30,
          36,
          42,
          60,
          72,
          84,
          24,
          36,
          42,
          54,
          60,
          42,
          48,
          54,
          60,
          84,
          9,
          18,
          30,
          42,
          54,
          84,
          30,
          36,
          48,
          54,
          18,
          30,
          42,
          24,
          30,
          42,
          54,
          60,
          9,
          12,
          18,
          24,
          30,
          42,
          54,
          0,
          6,
          18,
          24,
          30,
          36,
          42,
          9,
          12,
          18,
          24,
          36,
          42,
          48,
          54,
          60,
          0,
          6,
          12,
          18,
          24,
          30,
          36,
          30,
          42,
          54,
          84,
          18,
          30,
          42,
          0,
          24,
          36,
          30,
          24,
          30,
          36,
          42,
          48,
          60,
          72,
          84,
          96,
          9,
          12,
          18,
          24,
          30,
          42,
          48,
          54,
          84,
          18,
          30,
          42,
          54,
          60,
          24,
          30,
          36,
          42,
          54,
          0,
          6,
          12,
          18,
          24,
          30,
          36,
          42,
          48,
          42,
          54,
          18,
          24,
          30,
          42,
          54,
          48,
          60,
          72,
          0,
          6,
          12,
          18,
          24,
          30,
          36,
          42,
          9,
          12,
          18,
          24,
          36,
          42,
          48,
          54,
          60,
          72,
          84,
          30,
          54,
          30,
          42,
          54,
          24,
          42,
          36,
          0,
          12,
          18,
          30,
          48,
          0,
          6,
          12,
          18,
          24,
          0,
          6,
          12,
          18,
          24,
          30,
          36,
          6,
          12,
          18,
          30,
          42,
          54,
          72,
          84,
          54,
          18,
          36,
          42,
          48,
          54,
          0,
          6,
          12,
          18,
          24,
          30,
          36,
          48,
          18,
          30,
          42,
          54,
          72,
          96,
          18,
          42,
          54,
          9,
          18,
          30,
          42,
          48,
          54,
          60,
          30,
          36,
          42,
          48,
          54,
          60,
          0,
          6,
          12,
          18,
          30,
          0,
          6,
          12,
          18,
          24,
          36,
          0,
          6,
          12,
          18,
          24,
          30,
          36,
          9,
          12,
          18,
          24,
          30,
          36,
          42,
          54,
          84,
          9,
          12,
          18,
          24,
          30,
          36,
          42,
          48,
          54,
          60,
          72,
          84,
          96,
          30,
          42,
          54,
          0,
          6,
          12,
          18,
          24,
          30,
          36,
          42,
          9,
          18,
          30,
          9,
          18,
          30,
          30,
          6,
          12,
          18,
          24,
          30,
          36,
          9,
          0,
          6,
          12,
          18,
          24,
          30,
          36,
          42,
          48,
          9,
          18,
          30,
          42,
          54,
          84,
          54,
          84,
          9,
          12,
          18,
          24,
          30,
          36,
          54,
          72,
          84,
          6,
          30,
          42,
          48,
          18,
          30,
          54,
          0,
          6,
          12,
          18,
          24,
          36,
          42,
          48,
          30,
          42,
          54,
          0,
          6,
          12,
          18,
          30,
          36,
          42,
          48,
          60,
          6,
          9,
          18,
          30,
          54,
          12,
          18,
          24,
          30,
          36,
          48,
          12,
          36,
          42,
          54,
          36,
          60,
          30,
          42,
          54,
          96,
          18,
          42,
          54,
          9,
          12,
          18,
          24,
          30,
          36,
          42,
          48,
          54,
          60,
          72,
          84,
          18,
          30,
          42,
          48,
          54,
          60,
          42,
          54,
          0,
          6,
          18,
          30,
          6,
          18,
          30,
          42,
          48,
          9,
          9,
          18,
          54,
          6,
          12,
          18,
          24,
          30,
          36,
          9,
          18,
          30,
          42,
          0,
          6,
          12,
          18,
          24,
          30,
          36,
          54,
          18,
          36,
          18,
          24,
          36,
          42,
          9,
          24,
          42,
          54,
          9,
          18,
          30,
          36,
          42,
          48,
          54,
          54,
          12,
          24,
          30,
          36,
          42,
          48,
          54,
          60,
          72,
          18,
          30,
          42,
          54,
          96,
          42,
          54,
          42,
          54,
          60,
          30,
          42,
          54,
          108,
          0,
          6,
          12,
          18,
          24,
          30,
          36,
          42,
          48,
          6,
          12,
          18,
          24,
          30,
          36,
          48,
          0,
          6,
          12,
          24,
          36,
          30,
          42,
          54,
          0,
          6,
          18,
          24,
          30,
          36,
          9,
          12,
          18,
          24,
          30,
          36,
          42,
          48,
          60,
          72,
          84,
          96,
          0,
          6,
          12,
          18,
          24,
          30,
          36,
          42,
          48,
          60,
          9,
          18,
          24,
          30,
          42,
          54,
          60,
          72,
          84,
          18,
          30,
          18,
          30,
          36,
          42,
          54,
          18,
          42,
          54,
          42,
          6,
          30,
          42,
          24,
          30,
          36,
          42,
          48,
          60,
          72,
          84,
          0,
          6,
          12,
          24,
          9,
          12,
          18,
          24,
          36,
          48,
          60,
          72,
          84,
          24,
          48,
          54,
          9,
          12,
          18,
          24,
          30,
          42,
          54,
          72,
          84,
          48,
          54,
          9
         ],
         "xaxis": "x",
         "yaxis": "y"
        },
        {
         "alignmentgroup": "True",
         "bingroup": "x",
         "hovertemplate": "Clinical State on Medication UPD23B=Off<br>Visit Month=%{x}<br>count=%{y}<extra></extra>",
         "legendgroup": "Off",
         "marker": {
          "color": "rgb(82, 188, 163)",
          "pattern": {
           "shape": ""
          }
         },
         "name": "Off",
         "offsetgroup": "Off",
         "orientation": "v",
         "showlegend": true,
         "type": "histogram",
         "x": [
          72,
          84,
          96,
          30,
          48,
          60,
          24,
          36,
          48,
          54,
          60,
          72,
          30,
          30,
          36,
          42,
          48,
          54,
          60,
          72,
          84,
          12,
          24,
          30,
          72,
          84,
          12,
          18,
          24,
          36,
          48,
          18,
          24,
          36,
          48,
          60,
          72,
          42,
          24,
          36,
          48,
          60,
          24,
          36,
          48,
          60,
          12,
          18,
          72,
          84,
          24,
          36,
          48,
          60,
          84,
          30,
          36,
          42,
          48,
          60,
          72,
          84,
          48,
          60,
          48,
          60,
          72,
          42,
          48,
          60,
          72,
          84,
          36,
          42,
          48,
          84,
          12,
          24,
          36,
          48,
          54,
          60,
          72,
          84,
          96,
          12,
          36,
          48,
          60,
          96,
          24,
          48,
          60,
          72,
          24,
          12,
          18,
          24,
          36,
          42,
          48,
          60,
          72,
          84,
          96,
          24,
          36,
          42,
          48,
          60,
          72,
          84,
          30,
          36,
          42,
          48,
          60,
          72,
          84,
          96,
          30,
          42,
          30,
          36,
          48,
          54,
          60,
          72,
          84,
          96,
          24,
          30,
          36,
          42,
          48,
          54,
          60,
          72,
          84,
          96,
          48,
          60,
          72,
          84,
          48,
          54,
          48,
          36,
          72,
          12,
          24,
          36,
          48,
          60,
          72,
          12,
          24,
          60,
          24,
          36,
          48,
          72,
          36,
          48,
          60,
          72,
          36,
          48,
          60,
          72,
          24,
          48,
          72,
          12,
          24,
          36,
          48,
          12,
          30,
          42,
          48,
          54,
          60,
          12,
          24,
          36,
          9,
          12,
          18,
          54,
          36,
          60,
          72,
          9,
          12,
          24,
          36,
          48,
          48,
          60,
          72,
          84,
          24,
          30,
          36,
          48,
          60,
          72,
          9,
          12,
          36,
          48,
          60,
          72,
          36,
          96,
          24,
          36,
          42,
          48,
          60,
          72,
          84,
          36,
          48,
          30,
          36,
          72,
          42,
          48,
          54,
          60,
          72,
          6,
          24,
          42,
          0,
          24,
          36,
          48,
          24,
          30,
          36,
          42,
          48,
          60,
          72,
          84,
          12,
          24,
          30,
          60,
          72,
          24,
          36,
          48,
          60,
          84,
          9,
          12,
          24,
          30,
          36,
          48,
          60,
          72,
          84,
          12,
          24,
          36,
          24,
          24,
          36,
          48,
          60,
          72,
          24,
          36,
          48,
          60,
          72,
          84,
          48,
          12,
          24,
          12,
          24,
          36,
          42,
          48,
          54,
          60,
          72,
          84,
          0,
          42,
          54,
          60,
          6,
          12,
          12,
          24,
          36,
          48,
          60,
          72,
          60,
          72,
          96,
          60,
          0,
          18,
          24,
          36,
          54,
          12,
          24,
          36,
          42,
          48,
          60,
          72,
          84,
          96,
          108,
          30,
          36,
          48,
          60,
          72,
          84,
          96,
          24,
          12,
          24,
          36,
          48,
          60,
          72,
          84,
          30,
          48,
          60,
          72,
          48,
          54,
          24,
          36,
          48,
          60,
          72,
          84,
          24,
          30,
          36,
          48,
          60,
          72,
          9,
          12,
          24,
          36,
          48,
          60,
          72,
          84,
          96,
          108,
          12,
          24,
          36,
          42,
          48,
          0,
          12,
          24,
          36,
          12,
          24,
          36,
          12,
          18,
          24,
          30,
          36,
          42,
          48,
          60,
          72,
          84,
          96,
          108,
          12,
          24,
          36,
          42,
          60,
          30,
          96,
          108,
          30,
          12,
          18,
          30,
          36,
          48,
          60,
          72,
          84,
          12,
          24,
          18,
          24,
          30,
          36,
          48,
          60,
          72,
          18,
          24,
          30,
          36,
          42,
          48,
          54,
          60,
          84,
          12,
          18,
          24,
          36,
          48,
          60,
          72,
          36,
          48,
          60,
          24,
          48,
          72,
          84,
          96,
          12,
          18,
          24,
          36,
          48,
          60,
          72,
          84,
          96,
          0,
          0,
          12,
          18,
          24,
          36,
          48,
          12,
          36,
          48,
          12,
          24,
          36,
          72,
          12,
          24,
          42,
          48,
          54,
          60,
          72,
          84,
          48,
          60,
          72,
          24,
          30,
          36,
          48,
          60,
          72,
          84,
          96,
          0,
          12,
          18,
          24,
          36,
          48,
          0,
          12,
          30,
          36,
          42,
          60,
          36,
          48,
          60,
          60,
          72,
          84,
          96,
          12,
          18,
          30,
          36,
          42,
          48,
          54,
          60,
          72,
          84
         ],
         "xaxis": "x",
         "yaxis": "y"
        }
       ],
       "layout": {
        "barmode": "relative",
        "height": 500,
        "legend": {
         "title": {
          "text": "Clinical State on Medication UPD23B"
         },
         "tracegroupgap": 0
        },
        "template": {
         "data": {
          "bar": [
           {
            "error_x": {
             "color": "#2a3f5f"
            },
            "error_y": {
             "color": "#2a3f5f"
            },
            "marker": {
             "line": {
              "color": "#E5ECF6",
              "width": 0.5
             },
             "pattern": {
              "fillmode": "overlay",
              "size": 10,
              "solidity": 0.2
             }
            },
            "type": "bar"
           }
          ],
          "barpolar": [
           {
            "marker": {
             "line": {
              "color": "#E5ECF6",
              "width": 0.5
             },
             "pattern": {
              "fillmode": "overlay",
              "size": 10,
              "solidity": 0.2
             }
            },
            "type": "barpolar"
           }
          ],
          "carpet": [
           {
            "aaxis": {
             "endlinecolor": "#2a3f5f",
             "gridcolor": "white",
             "linecolor": "white",
             "minorgridcolor": "white",
             "startlinecolor": "#2a3f5f"
            },
            "baxis": {
             "endlinecolor": "#2a3f5f",
             "gridcolor": "white",
             "linecolor": "white",
             "minorgridcolor": "white",
             "startlinecolor": "#2a3f5f"
            },
            "type": "carpet"
           }
          ],
          "choropleth": [
           {
            "colorbar": {
             "outlinewidth": 0,
             "ticks": ""
            },
            "type": "choropleth"
           }
          ],
          "contour": [
           {
            "colorbar": {
             "outlinewidth": 0,
             "ticks": ""
            },
            "colorscale": [
             [
              0,
              "#0d0887"
             ],
             [
              0.1111111111111111,
              "#46039f"
             ],
             [
              0.2222222222222222,
              "#7201a8"
             ],
             [
              0.3333333333333333,
              "#9c179e"
             ],
             [
              0.4444444444444444,
              "#bd3786"
             ],
             [
              0.5555555555555556,
              "#d8576b"
             ],
             [
              0.6666666666666666,
              "#ed7953"
             ],
             [
              0.7777777777777778,
              "#fb9f3a"
             ],
             [
              0.8888888888888888,
              "#fdca26"
             ],
             [
              1,
              "#f0f921"
             ]
            ],
            "type": "contour"
           }
          ],
          "contourcarpet": [
           {
            "colorbar": {
             "outlinewidth": 0,
             "ticks": ""
            },
            "type": "contourcarpet"
           }
          ],
          "heatmap": [
           {
            "colorbar": {
             "outlinewidth": 0,
             "ticks": ""
            },
            "colorscale": [
             [
              0,
              "#0d0887"
             ],
             [
              0.1111111111111111,
              "#46039f"
             ],
             [
              0.2222222222222222,
              "#7201a8"
             ],
             [
              0.3333333333333333,
              "#9c179e"
             ],
             [
              0.4444444444444444,
              "#bd3786"
             ],
             [
              0.5555555555555556,
              "#d8576b"
             ],
             [
              0.6666666666666666,
              "#ed7953"
             ],
             [
              0.7777777777777778,
              "#fb9f3a"
             ],
             [
              0.8888888888888888,
              "#fdca26"
             ],
             [
              1,
              "#f0f921"
             ]
            ],
            "type": "heatmap"
           }
          ],
          "heatmapgl": [
           {
            "colorbar": {
             "outlinewidth": 0,
             "ticks": ""
            },
            "colorscale": [
             [
              0,
              "#0d0887"
             ],
             [
              0.1111111111111111,
              "#46039f"
             ],
             [
              0.2222222222222222,
              "#7201a8"
             ],
             [
              0.3333333333333333,
              "#9c179e"
             ],
             [
              0.4444444444444444,
              "#bd3786"
             ],
             [
              0.5555555555555556,
              "#d8576b"
             ],
             [
              0.6666666666666666,
              "#ed7953"
             ],
             [
              0.7777777777777778,
              "#fb9f3a"
             ],
             [
              0.8888888888888888,
              "#fdca26"
             ],
             [
              1,
              "#f0f921"
             ]
            ],
            "type": "heatmapgl"
           }
          ],
          "histogram": [
           {
            "marker": {
             "pattern": {
              "fillmode": "overlay",
              "size": 10,
              "solidity": 0.2
             }
            },
            "type": "histogram"
           }
          ],
          "histogram2d": [
           {
            "colorbar": {
             "outlinewidth": 0,
             "ticks": ""
            },
            "colorscale": [
             [
              0,
              "#0d0887"
             ],
             [
              0.1111111111111111,
              "#46039f"
             ],
             [
              0.2222222222222222,
              "#7201a8"
             ],
             [
              0.3333333333333333,
              "#9c179e"
             ],
             [
              0.4444444444444444,
              "#bd3786"
             ],
             [
              0.5555555555555556,
              "#d8576b"
             ],
             [
              0.6666666666666666,
              "#ed7953"
             ],
             [
              0.7777777777777778,
              "#fb9f3a"
             ],
             [
              0.8888888888888888,
              "#fdca26"
             ],
             [
              1,
              "#f0f921"
             ]
            ],
            "type": "histogram2d"
           }
          ],
          "histogram2dcontour": [
           {
            "colorbar": {
             "outlinewidth": 0,
             "ticks": ""
            },
            "colorscale": [
             [
              0,
              "#0d0887"
             ],
             [
              0.1111111111111111,
              "#46039f"
             ],
             [
              0.2222222222222222,
              "#7201a8"
             ],
             [
              0.3333333333333333,
              "#9c179e"
             ],
             [
              0.4444444444444444,
              "#bd3786"
             ],
             [
              0.5555555555555556,
              "#d8576b"
             ],
             [
              0.6666666666666666,
              "#ed7953"
             ],
             [
              0.7777777777777778,
              "#fb9f3a"
             ],
             [
              0.8888888888888888,
              "#fdca26"
             ],
             [
              1,
              "#f0f921"
             ]
            ],
            "type": "histogram2dcontour"
           }
          ],
          "mesh3d": [
           {
            "colorbar": {
             "outlinewidth": 0,
             "ticks": ""
            },
            "type": "mesh3d"
           }
          ],
          "parcoords": [
           {
            "line": {
             "colorbar": {
              "outlinewidth": 0,
              "ticks": ""
             }
            },
            "type": "parcoords"
           }
          ],
          "pie": [
           {
            "automargin": true,
            "type": "pie"
           }
          ],
          "scatter": [
           {
            "fillpattern": {
             "fillmode": "overlay",
             "size": 10,
             "solidity": 0.2
            },
            "type": "scatter"
           }
          ],
          "scatter3d": [
           {
            "line": {
             "colorbar": {
              "outlinewidth": 0,
              "ticks": ""
             }
            },
            "marker": {
             "colorbar": {
              "outlinewidth": 0,
              "ticks": ""
             }
            },
            "type": "scatter3d"
           }
          ],
          "scattercarpet": [
           {
            "marker": {
             "colorbar": {
              "outlinewidth": 0,
              "ticks": ""
             }
            },
            "type": "scattercarpet"
           }
          ],
          "scattergeo": [
           {
            "marker": {
             "colorbar": {
              "outlinewidth": 0,
              "ticks": ""
             }
            },
            "type": "scattergeo"
           }
          ],
          "scattergl": [
           {
            "marker": {
             "colorbar": {
              "outlinewidth": 0,
              "ticks": ""
             }
            },
            "type": "scattergl"
           }
          ],
          "scattermapbox": [
           {
            "marker": {
             "colorbar": {
              "outlinewidth": 0,
              "ticks": ""
             }
            },
            "type": "scattermapbox"
           }
          ],
          "scatterpolar": [
           {
            "marker": {
             "colorbar": {
              "outlinewidth": 0,
              "ticks": ""
             }
            },
            "type": "scatterpolar"
           }
          ],
          "scatterpolargl": [
           {
            "marker": {
             "colorbar": {
              "outlinewidth": 0,
              "ticks": ""
             }
            },
            "type": "scatterpolargl"
           }
          ],
          "scatterternary": [
           {
            "marker": {
             "colorbar": {
              "outlinewidth": 0,
              "ticks": ""
             }
            },
            "type": "scatterternary"
           }
          ],
          "surface": [
           {
            "colorbar": {
             "outlinewidth": 0,
             "ticks": ""
            },
            "colorscale": [
             [
              0,
              "#0d0887"
             ],
             [
              0.1111111111111111,
              "#46039f"
             ],
             [
              0.2222222222222222,
              "#7201a8"
             ],
             [
              0.3333333333333333,
              "#9c179e"
             ],
             [
              0.4444444444444444,
              "#bd3786"
             ],
             [
              0.5555555555555556,
              "#d8576b"
             ],
             [
              0.6666666666666666,
              "#ed7953"
             ],
             [
              0.7777777777777778,
              "#fb9f3a"
             ],
             [
              0.8888888888888888,
              "#fdca26"
             ],
             [
              1,
              "#f0f921"
             ]
            ],
            "type": "surface"
           }
          ],
          "table": [
           {
            "cells": {
             "fill": {
              "color": "#EBF0F8"
             },
             "line": {
              "color": "white"
             }
            },
            "header": {
             "fill": {
              "color": "#C8D4E3"
             },
             "line": {
              "color": "white"
             }
            },
            "type": "table"
           }
          ]
         },
         "layout": {
          "annotationdefaults": {
           "arrowcolor": "#2a3f5f",
           "arrowhead": 0,
           "arrowwidth": 1
          },
          "autotypenumbers": "strict",
          "coloraxis": {
           "colorbar": {
            "outlinewidth": 0,
            "ticks": ""
           }
          },
          "colorscale": {
           "diverging": [
            [
             0,
             "#8e0152"
            ],
            [
             0.1,
             "#c51b7d"
            ],
            [
             0.2,
             "#de77ae"
            ],
            [
             0.3,
             "#f1b6da"
            ],
            [
             0.4,
             "#fde0ef"
            ],
            [
             0.5,
             "#f7f7f7"
            ],
            [
             0.6,
             "#e6f5d0"
            ],
            [
             0.7,
             "#b8e186"
            ],
            [
             0.8,
             "#7fbc41"
            ],
            [
             0.9,
             "#4d9221"
            ],
            [
             1,
             "#276419"
            ]
           ],
           "sequential": [
            [
             0,
             "#0d0887"
            ],
            [
             0.1111111111111111,
             "#46039f"
            ],
            [
             0.2222222222222222,
             "#7201a8"
            ],
            [
             0.3333333333333333,
             "#9c179e"
            ],
            [
             0.4444444444444444,
             "#bd3786"
            ],
            [
             0.5555555555555556,
             "#d8576b"
            ],
            [
             0.6666666666666666,
             "#ed7953"
            ],
            [
             0.7777777777777778,
             "#fb9f3a"
            ],
            [
             0.8888888888888888,
             "#fdca26"
            ],
            [
             1,
             "#f0f921"
            ]
           ],
           "sequentialminus": [
            [
             0,
             "#0d0887"
            ],
            [
             0.1111111111111111,
             "#46039f"
            ],
            [
             0.2222222222222222,
             "#7201a8"
            ],
            [
             0.3333333333333333,
             "#9c179e"
            ],
            [
             0.4444444444444444,
             "#bd3786"
            ],
            [
             0.5555555555555556,
             "#d8576b"
            ],
            [
             0.6666666666666666,
             "#ed7953"
            ],
            [
             0.7777777777777778,
             "#fb9f3a"
            ],
            [
             0.8888888888888888,
             "#fdca26"
            ],
            [
             1,
             "#f0f921"
            ]
           ]
          },
          "colorway": [
           "#636efa",
           "#EF553B",
           "#00cc96",
           "#ab63fa",
           "#FFA15A",
           "#19d3f3",
           "#FF6692",
           "#B6E880",
           "#FF97FF",
           "#FECB52"
          ],
          "font": {
           "color": "#2a3f5f"
          },
          "geo": {
           "bgcolor": "white",
           "lakecolor": "white",
           "landcolor": "#E5ECF6",
           "showlakes": true,
           "showland": true,
           "subunitcolor": "white"
          },
          "hoverlabel": {
           "align": "left"
          },
          "hovermode": "closest",
          "mapbox": {
           "style": "light"
          },
          "paper_bgcolor": "white",
          "plot_bgcolor": "#E5ECF6",
          "polar": {
           "angularaxis": {
            "gridcolor": "white",
            "linecolor": "white",
            "ticks": ""
           },
           "bgcolor": "#E5ECF6",
           "radialaxis": {
            "gridcolor": "white",
            "linecolor": "white",
            "ticks": ""
           }
          },
          "scene": {
           "xaxis": {
            "backgroundcolor": "#E5ECF6",
            "gridcolor": "white",
            "gridwidth": 2,
            "linecolor": "white",
            "showbackground": true,
            "ticks": "",
            "zerolinecolor": "white"
           },
           "yaxis": {
            "backgroundcolor": "#E5ECF6",
            "gridcolor": "white",
            "gridwidth": 2,
            "linecolor": "white",
            "showbackground": true,
            "ticks": "",
            "zerolinecolor": "white"
           },
           "zaxis": {
            "backgroundcolor": "#E5ECF6",
            "gridcolor": "white",
            "gridwidth": 2,
            "linecolor": "white",
            "showbackground": true,
            "ticks": "",
            "zerolinecolor": "white"
           }
          },
          "shapedefaults": {
           "line": {
            "color": "#2a3f5f"
           }
          },
          "ternary": {
           "aaxis": {
            "gridcolor": "white",
            "linecolor": "white",
            "ticks": ""
           },
           "baxis": {
            "gridcolor": "white",
            "linecolor": "white",
            "ticks": ""
           },
           "bgcolor": "#E5ECF6",
           "caxis": {
            "gridcolor": "white",
            "linecolor": "white",
            "ticks": ""
           }
          },
          "title": {
           "x": 0.05
          },
          "xaxis": {
           "automargin": true,
           "gridcolor": "white",
           "linecolor": "white",
           "ticks": "",
           "title": {
            "standoff": 15
           },
           "zerolinecolor": "white",
           "zerolinewidth": 2
          },
          "yaxis": {
           "automargin": true,
           "gridcolor": "white",
           "linecolor": "white",
           "ticks": "",
           "title": {
            "standoff": 15
           },
           "zerolinecolor": "white",
           "zerolinewidth": 2
          }
         }
        },
        "title": {
         "font": {
          "size": 15
         },
         "text": "Count of Visit Month"
        },
        "width": 1000,
        "xaxis": {
         "anchor": "y",
         "domain": [
          0,
          1
         ],
         "title": {
          "text": "Visit Month"
         }
        },
        "yaxis": {
         "anchor": "x",
         "domain": [
          0,
          1
         ],
         "title": {
          "text": "count"
         }
        }
       }
      },
      "text/html": [
       "<div>                            <div id=\"14aa50af-1be8-477f-ba91-4b0d0012b592\" class=\"plotly-graph-div\" style=\"height:500px; width:1000px;\"></div>            <script type=\"text/javascript\">                require([\"plotly\"], function(Plotly) {                    window.PLOTLYENV=window.PLOTLYENV || {};                                    if (document.getElementById(\"14aa50af-1be8-477f-ba91-4b0d0012b592\")) {                    Plotly.newPlot(                        \"14aa50af-1be8-477f-ba91-4b0d0012b592\",                        [{\"alignmentgroup\":\"True\",\"bingroup\":\"x\",\"hovertemplate\":\"Clinical State on Medication UPD23B=On<br>Visit Month=%{x}<br>count=%{y}<extra></extra>\",\"legendgroup\":\"On\",\"marker\":{\"color\":\"rgb(93, 105, 177)\",\"pattern\":{\"shape\":\"\"}},\"name\":\"On\",\"offsetgroup\":\"On\",\"orientation\":\"v\",\"showlegend\":true,\"x\":[9,12,18,24,30,36,42,48,54,60,0,6,12,18,24,36,42,9,12,18,30,42,0,6,12,18,24,30,36,42,0,6,12,18,24,36,42,48,54,60,18,36,42,30,42,54,60,72,30,42,54,84,0,6,12,18,24,30,36,48,18,30,42,54,30,42,54,84,24,30,36,42,54,60,18,30,42,54,72,96,0,6,12,18,24,36,42,0,6,12,18,24,30,36,54,42,54,72,0,6,12,18,24,30,36,48,60,30,36,42,54,84,96,36,54,96,54,60,72,12,18,24,30,36,42,48,54,60,72,84,9,18,30,42,6,12,18,24,36,42,48,60,84,30,54,9,12,24,30,36,42,48,54,60,72,84,0,6,12,18,30,36,42,18,30,36,54,0,6,30,36,0,6,12,18,24,30,36,48,9,30,54,108,30,54,96,0,6,12,18,24,30,36,48,54,36,48,54,72,84,96,0,6,12,18,24,36,42,48,60,30,42,36,42,54,96,9,12,18,24,30,36,42,60,72,84,24,36,42,54,60,42,48,54,60,84,9,18,30,42,54,84,30,36,48,54,18,30,42,24,30,42,54,60,9,12,18,24,30,42,54,0,6,18,24,30,36,42,9,12,18,24,36,42,48,54,60,0,6,12,18,24,30,36,30,42,54,84,18,30,42,0,24,36,30,24,30,36,42,48,60,72,84,96,9,12,18,24,30,42,48,54,84,18,30,42,54,60,24,30,36,42,54,0,6,12,18,24,30,36,42,48,42,54,18,24,30,42,54,48,60,72,0,6,12,18,24,30,36,42,9,12,18,24,36,42,48,54,60,72,84,30,54,30,42,54,24,42,36,0,12,18,30,48,0,6,12,18,24,0,6,12,18,24,30,36,6,12,18,30,42,54,72,84,54,18,36,42,48,54,0,6,12,18,24,30,36,48,18,30,42,54,72,96,18,42,54,9,18,30,42,48,54,60,30,36,42,48,54,60,0,6,12,18,30,0,6,12,18,24,36,0,6,12,18,24,30,36,9,12,18,24,30,36,42,54,84,9,12,18,24,30,36,42,48,54,60,72,84,96,30,42,54,0,6,12,18,24,30,36,42,9,18,30,9,18,30,30,6,12,18,24,30,36,9,0,6,12,18,24,30,36,42,48,9,18,30,42,54,84,54,84,9,12,18,24,30,36,54,72,84,6,30,42,48,18,30,54,0,6,12,18,24,36,42,48,30,42,54,0,6,12,18,30,36,42,48,60,6,9,18,30,54,12,18,24,30,36,48,12,36,42,54,36,60,30,42,54,96,18,42,54,9,12,18,24,30,36,42,48,54,60,72,84,18,30,42,48,54,60,42,54,0,6,18,30,6,18,30,42,48,9,9,18,54,6,12,18,24,30,36,9,18,30,42,0,6,12,18,24,30,36,54,18,36,18,24,36,42,9,24,42,54,9,18,30,36,42,48,54,54,12,24,30,36,42,48,54,60,72,18,30,42,54,96,42,54,42,54,60,30,42,54,108,0,6,12,18,24,30,36,42,48,6,12,18,24,30,36,48,0,6,12,24,36,30,42,54,0,6,18,24,30,36,9,12,18,24,30,36,42,48,60,72,84,96,0,6,12,18,24,30,36,42,48,60,9,18,24,30,42,54,60,72,84,18,30,18,30,36,42,54,18,42,54,42,6,30,42,24,30,36,42,48,60,72,84,0,6,12,24,9,12,18,24,36,48,60,72,84,24,48,54,9,12,18,24,30,42,54,72,84,48,54,9],\"xaxis\":\"x\",\"yaxis\":\"y\",\"type\":\"histogram\"},{\"alignmentgroup\":\"True\",\"bingroup\":\"x\",\"hovertemplate\":\"Clinical State on Medication UPD23B=Off<br>Visit Month=%{x}<br>count=%{y}<extra></extra>\",\"legendgroup\":\"Off\",\"marker\":{\"color\":\"rgb(82, 188, 163)\",\"pattern\":{\"shape\":\"\"}},\"name\":\"Off\",\"offsetgroup\":\"Off\",\"orientation\":\"v\",\"showlegend\":true,\"x\":[72,84,96,30,48,60,24,36,48,54,60,72,30,30,36,42,48,54,60,72,84,12,24,30,72,84,12,18,24,36,48,18,24,36,48,60,72,42,24,36,48,60,24,36,48,60,12,18,72,84,24,36,48,60,84,30,36,42,48,60,72,84,48,60,48,60,72,42,48,60,72,84,36,42,48,84,12,24,36,48,54,60,72,84,96,12,36,48,60,96,24,48,60,72,24,12,18,24,36,42,48,60,72,84,96,24,36,42,48,60,72,84,30,36,42,48,60,72,84,96,30,42,30,36,48,54,60,72,84,96,24,30,36,42,48,54,60,72,84,96,48,60,72,84,48,54,48,36,72,12,24,36,48,60,72,12,24,60,24,36,48,72,36,48,60,72,36,48,60,72,24,48,72,12,24,36,48,12,30,42,48,54,60,12,24,36,9,12,18,54,36,60,72,9,12,24,36,48,48,60,72,84,24,30,36,48,60,72,9,12,36,48,60,72,36,96,24,36,42,48,60,72,84,36,48,30,36,72,42,48,54,60,72,6,24,42,0,24,36,48,24,30,36,42,48,60,72,84,12,24,30,60,72,24,36,48,60,84,9,12,24,30,36,48,60,72,84,12,24,36,24,24,36,48,60,72,24,36,48,60,72,84,48,12,24,12,24,36,42,48,54,60,72,84,0,42,54,60,6,12,12,24,36,48,60,72,60,72,96,60,0,18,24,36,54,12,24,36,42,48,60,72,84,96,108,30,36,48,60,72,84,96,24,12,24,36,48,60,72,84,30,48,60,72,48,54,24,36,48,60,72,84,24,30,36,48,60,72,9,12,24,36,48,60,72,84,96,108,12,24,36,42,48,0,12,24,36,12,24,36,12,18,24,30,36,42,48,60,72,84,96,108,12,24,36,42,60,30,96,108,30,12,18,30,36,48,60,72,84,12,24,18,24,30,36,48,60,72,18,24,30,36,42,48,54,60,84,12,18,24,36,48,60,72,36,48,60,24,48,72,84,96,12,18,24,36,48,60,72,84,96,0,0,12,18,24,36,48,12,36,48,12,24,36,72,12,24,42,48,54,60,72,84,48,60,72,24,30,36,48,60,72,84,96,0,12,18,24,36,48,0,12,30,36,42,60,36,48,60,60,72,84,96,12,18,30,36,42,48,54,60,72,84],\"xaxis\":\"x\",\"yaxis\":\"y\",\"type\":\"histogram\"}],                        {\"template\":{\"data\":{\"histogram2dcontour\":[{\"type\":\"histogram2dcontour\",\"colorbar\":{\"outlinewidth\":0,\"ticks\":\"\"},\"colorscale\":[[0.0,\"#0d0887\"],[0.1111111111111111,\"#46039f\"],[0.2222222222222222,\"#7201a8\"],[0.3333333333333333,\"#9c179e\"],[0.4444444444444444,\"#bd3786\"],[0.5555555555555556,\"#d8576b\"],[0.6666666666666666,\"#ed7953\"],[0.7777777777777778,\"#fb9f3a\"],[0.8888888888888888,\"#fdca26\"],[1.0,\"#f0f921\"]]}],\"choropleth\":[{\"type\":\"choropleth\",\"colorbar\":{\"outlinewidth\":0,\"ticks\":\"\"}}],\"histogram2d\":[{\"type\":\"histogram2d\",\"colorbar\":{\"outlinewidth\":0,\"ticks\":\"\"},\"colorscale\":[[0.0,\"#0d0887\"],[0.1111111111111111,\"#46039f\"],[0.2222222222222222,\"#7201a8\"],[0.3333333333333333,\"#9c179e\"],[0.4444444444444444,\"#bd3786\"],[0.5555555555555556,\"#d8576b\"],[0.6666666666666666,\"#ed7953\"],[0.7777777777777778,\"#fb9f3a\"],[0.8888888888888888,\"#fdca26\"],[1.0,\"#f0f921\"]]}],\"heatmap\":[{\"type\":\"heatmap\",\"colorbar\":{\"outlinewidth\":0,\"ticks\":\"\"},\"colorscale\":[[0.0,\"#0d0887\"],[0.1111111111111111,\"#46039f\"],[0.2222222222222222,\"#7201a8\"],[0.3333333333333333,\"#9c179e\"],[0.4444444444444444,\"#bd3786\"],[0.5555555555555556,\"#d8576b\"],[0.6666666666666666,\"#ed7953\"],[0.7777777777777778,\"#fb9f3a\"],[0.8888888888888888,\"#fdca26\"],[1.0,\"#f0f921\"]]}],\"heatmapgl\":[{\"type\":\"heatmapgl\",\"colorbar\":{\"outlinewidth\":0,\"ticks\":\"\"},\"colorscale\":[[0.0,\"#0d0887\"],[0.1111111111111111,\"#46039f\"],[0.2222222222222222,\"#7201a8\"],[0.3333333333333333,\"#9c179e\"],[0.4444444444444444,\"#bd3786\"],[0.5555555555555556,\"#d8576b\"],[0.6666666666666666,\"#ed7953\"],[0.7777777777777778,\"#fb9f3a\"],[0.8888888888888888,\"#fdca26\"],[1.0,\"#f0f921\"]]}],\"contourcarpet\":[{\"type\":\"contourcarpet\",\"colorbar\":{\"outlinewidth\":0,\"ticks\":\"\"}}],\"contour\":[{\"type\":\"contour\",\"colorbar\":{\"outlinewidth\":0,\"ticks\":\"\"},\"colorscale\":[[0.0,\"#0d0887\"],[0.1111111111111111,\"#46039f\"],[0.2222222222222222,\"#7201a8\"],[0.3333333333333333,\"#9c179e\"],[0.4444444444444444,\"#bd3786\"],[0.5555555555555556,\"#d8576b\"],[0.6666666666666666,\"#ed7953\"],[0.7777777777777778,\"#fb9f3a\"],[0.8888888888888888,\"#fdca26\"],[1.0,\"#f0f921\"]]}],\"surface\":[{\"type\":\"surface\",\"colorbar\":{\"outlinewidth\":0,\"ticks\":\"\"},\"colorscale\":[[0.0,\"#0d0887\"],[0.1111111111111111,\"#46039f\"],[0.2222222222222222,\"#7201a8\"],[0.3333333333333333,\"#9c179e\"],[0.4444444444444444,\"#bd3786\"],[0.5555555555555556,\"#d8576b\"],[0.6666666666666666,\"#ed7953\"],[0.7777777777777778,\"#fb9f3a\"],[0.8888888888888888,\"#fdca26\"],[1.0,\"#f0f921\"]]}],\"mesh3d\":[{\"type\":\"mesh3d\",\"colorbar\":{\"outlinewidth\":0,\"ticks\":\"\"}}],\"scatter\":[{\"fillpattern\":{\"fillmode\":\"overlay\",\"size\":10,\"solidity\":0.2},\"type\":\"scatter\"}],\"parcoords\":[{\"type\":\"parcoords\",\"line\":{\"colorbar\":{\"outlinewidth\":0,\"ticks\":\"\"}}}],\"scatterpolargl\":[{\"type\":\"scatterpolargl\",\"marker\":{\"colorbar\":{\"outlinewidth\":0,\"ticks\":\"\"}}}],\"bar\":[{\"error_x\":{\"color\":\"#2a3f5f\"},\"error_y\":{\"color\":\"#2a3f5f\"},\"marker\":{\"line\":{\"color\":\"#E5ECF6\",\"width\":0.5},\"pattern\":{\"fillmode\":\"overlay\",\"size\":10,\"solidity\":0.2}},\"type\":\"bar\"}],\"scattergeo\":[{\"type\":\"scattergeo\",\"marker\":{\"colorbar\":{\"outlinewidth\":0,\"ticks\":\"\"}}}],\"scatterpolar\":[{\"type\":\"scatterpolar\",\"marker\":{\"colorbar\":{\"outlinewidth\":0,\"ticks\":\"\"}}}],\"histogram\":[{\"marker\":{\"pattern\":{\"fillmode\":\"overlay\",\"size\":10,\"solidity\":0.2}},\"type\":\"histogram\"}],\"scattergl\":[{\"type\":\"scattergl\",\"marker\":{\"colorbar\":{\"outlinewidth\":0,\"ticks\":\"\"}}}],\"scatter3d\":[{\"type\":\"scatter3d\",\"line\":{\"colorbar\":{\"outlinewidth\":0,\"ticks\":\"\"}},\"marker\":{\"colorbar\":{\"outlinewidth\":0,\"ticks\":\"\"}}}],\"scattermapbox\":[{\"type\":\"scattermapbox\",\"marker\":{\"colorbar\":{\"outlinewidth\":0,\"ticks\":\"\"}}}],\"scatterternary\":[{\"type\":\"scatterternary\",\"marker\":{\"colorbar\":{\"outlinewidth\":0,\"ticks\":\"\"}}}],\"scattercarpet\":[{\"type\":\"scattercarpet\",\"marker\":{\"colorbar\":{\"outlinewidth\":0,\"ticks\":\"\"}}}],\"carpet\":[{\"aaxis\":{\"endlinecolor\":\"#2a3f5f\",\"gridcolor\":\"white\",\"linecolor\":\"white\",\"minorgridcolor\":\"white\",\"startlinecolor\":\"#2a3f5f\"},\"baxis\":{\"endlinecolor\":\"#2a3f5f\",\"gridcolor\":\"white\",\"linecolor\":\"white\",\"minorgridcolor\":\"white\",\"startlinecolor\":\"#2a3f5f\"},\"type\":\"carpet\"}],\"table\":[{\"cells\":{\"fill\":{\"color\":\"#EBF0F8\"},\"line\":{\"color\":\"white\"}},\"header\":{\"fill\":{\"color\":\"#C8D4E3\"},\"line\":{\"color\":\"white\"}},\"type\":\"table\"}],\"barpolar\":[{\"marker\":{\"line\":{\"color\":\"#E5ECF6\",\"width\":0.5},\"pattern\":{\"fillmode\":\"overlay\",\"size\":10,\"solidity\":0.2}},\"type\":\"barpolar\"}],\"pie\":[{\"automargin\":true,\"type\":\"pie\"}]},\"layout\":{\"autotypenumbers\":\"strict\",\"colorway\":[\"#636efa\",\"#EF553B\",\"#00cc96\",\"#ab63fa\",\"#FFA15A\",\"#19d3f3\",\"#FF6692\",\"#B6E880\",\"#FF97FF\",\"#FECB52\"],\"font\":{\"color\":\"#2a3f5f\"},\"hovermode\":\"closest\",\"hoverlabel\":{\"align\":\"left\"},\"paper_bgcolor\":\"white\",\"plot_bgcolor\":\"#E5ECF6\",\"polar\":{\"bgcolor\":\"#E5ECF6\",\"angularaxis\":{\"gridcolor\":\"white\",\"linecolor\":\"white\",\"ticks\":\"\"},\"radialaxis\":{\"gridcolor\":\"white\",\"linecolor\":\"white\",\"ticks\":\"\"}},\"ternary\":{\"bgcolor\":\"#E5ECF6\",\"aaxis\":{\"gridcolor\":\"white\",\"linecolor\":\"white\",\"ticks\":\"\"},\"baxis\":{\"gridcolor\":\"white\",\"linecolor\":\"white\",\"ticks\":\"\"},\"caxis\":{\"gridcolor\":\"white\",\"linecolor\":\"white\",\"ticks\":\"\"}},\"coloraxis\":{\"colorbar\":{\"outlinewidth\":0,\"ticks\":\"\"}},\"colorscale\":{\"sequential\":[[0.0,\"#0d0887\"],[0.1111111111111111,\"#46039f\"],[0.2222222222222222,\"#7201a8\"],[0.3333333333333333,\"#9c179e\"],[0.4444444444444444,\"#bd3786\"],[0.5555555555555556,\"#d8576b\"],[0.6666666666666666,\"#ed7953\"],[0.7777777777777778,\"#fb9f3a\"],[0.8888888888888888,\"#fdca26\"],[1.0,\"#f0f921\"]],\"sequentialminus\":[[0.0,\"#0d0887\"],[0.1111111111111111,\"#46039f\"],[0.2222222222222222,\"#7201a8\"],[0.3333333333333333,\"#9c179e\"],[0.4444444444444444,\"#bd3786\"],[0.5555555555555556,\"#d8576b\"],[0.6666666666666666,\"#ed7953\"],[0.7777777777777778,\"#fb9f3a\"],[0.8888888888888888,\"#fdca26\"],[1.0,\"#f0f921\"]],\"diverging\":[[0,\"#8e0152\"],[0.1,\"#c51b7d\"],[0.2,\"#de77ae\"],[0.3,\"#f1b6da\"],[0.4,\"#fde0ef\"],[0.5,\"#f7f7f7\"],[0.6,\"#e6f5d0\"],[0.7,\"#b8e186\"],[0.8,\"#7fbc41\"],[0.9,\"#4d9221\"],[1,\"#276419\"]]},\"xaxis\":{\"gridcolor\":\"white\",\"linecolor\":\"white\",\"ticks\":\"\",\"title\":{\"standoff\":15},\"zerolinecolor\":\"white\",\"automargin\":true,\"zerolinewidth\":2},\"yaxis\":{\"gridcolor\":\"white\",\"linecolor\":\"white\",\"ticks\":\"\",\"title\":{\"standoff\":15},\"zerolinecolor\":\"white\",\"automargin\":true,\"zerolinewidth\":2},\"scene\":{\"xaxis\":{\"backgroundcolor\":\"#E5ECF6\",\"gridcolor\":\"white\",\"linecolor\":\"white\",\"showbackground\":true,\"ticks\":\"\",\"zerolinecolor\":\"white\",\"gridwidth\":2},\"yaxis\":{\"backgroundcolor\":\"#E5ECF6\",\"gridcolor\":\"white\",\"linecolor\":\"white\",\"showbackground\":true,\"ticks\":\"\",\"zerolinecolor\":\"white\",\"gridwidth\":2},\"zaxis\":{\"backgroundcolor\":\"#E5ECF6\",\"gridcolor\":\"white\",\"linecolor\":\"white\",\"showbackground\":true,\"ticks\":\"\",\"zerolinecolor\":\"white\",\"gridwidth\":2}},\"shapedefaults\":{\"line\":{\"color\":\"#2a3f5f\"}},\"annotationdefaults\":{\"arrowcolor\":\"#2a3f5f\",\"arrowhead\":0,\"arrowwidth\":1},\"geo\":{\"bgcolor\":\"white\",\"landcolor\":\"#E5ECF6\",\"subunitcolor\":\"white\",\"showland\":true,\"showlakes\":true,\"lakecolor\":\"white\"},\"title\":{\"x\":0.05},\"mapbox\":{\"style\":\"light\"}}},\"xaxis\":{\"anchor\":\"y\",\"domain\":[0.0,1.0],\"title\":{\"text\":\"Visit Month\"}},\"yaxis\":{\"anchor\":\"x\",\"domain\":[0.0,1.0],\"title\":{\"text\":\"count\"}},\"legend\":{\"title\":{\"text\":\"Clinical State on Medication UPD23B\"},\"tracegroupgap\":0},\"title\":{\"text\":\"Count of Visit Month\",\"font\":{\"size\":15}},\"barmode\":\"relative\",\"height\":500,\"width\":1000},                        {\"responsive\": true}                    ).then(function(){\n",
       "                            \n",
       "var gd = document.getElementById('14aa50af-1be8-477f-ba91-4b0d0012b592');\n",
       "var x = new MutationObserver(function (mutations, observer) {{\n",
       "        var display = window.getComputedStyle(gd).display;\n",
       "        if (!display || display === 'none') {{\n",
       "            console.log([gd, 'removed!']);\n",
       "            Plotly.purge(gd);\n",
       "            observer.disconnect();\n",
       "        }}\n",
       "}});\n",
       "\n",
       "// Listen for the removal of the full notebook cells\n",
       "var notebookContainer = gd.closest('#notebook-container');\n",
       "if (notebookContainer) {{\n",
       "    x.observe(notebookContainer, {childList: true});\n",
       "}}\n",
       "\n",
       "// Listen for the clearing of the current output cell\n",
       "var outputEl = gd.closest('.output');\n",
       "if (outputEl) {{\n",
       "    x.observe(outputEl, {childList: true});\n",
       "}}\n",
       "\n",
       "                        })                };                });            </script>        </div>"
      ]
     },
     "metadata": {},
     "output_type": "display_data"
    }
   ],
   "source": [
    "fig=px.histogram(train_clinical,\n",
    "                 x = 'Visit Month',\n",
    "                 color = 'Clinical State on Medication UPD23B',\n",
    "                 title=\"Count of Visit Month\",\n",
    "                 color_discrete_sequence=px.colors.qualitative.Vivid,\n",
    "                 width=1000, height=500)\n",
    "fig.update_layout(title_font_size=15)\n",
    "fig.show()"
   ]
  },
  {
   "cell_type": "code",
   "execution_count": 33,
   "id": "2f6bfd58",
   "metadata": {},
   "outputs": [
    {
     "data": {
      "application/vnd.plotly.v1+json": {
       "config": {
        "plotlyServerURL": "https://plot.ly"
       },
       "data": [
        {
         "alignmentgroup": "True",
         "bingroup": "x",
         "hovertemplate": "Clinical State on Medication UPD23B=On<br>UPDRS 1=%{x}<br>count=%{y}<extra></extra>",
         "legendgroup": "On",
         "marker": {
          "color": "rgb(93, 105, 177)",
          "pattern": {
           "shape": ""
          }
         },
         "name": "On",
         "offsetgroup": "On",
         "orientation": "v",
         "showlegend": true,
         "type": "histogram",
         "x": [
          8,
          10,
          7,
          16,
          14,
          17,
          12,
          17,
          12,
          23,
          11,
          17,
          20,
          23,
          19,
          20,
          15,
          8,
          9,
          7,
          9,
          10,
          8,
          9,
          11,
          9,
          11,
          12,
          11,
          15,
          2,
          6,
          6,
          7,
          4,
          7,
          6,
          7,
          7,
          9,
          6,
          7,
          7,
          9,
          7,
          5,
          4,
          1,
          5,
          9,
          10,
          21,
          10,
          12,
          12,
          15,
          15,
          15,
          17,
          15,
          1,
          0,
          5,
          5,
          5,
          8,
          4,
          7,
          10,
          9,
          7,
          6,
          5,
          5,
          5,
          4,
          6,
          6,
          8,
          13,
          17,
          21,
          13,
          12,
          11,
          12,
          15,
          8,
          2,
          3,
          6,
          4,
          10,
          5,
          5,
          11,
          11,
          18,
          17,
          15,
          14,
          15,
          15,
          14,
          14,
          13,
          13,
          12,
          14,
          4,
          10,
          8,
          7,
          5,
          8,
          8,
          2,
          1,
          5,
          5,
          3,
          2,
          4,
          4,
          4,
          7,
          6,
          4,
          6,
          6,
          12,
          10,
          15,
          10,
          3,
          6,
          5,
          8,
          8,
          5,
          8,
          7,
          7,
          15,
          21,
          3,
          5,
          6,
          11,
          13,
          21,
          14,
          26,
          17,
          16,
          15,
          8,
          13,
          11,
          11,
          9,
          2,
          10,
          3,
          3,
          3,
          2,
          8,
          6,
          12,
          13,
          14,
          8,
          10,
          11,
          6,
          17,
          15,
          12,
          5,
          5,
          5,
          12,
          7,
          12,
          19,
          9,
          17,
          9,
          17,
          16,
          22,
          19,
          23,
          9,
          13,
          17,
          5,
          7,
          9,
          12,
          16,
          19,
          11,
          12,
          10,
          14,
          25,
          27,
          22,
          3,
          5,
          10,
          1,
          5,
          10,
          1,
          0,
          1,
          1,
          2,
          0,
          0,
          1,
          6,
          4,
          7,
          2,
          2,
          7,
          5,
          1,
          4,
          1,
          1,
          9,
          1,
          2,
          3,
          4,
          3,
          1,
          23,
          20,
          13,
          26,
          7,
          6,
          8,
          10,
          7,
          10,
          9,
          11,
          1,
          6,
          8,
          12,
          3,
          2,
          6,
          1,
          3,
          6,
          1,
          2,
          3,
          3,
          16,
          15,
          11,
          21,
          20,
          18,
          25,
          19,
          20,
          2,
          5,
          5,
          1,
          9,
          9,
          6,
          5,
          5,
          1,
          11,
          10,
          17,
          19,
          11,
          1,
          4,
          4,
          9,
          8,
          11,
          4,
          7,
          5,
          6,
          9,
          7,
          8,
          5,
          12,
          5,
          7,
          8,
          6,
          7,
          12,
          13,
          17,
          13,
          16,
          21,
          6,
          7,
          4,
          6,
          8,
          8,
          10,
          3,
          4,
          6,
          8,
          8,
          12,
          5,
          14,
          17,
          11,
          8,
          13,
          5,
          8,
          7,
          13,
          11,
          6,
          8,
          10,
          8,
          7,
          11,
          8,
          8,
          7,
          9,
          9,
          10,
          5,
          9,
          10,
          12,
          9,
          9,
          5,
          4,
          1,
          13,
          15,
          14,
          8,
          10,
          4,
          5,
          4,
          5,
          5,
          1,
          11,
          12,
          12,
          13,
          14,
          0,
          5,
          1,
          4,
          1,
          2,
          0,
          11,
          13,
          15,
          14,
          14,
          17,
          7,
          3,
          2,
          2,
          8,
          10,
          11,
          3,
          9,
          10,
          11,
          12,
          10,
          12,
          10,
          11,
          5,
          9,
          15,
          10,
          21,
          14,
          8,
          6,
          2,
          16,
          18,
          16,
          18,
          21,
          25,
          31,
          5,
          18,
          8,
          19,
          17,
          20,
          10,
          9,
          6,
          5,
          10,
          12,
          11,
          14,
          6,
          8,
          8,
          12,
          9,
          9,
          10,
          10,
          8,
          12,
          4,
          5,
          4,
          15,
          15,
          16,
          16,
          17,
          22,
          0,
          1,
          0,
          2,
          3,
          0,
          4,
          3,
          5,
          0,
          1,
          2,
          2,
          12,
          13,
          16,
          18,
          23,
          25,
          17,
          18,
          27,
          24,
          16,
          18,
          16,
          19,
          10,
          14,
          13,
          5,
          14,
          16,
          16,
          25,
          15,
          20,
          2,
          13,
          11,
          9,
          10,
          5,
          11,
          7,
          6,
          13,
          4,
          3,
          7,
          6,
          6,
          10,
          11,
          8,
          3,
          7,
          6,
          10,
          4,
          8,
          5,
          7,
          5,
          7,
          15,
          16,
          11,
          21,
          20,
          31,
          19,
          28,
          26,
          28,
          18,
          27,
          29,
          26,
          9,
          12,
          14,
          11,
          11,
          11,
          8,
          16,
          9,
          10,
          16,
          17,
          4,
          5,
          5,
          6,
          1,
          12,
          7,
          9,
          10,
          10,
          17,
          5,
          2,
          2,
          4,
          3,
          3,
          13,
          10,
          12,
          16,
          4,
          7,
          4,
          2,
          6,
          10,
          3,
          9,
          7,
          4,
          7,
          6,
          7,
          7,
          11,
          8,
          14,
          20,
          18,
          12,
          15,
          0,
          0,
          8,
          8,
          8,
          7,
          2,
          2,
          4,
          7,
          4,
          22,
          1,
          3,
          5,
          15,
          9,
          19,
          16,
          16,
          16,
          4,
          8,
          7,
          16,
          9,
          13,
          13,
          9,
          12,
          8,
          15,
          14,
          4,
          1,
          4,
          8,
          7,
          12,
          4,
          13,
          17,
          27,
          10,
          6,
          14,
          14,
          15,
          18,
          23,
          4,
          6,
          10,
          8,
          5,
          9,
          8,
          9,
          8,
          11,
          0,
          9,
          7,
          14,
          12,
          5,
          8,
          4,
          5,
          7,
          11,
          9,
          9,
          5,
          12,
          4,
          7,
          8,
          14,
          15,
          5,
          15,
          15,
          10,
          5,
          14,
          7,
          10,
          5,
          8,
          6,
          7,
          8,
          6,
          12,
          16,
          5,
          9,
          7,
          7,
          8,
          7,
          6,
          6,
          13,
          10,
          16,
          12,
          9,
          9,
          10,
          12,
          10,
          13,
          11,
          9,
          18,
          17,
          14,
          13,
          16,
          17,
          19,
          22,
          26,
          15,
          8,
          14,
          6,
          13,
          12,
          7,
          8,
          17,
          13,
          1,
          1,
          14,
          16,
          20,
          12,
          7,
          7,
          8,
          5,
          1,
          8,
          11,
          10,
          9,
          10,
          9,
          8,
          7,
          7,
          5,
          7,
          17,
          23,
          20,
          20,
          1,
          0,
          0,
          1,
          1,
          1,
          2,
          1,
          2,
          8,
          5,
          5,
          12,
          12,
          15,
          19,
          20,
          20,
          15,
          15,
          16,
          11,
          9,
          2
         ],
         "xaxis": "x",
         "yaxis": "y"
        },
        {
         "alignmentgroup": "True",
         "bingroup": "x",
         "hovertemplate": "Clinical State on Medication UPD23B=Off<br>UPDRS 1=%{x}<br>count=%{y}<extra></extra>",
         "legendgroup": "Off",
         "marker": {
          "color": "rgb(82, 188, 163)",
          "pattern": {
           "shape": ""
          }
         },
         "name": "Off",
         "offsetgroup": "Off",
         "orientation": "v",
         "showlegend": true,
         "type": "histogram",
         "x": [
          4,
          4,
          6,
          20,
          20,
          19,
          11,
          13,
          14,
          11,
          10,
          7,
          7,
          15,
          10,
          17,
          25,
          16,
          20,
          17,
          14,
          6,
          6,
          5,
          14,
          17,
          8,
          10,
          6,
          8,
          11,
          6,
          5,
          9,
          11,
          12,
          14,
          15,
          1,
          2,
          0,
          5,
          8,
          8,
          2,
          7,
          6,
          8,
          9,
          9,
          5,
          6,
          5,
          9,
          12,
          5,
          6,
          2,
          4,
          5,
          4,
          5,
          14,
          11,
          6,
          7,
          2,
          7,
          6,
          9,
          6,
          8,
          2,
          4,
          2,
          6,
          12,
          17,
          9,
          9,
          12,
          10,
          12,
          19,
          9,
          13,
          15,
          19,
          18,
          12,
          2,
          4,
          1,
          3,
          8,
          4,
          4,
          5,
          5,
          4,
          8,
          7,
          4,
          10,
          18,
          9,
          9,
          12,
          10,
          9,
          13,
          9,
          4,
          7,
          9,
          9,
          14,
          11,
          11,
          15,
          2,
          8,
          11,
          4,
          6,
          9,
          3,
          6,
          11,
          9,
          4,
          2,
          4,
          3,
          6,
          3,
          4,
          6,
          5,
          7,
          10,
          7,
          7,
          5,
          4,
          1,
          2,
          2,
          5,
          1,
          0,
          0,
          3,
          1,
          4,
          8,
          20,
          20,
          11,
          8,
          9,
          11,
          5,
          2,
          7,
          13,
          6,
          5,
          4,
          8,
          0,
          2,
          1,
          8,
          12,
          16,
          18,
          5,
          0,
          1,
          2,
          2,
          5,
          5,
          8,
          9,
          0,
          3,
          3,
          5,
          5,
          5,
          13,
          10,
          8,
          12,
          12,
          15,
          7,
          8,
          7,
          4,
          10,
          10,
          16,
          15,
          21,
          14,
          5,
          10,
          6,
          9,
          3,
          10,
          14,
          7,
          3,
          4,
          5,
          4,
          1,
          6,
          6,
          14,
          14,
          8,
          8,
          9,
          8,
          11,
          12,
          18,
          9,
          4,
          9,
          4,
          12,
          21,
          14,
          17,
          6,
          6,
          11,
          6,
          8,
          2,
          5,
          4,
          4,
          8,
          5,
          7,
          7,
          5,
          11,
          7,
          12,
          15,
          8,
          2,
          9,
          7,
          7,
          3,
          6,
          6,
          7,
          16,
          16,
          15,
          16,
          7,
          5,
          9,
          18,
          16,
          9,
          12,
          13,
          11,
          19,
          18,
          12,
          15,
          25,
          8,
          7,
          5,
          6,
          5,
          6,
          7,
          8,
          4,
          13,
          12,
          18,
          14,
          0,
          3,
          8,
          5,
          3,
          14,
          10,
          6,
          6,
          16,
          15,
          3,
          9,
          11,
          12,
          14,
          15,
          21,
          16,
          22,
          20,
          28,
          25,
          23,
          28,
          23,
          31,
          20,
          12,
          13,
          16,
          15,
          17,
          15,
          10,
          5,
          8,
          7,
          2,
          5,
          4,
          6,
          2,
          3,
          3,
          6,
          3,
          4,
          6,
          11,
          11,
          9,
          8,
          9,
          5,
          5,
          4,
          6,
          6,
          9,
          10,
          11,
          9,
          13,
          0,
          1,
          0,
          8,
          6,
          8,
          9,
          8,
          9,
          8,
          5,
          2,
          1,
          5,
          6,
          19,
          18,
          16,
          10,
          6,
          8,
          6,
          5,
          5,
          9,
          5,
          8,
          4,
          10,
          15,
          6,
          7,
          11,
          8,
          12,
          1,
          6,
          5,
          7,
          5,
          14,
          14,
          15,
          20,
          26,
          26,
          20,
          9,
          7,
          4,
          3,
          2,
          2,
          2,
          6,
          7,
          8,
          5,
          1,
          5,
          3,
          3,
          4,
          2,
          3,
          10,
          7,
          9,
          9,
          10,
          8,
          11,
          7,
          6,
          5,
          4,
          6,
          7,
          8,
          13,
          13,
          10,
          12,
          8,
          10,
          6,
          8,
          12,
          11,
          9,
          1,
          8,
          9,
          10,
          5,
          7,
          11,
          13,
          5,
          2,
          3,
          3,
          7,
          11,
          13,
          17,
          19,
          15,
          18,
          20,
          26,
          10,
          5,
          11,
          4,
          6,
          8,
          6,
          9,
          11,
          6,
          6,
          8,
          4,
          8,
          10,
          20,
          8,
          7,
          8,
          8,
          8,
          5,
          6,
          23,
          18,
          15,
          14,
          10,
          11,
          10,
          4,
          6,
          3,
          2,
          9,
          7,
          4,
          6,
          3,
          7
         ],
         "xaxis": "x",
         "yaxis": "y"
        }
       ],
       "layout": {
        "barmode": "relative",
        "height": 500,
        "legend": {
         "title": {
          "text": "Clinical State on Medication UPD23B"
         },
         "tracegroupgap": 0
        },
        "template": {
         "data": {
          "bar": [
           {
            "error_x": {
             "color": "#2a3f5f"
            },
            "error_y": {
             "color": "#2a3f5f"
            },
            "marker": {
             "line": {
              "color": "#E5ECF6",
              "width": 0.5
             },
             "pattern": {
              "fillmode": "overlay",
              "size": 10,
              "solidity": 0.2
             }
            },
            "type": "bar"
           }
          ],
          "barpolar": [
           {
            "marker": {
             "line": {
              "color": "#E5ECF6",
              "width": 0.5
             },
             "pattern": {
              "fillmode": "overlay",
              "size": 10,
              "solidity": 0.2
             }
            },
            "type": "barpolar"
           }
          ],
          "carpet": [
           {
            "aaxis": {
             "endlinecolor": "#2a3f5f",
             "gridcolor": "white",
             "linecolor": "white",
             "minorgridcolor": "white",
             "startlinecolor": "#2a3f5f"
            },
            "baxis": {
             "endlinecolor": "#2a3f5f",
             "gridcolor": "white",
             "linecolor": "white",
             "minorgridcolor": "white",
             "startlinecolor": "#2a3f5f"
            },
            "type": "carpet"
           }
          ],
          "choropleth": [
           {
            "colorbar": {
             "outlinewidth": 0,
             "ticks": ""
            },
            "type": "choropleth"
           }
          ],
          "contour": [
           {
            "colorbar": {
             "outlinewidth": 0,
             "ticks": ""
            },
            "colorscale": [
             [
              0,
              "#0d0887"
             ],
             [
              0.1111111111111111,
              "#46039f"
             ],
             [
              0.2222222222222222,
              "#7201a8"
             ],
             [
              0.3333333333333333,
              "#9c179e"
             ],
             [
              0.4444444444444444,
              "#bd3786"
             ],
             [
              0.5555555555555556,
              "#d8576b"
             ],
             [
              0.6666666666666666,
              "#ed7953"
             ],
             [
              0.7777777777777778,
              "#fb9f3a"
             ],
             [
              0.8888888888888888,
              "#fdca26"
             ],
             [
              1,
              "#f0f921"
             ]
            ],
            "type": "contour"
           }
          ],
          "contourcarpet": [
           {
            "colorbar": {
             "outlinewidth": 0,
             "ticks": ""
            },
            "type": "contourcarpet"
           }
          ],
          "heatmap": [
           {
            "colorbar": {
             "outlinewidth": 0,
             "ticks": ""
            },
            "colorscale": [
             [
              0,
              "#0d0887"
             ],
             [
              0.1111111111111111,
              "#46039f"
             ],
             [
              0.2222222222222222,
              "#7201a8"
             ],
             [
              0.3333333333333333,
              "#9c179e"
             ],
             [
              0.4444444444444444,
              "#bd3786"
             ],
             [
              0.5555555555555556,
              "#d8576b"
             ],
             [
              0.6666666666666666,
              "#ed7953"
             ],
             [
              0.7777777777777778,
              "#fb9f3a"
             ],
             [
              0.8888888888888888,
              "#fdca26"
             ],
             [
              1,
              "#f0f921"
             ]
            ],
            "type": "heatmap"
           }
          ],
          "heatmapgl": [
           {
            "colorbar": {
             "outlinewidth": 0,
             "ticks": ""
            },
            "colorscale": [
             [
              0,
              "#0d0887"
             ],
             [
              0.1111111111111111,
              "#46039f"
             ],
             [
              0.2222222222222222,
              "#7201a8"
             ],
             [
              0.3333333333333333,
              "#9c179e"
             ],
             [
              0.4444444444444444,
              "#bd3786"
             ],
             [
              0.5555555555555556,
              "#d8576b"
             ],
             [
              0.6666666666666666,
              "#ed7953"
             ],
             [
              0.7777777777777778,
              "#fb9f3a"
             ],
             [
              0.8888888888888888,
              "#fdca26"
             ],
             [
              1,
              "#f0f921"
             ]
            ],
            "type": "heatmapgl"
           }
          ],
          "histogram": [
           {
            "marker": {
             "pattern": {
              "fillmode": "overlay",
              "size": 10,
              "solidity": 0.2
             }
            },
            "type": "histogram"
           }
          ],
          "histogram2d": [
           {
            "colorbar": {
             "outlinewidth": 0,
             "ticks": ""
            },
            "colorscale": [
             [
              0,
              "#0d0887"
             ],
             [
              0.1111111111111111,
              "#46039f"
             ],
             [
              0.2222222222222222,
              "#7201a8"
             ],
             [
              0.3333333333333333,
              "#9c179e"
             ],
             [
              0.4444444444444444,
              "#bd3786"
             ],
             [
              0.5555555555555556,
              "#d8576b"
             ],
             [
              0.6666666666666666,
              "#ed7953"
             ],
             [
              0.7777777777777778,
              "#fb9f3a"
             ],
             [
              0.8888888888888888,
              "#fdca26"
             ],
             [
              1,
              "#f0f921"
             ]
            ],
            "type": "histogram2d"
           }
          ],
          "histogram2dcontour": [
           {
            "colorbar": {
             "outlinewidth": 0,
             "ticks": ""
            },
            "colorscale": [
             [
              0,
              "#0d0887"
             ],
             [
              0.1111111111111111,
              "#46039f"
             ],
             [
              0.2222222222222222,
              "#7201a8"
             ],
             [
              0.3333333333333333,
              "#9c179e"
             ],
             [
              0.4444444444444444,
              "#bd3786"
             ],
             [
              0.5555555555555556,
              "#d8576b"
             ],
             [
              0.6666666666666666,
              "#ed7953"
             ],
             [
              0.7777777777777778,
              "#fb9f3a"
             ],
             [
              0.8888888888888888,
              "#fdca26"
             ],
             [
              1,
              "#f0f921"
             ]
            ],
            "type": "histogram2dcontour"
           }
          ],
          "mesh3d": [
           {
            "colorbar": {
             "outlinewidth": 0,
             "ticks": ""
            },
            "type": "mesh3d"
           }
          ],
          "parcoords": [
           {
            "line": {
             "colorbar": {
              "outlinewidth": 0,
              "ticks": ""
             }
            },
            "type": "parcoords"
           }
          ],
          "pie": [
           {
            "automargin": true,
            "type": "pie"
           }
          ],
          "scatter": [
           {
            "fillpattern": {
             "fillmode": "overlay",
             "size": 10,
             "solidity": 0.2
            },
            "type": "scatter"
           }
          ],
          "scatter3d": [
           {
            "line": {
             "colorbar": {
              "outlinewidth": 0,
              "ticks": ""
             }
            },
            "marker": {
             "colorbar": {
              "outlinewidth": 0,
              "ticks": ""
             }
            },
            "type": "scatter3d"
           }
          ],
          "scattercarpet": [
           {
            "marker": {
             "colorbar": {
              "outlinewidth": 0,
              "ticks": ""
             }
            },
            "type": "scattercarpet"
           }
          ],
          "scattergeo": [
           {
            "marker": {
             "colorbar": {
              "outlinewidth": 0,
              "ticks": ""
             }
            },
            "type": "scattergeo"
           }
          ],
          "scattergl": [
           {
            "marker": {
             "colorbar": {
              "outlinewidth": 0,
              "ticks": ""
             }
            },
            "type": "scattergl"
           }
          ],
          "scattermapbox": [
           {
            "marker": {
             "colorbar": {
              "outlinewidth": 0,
              "ticks": ""
             }
            },
            "type": "scattermapbox"
           }
          ],
          "scatterpolar": [
           {
            "marker": {
             "colorbar": {
              "outlinewidth": 0,
              "ticks": ""
             }
            },
            "type": "scatterpolar"
           }
          ],
          "scatterpolargl": [
           {
            "marker": {
             "colorbar": {
              "outlinewidth": 0,
              "ticks": ""
             }
            },
            "type": "scatterpolargl"
           }
          ],
          "scatterternary": [
           {
            "marker": {
             "colorbar": {
              "outlinewidth": 0,
              "ticks": ""
             }
            },
            "type": "scatterternary"
           }
          ],
          "surface": [
           {
            "colorbar": {
             "outlinewidth": 0,
             "ticks": ""
            },
            "colorscale": [
             [
              0,
              "#0d0887"
             ],
             [
              0.1111111111111111,
              "#46039f"
             ],
             [
              0.2222222222222222,
              "#7201a8"
             ],
             [
              0.3333333333333333,
              "#9c179e"
             ],
             [
              0.4444444444444444,
              "#bd3786"
             ],
             [
              0.5555555555555556,
              "#d8576b"
             ],
             [
              0.6666666666666666,
              "#ed7953"
             ],
             [
              0.7777777777777778,
              "#fb9f3a"
             ],
             [
              0.8888888888888888,
              "#fdca26"
             ],
             [
              1,
              "#f0f921"
             ]
            ],
            "type": "surface"
           }
          ],
          "table": [
           {
            "cells": {
             "fill": {
              "color": "#EBF0F8"
             },
             "line": {
              "color": "white"
             }
            },
            "header": {
             "fill": {
              "color": "#C8D4E3"
             },
             "line": {
              "color": "white"
             }
            },
            "type": "table"
           }
          ]
         },
         "layout": {
          "annotationdefaults": {
           "arrowcolor": "#2a3f5f",
           "arrowhead": 0,
           "arrowwidth": 1
          },
          "autotypenumbers": "strict",
          "coloraxis": {
           "colorbar": {
            "outlinewidth": 0,
            "ticks": ""
           }
          },
          "colorscale": {
           "diverging": [
            [
             0,
             "#8e0152"
            ],
            [
             0.1,
             "#c51b7d"
            ],
            [
             0.2,
             "#de77ae"
            ],
            [
             0.3,
             "#f1b6da"
            ],
            [
             0.4,
             "#fde0ef"
            ],
            [
             0.5,
             "#f7f7f7"
            ],
            [
             0.6,
             "#e6f5d0"
            ],
            [
             0.7,
             "#b8e186"
            ],
            [
             0.8,
             "#7fbc41"
            ],
            [
             0.9,
             "#4d9221"
            ],
            [
             1,
             "#276419"
            ]
           ],
           "sequential": [
            [
             0,
             "#0d0887"
            ],
            [
             0.1111111111111111,
             "#46039f"
            ],
            [
             0.2222222222222222,
             "#7201a8"
            ],
            [
             0.3333333333333333,
             "#9c179e"
            ],
            [
             0.4444444444444444,
             "#bd3786"
            ],
            [
             0.5555555555555556,
             "#d8576b"
            ],
            [
             0.6666666666666666,
             "#ed7953"
            ],
            [
             0.7777777777777778,
             "#fb9f3a"
            ],
            [
             0.8888888888888888,
             "#fdca26"
            ],
            [
             1,
             "#f0f921"
            ]
           ],
           "sequentialminus": [
            [
             0,
             "#0d0887"
            ],
            [
             0.1111111111111111,
             "#46039f"
            ],
            [
             0.2222222222222222,
             "#7201a8"
            ],
            [
             0.3333333333333333,
             "#9c179e"
            ],
            [
             0.4444444444444444,
             "#bd3786"
            ],
            [
             0.5555555555555556,
             "#d8576b"
            ],
            [
             0.6666666666666666,
             "#ed7953"
            ],
            [
             0.7777777777777778,
             "#fb9f3a"
            ],
            [
             0.8888888888888888,
             "#fdca26"
            ],
            [
             1,
             "#f0f921"
            ]
           ]
          },
          "colorway": [
           "#636efa",
           "#EF553B",
           "#00cc96",
           "#ab63fa",
           "#FFA15A",
           "#19d3f3",
           "#FF6692",
           "#B6E880",
           "#FF97FF",
           "#FECB52"
          ],
          "font": {
           "color": "#2a3f5f"
          },
          "geo": {
           "bgcolor": "white",
           "lakecolor": "white",
           "landcolor": "#E5ECF6",
           "showlakes": true,
           "showland": true,
           "subunitcolor": "white"
          },
          "hoverlabel": {
           "align": "left"
          },
          "hovermode": "closest",
          "mapbox": {
           "style": "light"
          },
          "paper_bgcolor": "white",
          "plot_bgcolor": "#E5ECF6",
          "polar": {
           "angularaxis": {
            "gridcolor": "white",
            "linecolor": "white",
            "ticks": ""
           },
           "bgcolor": "#E5ECF6",
           "radialaxis": {
            "gridcolor": "white",
            "linecolor": "white",
            "ticks": ""
           }
          },
          "scene": {
           "xaxis": {
            "backgroundcolor": "#E5ECF6",
            "gridcolor": "white",
            "gridwidth": 2,
            "linecolor": "white",
            "showbackground": true,
            "ticks": "",
            "zerolinecolor": "white"
           },
           "yaxis": {
            "backgroundcolor": "#E5ECF6",
            "gridcolor": "white",
            "gridwidth": 2,
            "linecolor": "white",
            "showbackground": true,
            "ticks": "",
            "zerolinecolor": "white"
           },
           "zaxis": {
            "backgroundcolor": "#E5ECF6",
            "gridcolor": "white",
            "gridwidth": 2,
            "linecolor": "white",
            "showbackground": true,
            "ticks": "",
            "zerolinecolor": "white"
           }
          },
          "shapedefaults": {
           "line": {
            "color": "#2a3f5f"
           }
          },
          "ternary": {
           "aaxis": {
            "gridcolor": "white",
            "linecolor": "white",
            "ticks": ""
           },
           "baxis": {
            "gridcolor": "white",
            "linecolor": "white",
            "ticks": ""
           },
           "bgcolor": "#E5ECF6",
           "caxis": {
            "gridcolor": "white",
            "linecolor": "white",
            "ticks": ""
           }
          },
          "title": {
           "x": 0.05
          },
          "xaxis": {
           "automargin": true,
           "gridcolor": "white",
           "linecolor": "white",
           "ticks": "",
           "title": {
            "standoff": 15
           },
           "zerolinecolor": "white",
           "zerolinewidth": 2
          },
          "yaxis": {
           "automargin": true,
           "gridcolor": "white",
           "linecolor": "white",
           "ticks": "",
           "title": {
            "standoff": 15
           },
           "zerolinecolor": "white",
           "zerolinewidth": 2
          }
         }
        },
        "title": {
         "font": {
          "size": 15
         },
         "text": "Count of UPDR 1 Scores of Parkinson’s Disease Patients"
        },
        "width": 800,
        "xaxis": {
         "anchor": "y",
         "domain": [
          0,
          1
         ],
         "title": {
          "text": "UPDRS 1"
         }
        },
        "yaxis": {
         "anchor": "x",
         "domain": [
          0,
          1
         ],
         "title": {
          "text": "count"
         }
        }
       }
      },
      "text/html": [
       "<div>                            <div id=\"5005de98-bc68-44f0-914b-55a30d5ee8df\" class=\"plotly-graph-div\" style=\"height:500px; width:800px;\"></div>            <script type=\"text/javascript\">                require([\"plotly\"], function(Plotly) {                    window.PLOTLYENV=window.PLOTLYENV || {};                                    if (document.getElementById(\"5005de98-bc68-44f0-914b-55a30d5ee8df\")) {                    Plotly.newPlot(                        \"5005de98-bc68-44f0-914b-55a30d5ee8df\",                        [{\"alignmentgroup\":\"True\",\"bingroup\":\"x\",\"hovertemplate\":\"Clinical State on Medication UPD23B=On<br>UPDRS 1=%{x}<br>count=%{y}<extra></extra>\",\"legendgroup\":\"On\",\"marker\":{\"color\":\"rgb(93, 105, 177)\",\"pattern\":{\"shape\":\"\"}},\"name\":\"On\",\"offsetgroup\":\"On\",\"orientation\":\"v\",\"showlegend\":true,\"x\":[8.0,10.0,7.0,16.0,14.0,17.0,12.0,17.0,12.0,23.0,11.0,17.0,20.0,23.0,19.0,20.0,15.0,8.0,9.0,7.0,9.0,10.0,8.0,9.0,11.0,9.0,11.0,12.0,11.0,15.0,2.0,6.0,6.0,7.0,4.0,7.0,6.0,7.0,7.0,9.0,6.0,7.0,7.0,9.0,7.0,5.0,4.0,1.0,5.0,9.0,10.0,21.0,10.0,12.0,12.0,15.0,15.0,15.0,17.0,15.0,1.0,0.0,5.0,5.0,5.0,8.0,4.0,7.0,10.0,9.0,7.0,6.0,5.0,5.0,5.0,4.0,6.0,6.0,8.0,13.0,17.0,21.0,13.0,12.0,11.0,12.0,15.0,8.0,2.0,3.0,6.0,4.0,10.0,5.0,5.0,11.0,11.0,18.0,17.0,15.0,14.0,15.0,15.0,14.0,14.0,13.0,13.0,12.0,14.0,4.0,10.0,8.0,7.0,5.0,8.0,8.0,2.0,1.0,5.0,5.0,3.0,2.0,4.0,4.0,4.0,7.0,6.0,4.0,6.0,6.0,12.0,10.0,15.0,10.0,3.0,6.0,5.0,8.0,8.0,5.0,8.0,7.0,7.0,15.0,21.0,3.0,5.0,6.0,11.0,13.0,21.0,14.0,26.0,17.0,16.0,15.0,8.0,13.0,11.0,11.0,9.0,2.0,10.0,3.0,3.0,3.0,2.0,8.0,6.0,12.0,13.0,14.0,8.0,10.0,11.0,6.0,17.0,15.0,12.0,5.0,5.0,5.0,12.0,7.0,12.0,19.0,9.0,17.0,9.0,17.0,16.0,22.0,19.0,23.0,9.0,13.0,17.0,5.0,7.0,9.0,12.0,16.0,19.0,11.0,12.0,10.0,14.0,25.0,27.0,22.0,3.0,5.0,10.0,1.0,5.0,10.0,1.0,0.0,1.0,1.0,2.0,0.0,0.0,1.0,6.0,4.0,7.0,2.0,2.0,7.0,5.0,1.0,4.0,1.0,1.0,9.0,1.0,2.0,3.0,4.0,3.0,1.0,23.0,20.0,13.0,26.0,7.0,6.0,8.0,10.0,7.0,10.0,9.0,11.0,1.0,6.0,8.0,12.0,3.0,2.0,6.0,1.0,3.0,6.0,1.0,2.0,3.0,3.0,16.0,15.0,11.0,21.0,20.0,18.0,25.0,19.0,20.0,2.0,5.0,5.0,1.0,9.0,9.0,6.0,5.0,5.0,1.0,11.0,10.0,17.0,19.0,11.0,1.0,4.0,4.0,9.0,8.0,11.0,4.0,7.0,5.0,6.0,9.0,7.0,8.0,5.0,12.0,5.0,7.0,8.0,6.0,7.0,12.0,13.0,17.0,13.0,16.0,21.0,6.0,7.0,4.0,6.0,8.0,8.0,10.0,3.0,4.0,6.0,8.0,8.0,12.0,5.0,14.0,17.0,11.0,8.0,13.0,5.0,8.0,7.0,13.0,11.0,6.0,8.0,10.0,8.0,7.0,11.0,8.0,8.0,7.0,9.0,9.0,10.0,5.0,9.0,10.0,12.0,9.0,9.0,5.0,4.0,1.0,13.0,15.0,14.0,8.0,10.0,4.0,5.0,4.0,5.0,5.0,1.0,11.0,12.0,12.0,13.0,14.0,0.0,5.0,1.0,4.0,1.0,2.0,0.0,11.0,13.0,15.0,14.0,14.0,17.0,7.0,3.0,2.0,2.0,8.0,10.0,11.0,3.0,9.0,10.0,11.0,12.0,10.0,12.0,10.0,11.0,5.0,9.0,15.0,10.0,21.0,14.0,8.0,6.0,2.0,16.0,18.0,16.0,18.0,21.0,25.0,31.0,5.0,18.0,8.0,19.0,17.0,20.0,10.0,9.0,6.0,5.0,10.0,12.0,11.0,14.0,6.0,8.0,8.0,12.0,9.0,9.0,10.0,10.0,8.0,12.0,4.0,5.0,4.0,15.0,15.0,16.0,16.0,17.0,22.0,0.0,1.0,0.0,2.0,3.0,0.0,4.0,3.0,5.0,0.0,1.0,2.0,2.0,12.0,13.0,16.0,18.0,23.0,25.0,17.0,18.0,27.0,24.0,16.0,18.0,16.0,19.0,10.0,14.0,13.0,5.0,14.0,16.0,16.0,25.0,15.0,20.0,2.0,13.0,11.0,9.0,10.0,5.0,11.0,7.0,6.0,13.0,4.0,3.0,7.0,6.0,6.0,10.0,11.0,8.0,3.0,7.0,6.0,10.0,4.0,8.0,5.0,7.0,5.0,7.0,15.0,16.0,11.0,21.0,20.0,31.0,19.0,28.0,26.0,28.0,18.0,27.0,29.0,26.0,9.0,12.0,14.0,11.0,11.0,11.0,8.0,16.0,9.0,10.0,16.0,17.0,4.0,5.0,5.0,6.0,1.0,12.0,7.0,9.0,10.0,10.0,17.0,5.0,2.0,2.0,4.0,3.0,3.0,13.0,10.0,12.0,16.0,4.0,7.0,4.0,2.0,6.0,10.0,3.0,9.0,7.0,4.0,7.0,6.0,7.0,7.0,11.0,8.0,14.0,20.0,18.0,12.0,15.0,0.0,0.0,8.0,8.0,8.0,7.0,2.0,2.0,4.0,7.0,4.0,22.0,1.0,3.0,5.0,15.0,9.0,19.0,16.0,16.0,16.0,4.0,8.0,7.0,16.0,9.0,13.0,13.0,9.0,12.0,8.0,15.0,14.0,4.0,1.0,4.0,8.0,7.0,12.0,4.0,13.0,17.0,27.0,10.0,6.0,14.0,14.0,15.0,18.0,23.0,4.0,6.0,10.0,8.0,5.0,9.0,8.0,9.0,8.0,11.0,0.0,9.0,7.0,14.0,12.0,5.0,8.0,4.0,5.0,7.0,11.0,9.0,9.0,5.0,12.0,4.0,7.0,8.0,14.0,15.0,5.0,15.0,15.0,10.0,5.0,14.0,7.0,10.0,5.0,8.0,6.0,7.0,8.0,6.0,12.0,16.0,5.0,9.0,7.0,7.0,8.0,7.0,6.0,6.0,13.0,10.0,16.0,12.0,9.0,9.0,10.0,12.0,10.0,13.0,11.0,9.0,18.0,17.0,14.0,13.0,16.0,17.0,19.0,22.0,26.0,15.0,8.0,14.0,6.0,13.0,12.0,7.0,8.0,17.0,13.0,1.0,1.0,14.0,16.0,20.0,12.0,7.0,7.0,8.0,5.0,1.0,8.0,11.0,10.0,9.0,10.0,9.0,8.0,7.0,7.0,5.0,7.0,17.0,23.0,20.0,20.0,1.0,0.0,0.0,1.0,1.0,1.0,2.0,1.0,2.0,8.0,5.0,5.0,12.0,12.0,15.0,19.0,20.0,20.0,15.0,15.0,16.0,11.0,9.0,2.0],\"xaxis\":\"x\",\"yaxis\":\"y\",\"type\":\"histogram\"},{\"alignmentgroup\":\"True\",\"bingroup\":\"x\",\"hovertemplate\":\"Clinical State on Medication UPD23B=Off<br>UPDRS 1=%{x}<br>count=%{y}<extra></extra>\",\"legendgroup\":\"Off\",\"marker\":{\"color\":\"rgb(82, 188, 163)\",\"pattern\":{\"shape\":\"\"}},\"name\":\"Off\",\"offsetgroup\":\"Off\",\"orientation\":\"v\",\"showlegend\":true,\"x\":[4.0,4.0,6.0,20.0,20.0,19.0,11.0,13.0,14.0,11.0,10.0,7.0,7.0,15.0,10.0,17.0,25.0,16.0,20.0,17.0,14.0,6.0,6.0,5.0,14.0,17.0,8.0,10.0,6.0,8.0,11.0,6.0,5.0,9.0,11.0,12.0,14.0,15.0,1.0,2.0,0.0,5.0,8.0,8.0,2.0,7.0,6.0,8.0,9.0,9.0,5.0,6.0,5.0,9.0,12.0,5.0,6.0,2.0,4.0,5.0,4.0,5.0,14.0,11.0,6.0,7.0,2.0,7.0,6.0,9.0,6.0,8.0,2.0,4.0,2.0,6.0,12.0,17.0,9.0,9.0,12.0,10.0,12.0,19.0,9.0,13.0,15.0,19.0,18.0,12.0,2.0,4.0,1.0,3.0,8.0,4.0,4.0,5.0,5.0,4.0,8.0,7.0,4.0,10.0,18.0,9.0,9.0,12.0,10.0,9.0,13.0,9.0,4.0,7.0,9.0,9.0,14.0,11.0,11.0,15.0,2.0,8.0,11.0,4.0,6.0,9.0,3.0,6.0,11.0,9.0,4.0,2.0,4.0,3.0,6.0,3.0,4.0,6.0,5.0,7.0,10.0,7.0,7.0,5.0,4.0,1.0,2.0,2.0,5.0,1.0,0.0,0.0,3.0,1.0,4.0,8.0,20.0,20.0,11.0,8.0,9.0,11.0,5.0,2.0,7.0,13.0,6.0,5.0,4.0,8.0,0.0,2.0,1.0,8.0,12.0,16.0,18.0,5.0,0.0,1.0,2.0,2.0,5.0,5.0,8.0,9.0,0.0,3.0,3.0,5.0,5.0,5.0,13.0,10.0,8.0,12.0,12.0,15.0,7.0,8.0,7.0,4.0,10.0,10.0,16.0,15.0,21.0,14.0,5.0,10.0,6.0,9.0,3.0,10.0,14.0,7.0,3.0,4.0,5.0,4.0,1.0,6.0,6.0,14.0,14.0,8.0,8.0,9.0,8.0,11.0,12.0,18.0,9.0,4.0,9.0,4.0,12.0,21.0,14.0,17.0,6.0,6.0,11.0,6.0,8.0,2.0,5.0,4.0,4.0,8.0,5.0,7.0,7.0,5.0,11.0,7.0,12.0,15.0,8.0,2.0,9.0,7.0,7.0,3.0,6.0,6.0,7.0,16.0,16.0,15.0,16.0,7.0,5.0,9.0,18.0,16.0,9.0,12.0,13.0,11.0,19.0,18.0,12.0,15.0,25.0,8.0,7.0,5.0,6.0,5.0,6.0,7.0,8.0,4.0,13.0,12.0,18.0,14.0,0.0,3.0,8.0,5.0,3.0,14.0,10.0,6.0,6.0,16.0,15.0,3.0,9.0,11.0,12.0,14.0,15.0,21.0,16.0,22.0,20.0,28.0,25.0,23.0,28.0,23.0,31.0,20.0,12.0,13.0,16.0,15.0,17.0,15.0,10.0,5.0,8.0,7.0,2.0,5.0,4.0,6.0,2.0,3.0,3.0,6.0,3.0,4.0,6.0,11.0,11.0,9.0,8.0,9.0,5.0,5.0,4.0,6.0,6.0,9.0,10.0,11.0,9.0,13.0,0.0,1.0,0.0,8.0,6.0,8.0,9.0,8.0,9.0,8.0,5.0,2.0,1.0,5.0,6.0,19.0,18.0,16.0,10.0,6.0,8.0,6.0,5.0,5.0,9.0,5.0,8.0,4.0,10.0,15.0,6.0,7.0,11.0,8.0,12.0,1.0,6.0,5.0,7.0,5.0,14.0,14.0,15.0,20.0,26.0,26.0,20.0,9.0,7.0,4.0,3.0,2.0,2.0,2.0,6.0,7.0,8.0,5.0,1.0,5.0,3.0,3.0,4.0,2.0,3.0,10.0,7.0,9.0,9.0,10.0,8.0,11.0,7.0,6.0,5.0,4.0,6.0,7.0,8.0,13.0,13.0,10.0,12.0,8.0,10.0,6.0,8.0,12.0,11.0,9.0,1.0,8.0,9.0,10.0,5.0,7.0,11.0,13.0,5.0,2.0,3.0,3.0,7.0,11.0,13.0,17.0,19.0,15.0,18.0,20.0,26.0,10.0,5.0,11.0,4.0,6.0,8.0,6.0,9.0,11.0,6.0,6.0,8.0,4.0,8.0,10.0,20.0,8.0,7.0,8.0,8.0,8.0,5.0,6.0,23.0,18.0,15.0,14.0,10.0,11.0,10.0,4.0,6.0,3.0,2.0,9.0,7.0,4.0,6.0,3.0,7.0],\"xaxis\":\"x\",\"yaxis\":\"y\",\"type\":\"histogram\"}],                        {\"template\":{\"data\":{\"histogram2dcontour\":[{\"type\":\"histogram2dcontour\",\"colorbar\":{\"outlinewidth\":0,\"ticks\":\"\"},\"colorscale\":[[0.0,\"#0d0887\"],[0.1111111111111111,\"#46039f\"],[0.2222222222222222,\"#7201a8\"],[0.3333333333333333,\"#9c179e\"],[0.4444444444444444,\"#bd3786\"],[0.5555555555555556,\"#d8576b\"],[0.6666666666666666,\"#ed7953\"],[0.7777777777777778,\"#fb9f3a\"],[0.8888888888888888,\"#fdca26\"],[1.0,\"#f0f921\"]]}],\"choropleth\":[{\"type\":\"choropleth\",\"colorbar\":{\"outlinewidth\":0,\"ticks\":\"\"}}],\"histogram2d\":[{\"type\":\"histogram2d\",\"colorbar\":{\"outlinewidth\":0,\"ticks\":\"\"},\"colorscale\":[[0.0,\"#0d0887\"],[0.1111111111111111,\"#46039f\"],[0.2222222222222222,\"#7201a8\"],[0.3333333333333333,\"#9c179e\"],[0.4444444444444444,\"#bd3786\"],[0.5555555555555556,\"#d8576b\"],[0.6666666666666666,\"#ed7953\"],[0.7777777777777778,\"#fb9f3a\"],[0.8888888888888888,\"#fdca26\"],[1.0,\"#f0f921\"]]}],\"heatmap\":[{\"type\":\"heatmap\",\"colorbar\":{\"outlinewidth\":0,\"ticks\":\"\"},\"colorscale\":[[0.0,\"#0d0887\"],[0.1111111111111111,\"#46039f\"],[0.2222222222222222,\"#7201a8\"],[0.3333333333333333,\"#9c179e\"],[0.4444444444444444,\"#bd3786\"],[0.5555555555555556,\"#d8576b\"],[0.6666666666666666,\"#ed7953\"],[0.7777777777777778,\"#fb9f3a\"],[0.8888888888888888,\"#fdca26\"],[1.0,\"#f0f921\"]]}],\"heatmapgl\":[{\"type\":\"heatmapgl\",\"colorbar\":{\"outlinewidth\":0,\"ticks\":\"\"},\"colorscale\":[[0.0,\"#0d0887\"],[0.1111111111111111,\"#46039f\"],[0.2222222222222222,\"#7201a8\"],[0.3333333333333333,\"#9c179e\"],[0.4444444444444444,\"#bd3786\"],[0.5555555555555556,\"#d8576b\"],[0.6666666666666666,\"#ed7953\"],[0.7777777777777778,\"#fb9f3a\"],[0.8888888888888888,\"#fdca26\"],[1.0,\"#f0f921\"]]}],\"contourcarpet\":[{\"type\":\"contourcarpet\",\"colorbar\":{\"outlinewidth\":0,\"ticks\":\"\"}}],\"contour\":[{\"type\":\"contour\",\"colorbar\":{\"outlinewidth\":0,\"ticks\":\"\"},\"colorscale\":[[0.0,\"#0d0887\"],[0.1111111111111111,\"#46039f\"],[0.2222222222222222,\"#7201a8\"],[0.3333333333333333,\"#9c179e\"],[0.4444444444444444,\"#bd3786\"],[0.5555555555555556,\"#d8576b\"],[0.6666666666666666,\"#ed7953\"],[0.7777777777777778,\"#fb9f3a\"],[0.8888888888888888,\"#fdca26\"],[1.0,\"#f0f921\"]]}],\"surface\":[{\"type\":\"surface\",\"colorbar\":{\"outlinewidth\":0,\"ticks\":\"\"},\"colorscale\":[[0.0,\"#0d0887\"],[0.1111111111111111,\"#46039f\"],[0.2222222222222222,\"#7201a8\"],[0.3333333333333333,\"#9c179e\"],[0.4444444444444444,\"#bd3786\"],[0.5555555555555556,\"#d8576b\"],[0.6666666666666666,\"#ed7953\"],[0.7777777777777778,\"#fb9f3a\"],[0.8888888888888888,\"#fdca26\"],[1.0,\"#f0f921\"]]}],\"mesh3d\":[{\"type\":\"mesh3d\",\"colorbar\":{\"outlinewidth\":0,\"ticks\":\"\"}}],\"scatter\":[{\"fillpattern\":{\"fillmode\":\"overlay\",\"size\":10,\"solidity\":0.2},\"type\":\"scatter\"}],\"parcoords\":[{\"type\":\"parcoords\",\"line\":{\"colorbar\":{\"outlinewidth\":0,\"ticks\":\"\"}}}],\"scatterpolargl\":[{\"type\":\"scatterpolargl\",\"marker\":{\"colorbar\":{\"outlinewidth\":0,\"ticks\":\"\"}}}],\"bar\":[{\"error_x\":{\"color\":\"#2a3f5f\"},\"error_y\":{\"color\":\"#2a3f5f\"},\"marker\":{\"line\":{\"color\":\"#E5ECF6\",\"width\":0.5},\"pattern\":{\"fillmode\":\"overlay\",\"size\":10,\"solidity\":0.2}},\"type\":\"bar\"}],\"scattergeo\":[{\"type\":\"scattergeo\",\"marker\":{\"colorbar\":{\"outlinewidth\":0,\"ticks\":\"\"}}}],\"scatterpolar\":[{\"type\":\"scatterpolar\",\"marker\":{\"colorbar\":{\"outlinewidth\":0,\"ticks\":\"\"}}}],\"histogram\":[{\"marker\":{\"pattern\":{\"fillmode\":\"overlay\",\"size\":10,\"solidity\":0.2}},\"type\":\"histogram\"}],\"scattergl\":[{\"type\":\"scattergl\",\"marker\":{\"colorbar\":{\"outlinewidth\":0,\"ticks\":\"\"}}}],\"scatter3d\":[{\"type\":\"scatter3d\",\"line\":{\"colorbar\":{\"outlinewidth\":0,\"ticks\":\"\"}},\"marker\":{\"colorbar\":{\"outlinewidth\":0,\"ticks\":\"\"}}}],\"scattermapbox\":[{\"type\":\"scattermapbox\",\"marker\":{\"colorbar\":{\"outlinewidth\":0,\"ticks\":\"\"}}}],\"scatterternary\":[{\"type\":\"scatterternary\",\"marker\":{\"colorbar\":{\"outlinewidth\":0,\"ticks\":\"\"}}}],\"scattercarpet\":[{\"type\":\"scattercarpet\",\"marker\":{\"colorbar\":{\"outlinewidth\":0,\"ticks\":\"\"}}}],\"carpet\":[{\"aaxis\":{\"endlinecolor\":\"#2a3f5f\",\"gridcolor\":\"white\",\"linecolor\":\"white\",\"minorgridcolor\":\"white\",\"startlinecolor\":\"#2a3f5f\"},\"baxis\":{\"endlinecolor\":\"#2a3f5f\",\"gridcolor\":\"white\",\"linecolor\":\"white\",\"minorgridcolor\":\"white\",\"startlinecolor\":\"#2a3f5f\"},\"type\":\"carpet\"}],\"table\":[{\"cells\":{\"fill\":{\"color\":\"#EBF0F8\"},\"line\":{\"color\":\"white\"}},\"header\":{\"fill\":{\"color\":\"#C8D4E3\"},\"line\":{\"color\":\"white\"}},\"type\":\"table\"}],\"barpolar\":[{\"marker\":{\"line\":{\"color\":\"#E5ECF6\",\"width\":0.5},\"pattern\":{\"fillmode\":\"overlay\",\"size\":10,\"solidity\":0.2}},\"type\":\"barpolar\"}],\"pie\":[{\"automargin\":true,\"type\":\"pie\"}]},\"layout\":{\"autotypenumbers\":\"strict\",\"colorway\":[\"#636efa\",\"#EF553B\",\"#00cc96\",\"#ab63fa\",\"#FFA15A\",\"#19d3f3\",\"#FF6692\",\"#B6E880\",\"#FF97FF\",\"#FECB52\"],\"font\":{\"color\":\"#2a3f5f\"},\"hovermode\":\"closest\",\"hoverlabel\":{\"align\":\"left\"},\"paper_bgcolor\":\"white\",\"plot_bgcolor\":\"#E5ECF6\",\"polar\":{\"bgcolor\":\"#E5ECF6\",\"angularaxis\":{\"gridcolor\":\"white\",\"linecolor\":\"white\",\"ticks\":\"\"},\"radialaxis\":{\"gridcolor\":\"white\",\"linecolor\":\"white\",\"ticks\":\"\"}},\"ternary\":{\"bgcolor\":\"#E5ECF6\",\"aaxis\":{\"gridcolor\":\"white\",\"linecolor\":\"white\",\"ticks\":\"\"},\"baxis\":{\"gridcolor\":\"white\",\"linecolor\":\"white\",\"ticks\":\"\"},\"caxis\":{\"gridcolor\":\"white\",\"linecolor\":\"white\",\"ticks\":\"\"}},\"coloraxis\":{\"colorbar\":{\"outlinewidth\":0,\"ticks\":\"\"}},\"colorscale\":{\"sequential\":[[0.0,\"#0d0887\"],[0.1111111111111111,\"#46039f\"],[0.2222222222222222,\"#7201a8\"],[0.3333333333333333,\"#9c179e\"],[0.4444444444444444,\"#bd3786\"],[0.5555555555555556,\"#d8576b\"],[0.6666666666666666,\"#ed7953\"],[0.7777777777777778,\"#fb9f3a\"],[0.8888888888888888,\"#fdca26\"],[1.0,\"#f0f921\"]],\"sequentialminus\":[[0.0,\"#0d0887\"],[0.1111111111111111,\"#46039f\"],[0.2222222222222222,\"#7201a8\"],[0.3333333333333333,\"#9c179e\"],[0.4444444444444444,\"#bd3786\"],[0.5555555555555556,\"#d8576b\"],[0.6666666666666666,\"#ed7953\"],[0.7777777777777778,\"#fb9f3a\"],[0.8888888888888888,\"#fdca26\"],[1.0,\"#f0f921\"]],\"diverging\":[[0,\"#8e0152\"],[0.1,\"#c51b7d\"],[0.2,\"#de77ae\"],[0.3,\"#f1b6da\"],[0.4,\"#fde0ef\"],[0.5,\"#f7f7f7\"],[0.6,\"#e6f5d0\"],[0.7,\"#b8e186\"],[0.8,\"#7fbc41\"],[0.9,\"#4d9221\"],[1,\"#276419\"]]},\"xaxis\":{\"gridcolor\":\"white\",\"linecolor\":\"white\",\"ticks\":\"\",\"title\":{\"standoff\":15},\"zerolinecolor\":\"white\",\"automargin\":true,\"zerolinewidth\":2},\"yaxis\":{\"gridcolor\":\"white\",\"linecolor\":\"white\",\"ticks\":\"\",\"title\":{\"standoff\":15},\"zerolinecolor\":\"white\",\"automargin\":true,\"zerolinewidth\":2},\"scene\":{\"xaxis\":{\"backgroundcolor\":\"#E5ECF6\",\"gridcolor\":\"white\",\"linecolor\":\"white\",\"showbackground\":true,\"ticks\":\"\",\"zerolinecolor\":\"white\",\"gridwidth\":2},\"yaxis\":{\"backgroundcolor\":\"#E5ECF6\",\"gridcolor\":\"white\",\"linecolor\":\"white\",\"showbackground\":true,\"ticks\":\"\",\"zerolinecolor\":\"white\",\"gridwidth\":2},\"zaxis\":{\"backgroundcolor\":\"#E5ECF6\",\"gridcolor\":\"white\",\"linecolor\":\"white\",\"showbackground\":true,\"ticks\":\"\",\"zerolinecolor\":\"white\",\"gridwidth\":2}},\"shapedefaults\":{\"line\":{\"color\":\"#2a3f5f\"}},\"annotationdefaults\":{\"arrowcolor\":\"#2a3f5f\",\"arrowhead\":0,\"arrowwidth\":1},\"geo\":{\"bgcolor\":\"white\",\"landcolor\":\"#E5ECF6\",\"subunitcolor\":\"white\",\"showland\":true,\"showlakes\":true,\"lakecolor\":\"white\"},\"title\":{\"x\":0.05},\"mapbox\":{\"style\":\"light\"}}},\"xaxis\":{\"anchor\":\"y\",\"domain\":[0.0,1.0],\"title\":{\"text\":\"UPDRS 1\"}},\"yaxis\":{\"anchor\":\"x\",\"domain\":[0.0,1.0],\"title\":{\"text\":\"count\"}},\"legend\":{\"title\":{\"text\":\"Clinical State on Medication UPD23B\"},\"tracegroupgap\":0},\"title\":{\"text\":\"Count of UPDR 1 Scores of Parkinson\\u2019s Disease Patients\",\"font\":{\"size\":15}},\"barmode\":\"relative\",\"height\":500,\"width\":800},                        {\"responsive\": true}                    ).then(function(){\n",
       "                            \n",
       "var gd = document.getElementById('5005de98-bc68-44f0-914b-55a30d5ee8df');\n",
       "var x = new MutationObserver(function (mutations, observer) {{\n",
       "        var display = window.getComputedStyle(gd).display;\n",
       "        if (!display || display === 'none') {{\n",
       "            console.log([gd, 'removed!']);\n",
       "            Plotly.purge(gd);\n",
       "            observer.disconnect();\n",
       "        }}\n",
       "}});\n",
       "\n",
       "// Listen for the removal of the full notebook cells\n",
       "var notebookContainer = gd.closest('#notebook-container');\n",
       "if (notebookContainer) {{\n",
       "    x.observe(notebookContainer, {childList: true});\n",
       "}}\n",
       "\n",
       "// Listen for the clearing of the current output cell\n",
       "var outputEl = gd.closest('.output');\n",
       "if (outputEl) {{\n",
       "    x.observe(outputEl, {childList: true});\n",
       "}}\n",
       "\n",
       "                        })                };                });            </script>        </div>"
      ]
     },
     "metadata": {},
     "output_type": "display_data"
    }
   ],
   "source": [
    " fig=px.histogram(train_clinical,\n",
    "                     x = 'UPDRS 1',\n",
    "                     color = 'Clinical State on Medication UPD23B',\n",
    "                     title= 'Count of UPDR 1 Scores of Parkinson’s Disease Patients',\n",
    "                     color_discrete_sequence=px.colors.qualitative.Vivid,\n",
    "                     width=800, height=500)\n",
    "align = \"left\"\n",
    "fig.update_layout(title_font_size=15)\n",
    "fig.show()"
   ]
  },
  {
   "cell_type": "code",
   "execution_count": 34,
   "id": "23f87ca7",
   "metadata": {},
   "outputs": [
    {
     "data": {
      "application/vnd.plotly.v1+json": {
       "config": {
        "plotlyServerURL": "https://plot.ly"
       },
       "data": [
        {
         "alignmentgroup": "True",
         "bingroup": "x",
         "hovertemplate": "Clinical State on Medication UPD23B=On<br>UPDRS 2=%{x}<br>count=%{y}<extra></extra>",
         "legendgroup": "On",
         "marker": {
          "color": "rgb(93, 105, 177)",
          "pattern": {
           "shape": ""
          }
         },
         "name": "On",
         "offsetgroup": "On",
         "orientation": "v",
         "showlegend": true,
         "type": "histogram",
         "x": [
          9,
          10,
          13,
          9,
          13,
          18,
          20,
          16,
          18,
          21,
          6,
          4,
          11,
          14,
          11,
          17,
          13,
          8,
          13,
          8,
          4,
          9,
          13,
          10,
          11,
          12,
          18,
          16,
          11,
          16,
          3,
          3,
          2,
          3,
          2,
          3,
          6,
          4,
          5,
          4,
          18,
          20,
          20,
          10,
          1,
          4,
          7,
          3,
          9,
          8,
          13,
          22,
          23,
          25,
          22,
          24,
          24,
          23,
          23,
          28,
          9,
          9,
          9,
          11,
          5,
          5,
          8,
          2,
          8,
          3,
          4,
          3,
          5,
          4,
          10,
          10,
          11,
          12,
          10,
          16,
          13,
          13,
          15,
          14,
          10,
          15,
          16,
          6,
          5,
          6,
          11,
          7,
          10,
          2,
          4,
          1,
          9,
          12,
          13,
          11,
          8,
          9,
          6,
          11,
          6,
          9,
          8,
          5,
          4,
          6,
          6,
          6,
          4,
          9,
          8,
          7,
          6,
          8,
          5,
          5,
          2,
          3,
          8,
          4,
          5,
          5,
          3,
          5,
          6,
          6,
          22,
          20,
          21,
          19,
          1,
          2,
          0,
          1,
          1,
          2,
          4,
          3,
          2,
          18,
          16,
          1,
          8,
          14,
          14,
          12,
          19,
          20,
          22,
          22,
          15,
          16,
          2,
          10,
          5,
          6,
          5,
          0,
          5,
          6,
          4,
          5,
          8,
          4,
          4,
          11,
          8,
          9,
          9,
          9,
          10,
          10,
          13,
          14,
          14,
          4,
          5,
          4,
          16,
          9,
          16,
          21,
          10,
          16,
          15,
          20,
          15,
          19,
          16,
          17,
          10,
          14,
          11,
          15,
          13,
          12,
          15,
          8,
          7,
          8,
          4,
          9,
          8,
          15,
          18,
          19,
          4,
          8,
          3,
          1,
          1,
          6,
          5,
          4,
          5,
          3,
          4,
          4,
          5,
          3,
          7,
          6,
          10,
          2,
          2,
          6,
          8,
          8,
          11,
          11,
          13,
          11,
          7,
          6,
          6,
          9,
          6,
          8,
          21,
          17,
          21,
          19,
          14,
          13,
          21,
          9,
          9,
          9,
          9,
          4,
          3,
          2,
          1,
          7,
          3,
          2,
          3,
          3,
          4,
          2,
          2,
          0,
          2,
          1,
          7,
          7,
          7,
          5,
          6,
          11,
          13,
          9,
          11,
          4,
          6,
          9,
          8,
          9,
          8,
          5,
          7,
          6,
          5,
          15,
          19,
          26,
          26,
          8,
          2,
          1,
          11,
          6,
          3,
          3,
          5,
          4,
          2,
          4,
          3,
          4,
          3,
          5,
          4,
          4,
          3,
          3,
          3,
          3,
          8,
          23,
          23,
          25,
          30,
          31,
          3,
          4,
          5,
          8,
          7,
          3,
          3,
          2,
          4,
          5,
          3,
          5,
          5,
          5,
          11,
          16,
          8,
          4,
          6,
          3,
          8,
          3,
          5,
          4,
          14,
          15,
          15,
          12,
          15,
          15,
          18,
          20,
          5,
          3,
          3,
          7,
          8,
          5,
          11,
          7,
          12,
          8,
          13,
          8,
          6,
          17,
          14,
          15,
          5,
          8,
          3,
          3,
          4,
          4,
          13,
          9,
          13,
          13,
          15,
          10,
          15,
          5,
          8,
          5,
          4,
          5,
          6,
          3,
          6,
          3,
          2,
          4,
          3,
          3,
          5,
          9,
          4,
          9,
          7,
          7,
          6,
          6,
          12,
          6,
          5,
          8,
          10,
          11,
          13,
          11,
          4,
          2,
          6,
          5,
          9,
          17,
          11,
          11,
          8,
          14,
          16,
          15,
          19,
          27,
          35,
          40,
          14,
          14,
          15,
          19,
          15,
          17,
          12,
          7,
          13,
          15,
          14,
          16,
          15,
          15,
          13,
          13,
          15,
          4,
          8,
          6,
          6,
          10,
          5,
          9,
          3,
          7,
          4,
          9,
          13,
          8,
          8,
          11,
          29,
          5,
          10,
          9,
          3,
          9,
          7,
          15,
          11,
          14,
          14,
          7,
          10,
          15,
          13,
          10,
          11,
          26,
          20,
          24,
          20,
          20,
          25,
          23,
          25,
          12,
          8,
          8,
          8,
          10,
          6,
          3,
          8,
          10,
          12,
          12,
          7,
          11,
          8,
          10,
          9,
          9,
          12,
          3,
          12,
          4,
          5,
          2,
          8,
          7,
          10,
          8,
          9,
          8,
          11,
          13,
          8,
          4,
          7,
          12,
          8,
          12,
          8,
          4,
          5,
          6,
          15,
          14,
          15,
          25,
          25,
          39,
          8,
          8,
          13,
          8,
          16,
          18,
          19,
          18,
          17,
          18,
          15,
          4,
          1,
          4,
          2,
          6,
          5,
          8,
          10,
          7,
          2,
          4,
          6,
          6,
          3,
          12,
          6,
          2,
          5,
          10,
          7,
          6,
          1,
          1,
          2,
          12,
          18,
          10,
          13,
          17,
          7,
          1,
          1,
          2,
          4,
          2,
          6,
          6,
          10,
          8,
          12,
          13,
          18,
          10,
          14,
          16,
          13,
          15,
          18,
          20,
          24,
          18,
          2,
          2,
          1,
          2,
          4,
          5,
          10,
          14,
          16,
          16,
          27,
          24,
          6,
          2,
          6,
          8,
          4,
          2,
          4,
          6,
          5,
          4,
          6,
          6,
          15,
          22,
          17,
          16,
          18,
          15,
          20,
          9,
          13,
          5,
          1,
          4,
          5,
          4,
          8,
          5,
          7,
          14,
          14,
          12,
          9,
          12,
          16,
          21,
          17,
          18,
          8,
          1,
          7,
          6,
          8,
          2,
          2,
          2,
          2,
          2,
          1,
          5,
          12,
          11,
          19,
          6,
          10,
          11,
          10,
          13,
          16,
          13,
          13,
          10,
          4,
          5,
          5,
          6,
          7,
          8,
          7,
          12,
          16,
          6,
          10,
          12,
          9,
          6,
          11,
          11,
          3,
          4,
          3,
          4,
          5,
          12,
          4,
          6,
          12,
          9,
          8,
          7,
          9,
          12,
          8,
          3,
          10,
          2,
          4,
          8,
          6,
          5,
          7,
          9,
          11,
          10,
          15,
          17,
          16,
          19,
          18,
          18,
          22,
          20,
          22,
          12,
          5,
          10,
          7,
          6,
          5,
          12,
          19,
          27,
          36,
          5,
          4,
          8,
          12,
          13,
          10,
          11,
          11,
          8,
          11,
          6,
          6,
          7,
          11,
          3,
          4,
          4,
          3,
          3,
          3,
          2,
          3,
          8,
          10,
          6,
          16,
          2,
          2,
          3,
          3,
          3,
          4,
          6,
          6,
          5,
          2,
          8,
          9,
          16,
          9,
          13,
          17,
          13,
          18,
          16,
          19,
          15,
          17,
          14,
          7
         ],
         "xaxis": "x",
         "yaxis": "y"
        },
        {
         "alignmentgroup": "True",
         "bingroup": "x",
         "hovertemplate": "Clinical State on Medication UPD23B=Off<br>UPDRS 2=%{x}<br>count=%{y}<extra></extra>",
         "legendgroup": "Off",
         "marker": {
          "color": "rgb(82, 188, 163)",
          "pattern": {
           "shape": ""
          }
         },
         "name": "Off",
         "offsetgroup": "Off",
         "orientation": "v",
         "showlegend": true,
         "type": "histogram",
         "x": [
          2,
          8,
          9,
          15,
          18,
          18,
          6,
          8,
          10,
          11,
          13,
          15,
          4,
          11,
          15,
          19,
          23,
          19,
          19,
          26,
          20,
          17,
          18,
          18,
          14,
          14,
          8,
          7,
          9,
          8,
          13,
          10,
          7,
          9,
          10,
          9,
          13,
          23,
          7,
          11,
          9,
          13,
          5,
          6,
          5,
          3,
          4,
          5,
          7,
          6,
          11,
          13,
          11,
          10,
          14,
          2,
          5,
          6,
          3,
          3,
          7,
          9,
          5,
          10,
          1,
          3,
          2,
          6,
          11,
          8,
          8,
          9,
          5,
          3,
          5,
          5,
          19,
          20,
          20,
          19,
          24,
          18,
          26,
          24,
          24,
          15,
          15,
          18,
          18,
          20,
          5,
          6,
          6,
          11,
          6,
          3,
          2,
          4,
          9,
          3,
          10,
          5,
          12,
          15,
          21,
          11,
          9,
          11,
          10,
          13,
          15,
          14,
          10,
          5,
          6,
          9,
          11,
          14,
          9,
          7,
          9,
          12,
          3,
          5,
          6,
          10,
          7,
          9,
          12,
          7,
          10,
          11,
          8,
          10,
          10,
          10,
          10,
          6,
          11,
          12,
          3,
          1,
          2,
          3,
          5,
          2,
          3,
          6,
          9,
          7,
          6,
          6,
          7,
          8,
          8,
          11,
          13,
          15,
          13,
          16,
          13,
          6,
          2,
          3,
          6,
          6,
          7,
          6,
          5,
          6,
          0,
          8,
          9,
          23,
          23,
          23,
          28,
          12,
          11,
          4,
          3,
          6,
          4,
          7,
          9,
          11,
          0,
          5,
          1,
          3,
          5,
          3,
          8,
          19,
          20,
          21,
          23,
          26,
          7,
          7,
          3,
          5,
          12,
          14,
          13,
          14,
          15,
          14,
          13,
          10,
          6,
          7,
          1,
          13,
          5,
          19,
          9,
          7,
          7,
          6,
          5,
          6,
          6,
          14,
          14,
          6,
          3,
          9,
          11,
          10,
          12,
          15,
          16,
          4,
          10,
          11,
          7,
          5,
          2,
          5,
          6,
          7,
          8,
          6,
          8,
          7,
          5,
          4,
          6,
          7,
          4,
          8,
          8,
          2,
          5,
          9,
          7,
          15,
          18,
          7,
          8,
          13,
          10,
          4,
          7,
          13,
          13,
          14,
          14,
          15,
          17,
          16,
          15,
          7,
          14,
          22,
          11,
          13,
          12,
          12,
          15,
          25,
          16,
          10,
          8,
          6,
          6,
          5,
          7,
          8,
          6,
          7,
          5,
          9,
          7,
          11,
          21,
          20,
          10,
          12,
          10,
          8,
          8,
          10,
          11,
          4,
          7,
          14,
          18,
          4,
          7,
          10,
          11,
          19,
          21,
          19,
          19,
          26,
          24,
          27,
          15,
          15,
          28,
          27,
          28,
          13,
          22,
          17,
          13,
          14,
          23,
          20,
          4,
          1,
          8,
          9,
          1,
          2,
          8,
          8,
          3,
          6,
          5,
          14,
          17,
          17,
          16,
          11,
          15,
          18,
          16,
          11,
          1,
          1,
          2,
          3,
          3,
          5,
          13,
          9,
          12,
          16,
          3,
          1,
          2,
          8,
          6,
          7,
          6,
          4,
          5,
          3,
          1,
          8,
          13,
          17,
          16,
          23,
          21,
          22,
          10,
          9,
          8,
          7,
          4,
          8,
          2,
          5,
          8,
          9,
          13,
          17,
          4,
          7,
          10,
          14,
          21,
          0,
          8,
          6,
          5,
          5,
          6,
          6,
          10,
          15,
          19,
          19,
          16,
          10,
          9,
          4,
          4,
          2,
          5,
          5,
          8,
          6,
          3,
          3,
          5,
          1,
          4,
          3,
          2,
          1,
          10,
          10,
          6,
          7,
          7,
          11,
          11,
          12,
          8,
          9,
          10,
          10,
          11,
          14,
          16,
          18,
          20,
          16,
          17,
          11,
          13,
          16,
          13,
          17,
          15,
          10,
          3,
          7,
          9,
          8,
          3,
          5,
          8,
          5,
          5,
          2,
          3,
          6,
          8,
          9,
          9,
          13,
          15,
          14,
          17,
          17,
          20,
          9,
          7,
          9,
          12,
          8,
          11,
          13,
          12,
          13,
          14,
          12,
          7,
          6,
          5,
          7,
          9,
          8,
          3,
          10,
          4,
          3,
          5,
          5,
          18,
          18,
          15,
          13,
          13,
          15,
          19,
          7,
          7,
          4,
          7,
          10,
          6,
          8,
          6,
          9,
          9
         ],
         "xaxis": "x",
         "yaxis": "y"
        }
       ],
       "layout": {
        "barmode": "relative",
        "height": 500,
        "legend": {
         "title": {
          "text": "Clinical State on Medication UPD23B"
         },
         "tracegroupgap": 0
        },
        "template": {
         "data": {
          "bar": [
           {
            "error_x": {
             "color": "#2a3f5f"
            },
            "error_y": {
             "color": "#2a3f5f"
            },
            "marker": {
             "line": {
              "color": "#E5ECF6",
              "width": 0.5
             },
             "pattern": {
              "fillmode": "overlay",
              "size": 10,
              "solidity": 0.2
             }
            },
            "type": "bar"
           }
          ],
          "barpolar": [
           {
            "marker": {
             "line": {
              "color": "#E5ECF6",
              "width": 0.5
             },
             "pattern": {
              "fillmode": "overlay",
              "size": 10,
              "solidity": 0.2
             }
            },
            "type": "barpolar"
           }
          ],
          "carpet": [
           {
            "aaxis": {
             "endlinecolor": "#2a3f5f",
             "gridcolor": "white",
             "linecolor": "white",
             "minorgridcolor": "white",
             "startlinecolor": "#2a3f5f"
            },
            "baxis": {
             "endlinecolor": "#2a3f5f",
             "gridcolor": "white",
             "linecolor": "white",
             "minorgridcolor": "white",
             "startlinecolor": "#2a3f5f"
            },
            "type": "carpet"
           }
          ],
          "choropleth": [
           {
            "colorbar": {
             "outlinewidth": 0,
             "ticks": ""
            },
            "type": "choropleth"
           }
          ],
          "contour": [
           {
            "colorbar": {
             "outlinewidth": 0,
             "ticks": ""
            },
            "colorscale": [
             [
              0,
              "#0d0887"
             ],
             [
              0.1111111111111111,
              "#46039f"
             ],
             [
              0.2222222222222222,
              "#7201a8"
             ],
             [
              0.3333333333333333,
              "#9c179e"
             ],
             [
              0.4444444444444444,
              "#bd3786"
             ],
             [
              0.5555555555555556,
              "#d8576b"
             ],
             [
              0.6666666666666666,
              "#ed7953"
             ],
             [
              0.7777777777777778,
              "#fb9f3a"
             ],
             [
              0.8888888888888888,
              "#fdca26"
             ],
             [
              1,
              "#f0f921"
             ]
            ],
            "type": "contour"
           }
          ],
          "contourcarpet": [
           {
            "colorbar": {
             "outlinewidth": 0,
             "ticks": ""
            },
            "type": "contourcarpet"
           }
          ],
          "heatmap": [
           {
            "colorbar": {
             "outlinewidth": 0,
             "ticks": ""
            },
            "colorscale": [
             [
              0,
              "#0d0887"
             ],
             [
              0.1111111111111111,
              "#46039f"
             ],
             [
              0.2222222222222222,
              "#7201a8"
             ],
             [
              0.3333333333333333,
              "#9c179e"
             ],
             [
              0.4444444444444444,
              "#bd3786"
             ],
             [
              0.5555555555555556,
              "#d8576b"
             ],
             [
              0.6666666666666666,
              "#ed7953"
             ],
             [
              0.7777777777777778,
              "#fb9f3a"
             ],
             [
              0.8888888888888888,
              "#fdca26"
             ],
             [
              1,
              "#f0f921"
             ]
            ],
            "type": "heatmap"
           }
          ],
          "heatmapgl": [
           {
            "colorbar": {
             "outlinewidth": 0,
             "ticks": ""
            },
            "colorscale": [
             [
              0,
              "#0d0887"
             ],
             [
              0.1111111111111111,
              "#46039f"
             ],
             [
              0.2222222222222222,
              "#7201a8"
             ],
             [
              0.3333333333333333,
              "#9c179e"
             ],
             [
              0.4444444444444444,
              "#bd3786"
             ],
             [
              0.5555555555555556,
              "#d8576b"
             ],
             [
              0.6666666666666666,
              "#ed7953"
             ],
             [
              0.7777777777777778,
              "#fb9f3a"
             ],
             [
              0.8888888888888888,
              "#fdca26"
             ],
             [
              1,
              "#f0f921"
             ]
            ],
            "type": "heatmapgl"
           }
          ],
          "histogram": [
           {
            "marker": {
             "pattern": {
              "fillmode": "overlay",
              "size": 10,
              "solidity": 0.2
             }
            },
            "type": "histogram"
           }
          ],
          "histogram2d": [
           {
            "colorbar": {
             "outlinewidth": 0,
             "ticks": ""
            },
            "colorscale": [
             [
              0,
              "#0d0887"
             ],
             [
              0.1111111111111111,
              "#46039f"
             ],
             [
              0.2222222222222222,
              "#7201a8"
             ],
             [
              0.3333333333333333,
              "#9c179e"
             ],
             [
              0.4444444444444444,
              "#bd3786"
             ],
             [
              0.5555555555555556,
              "#d8576b"
             ],
             [
              0.6666666666666666,
              "#ed7953"
             ],
             [
              0.7777777777777778,
              "#fb9f3a"
             ],
             [
              0.8888888888888888,
              "#fdca26"
             ],
             [
              1,
              "#f0f921"
             ]
            ],
            "type": "histogram2d"
           }
          ],
          "histogram2dcontour": [
           {
            "colorbar": {
             "outlinewidth": 0,
             "ticks": ""
            },
            "colorscale": [
             [
              0,
              "#0d0887"
             ],
             [
              0.1111111111111111,
              "#46039f"
             ],
             [
              0.2222222222222222,
              "#7201a8"
             ],
             [
              0.3333333333333333,
              "#9c179e"
             ],
             [
              0.4444444444444444,
              "#bd3786"
             ],
             [
              0.5555555555555556,
              "#d8576b"
             ],
             [
              0.6666666666666666,
              "#ed7953"
             ],
             [
              0.7777777777777778,
              "#fb9f3a"
             ],
             [
              0.8888888888888888,
              "#fdca26"
             ],
             [
              1,
              "#f0f921"
             ]
            ],
            "type": "histogram2dcontour"
           }
          ],
          "mesh3d": [
           {
            "colorbar": {
             "outlinewidth": 0,
             "ticks": ""
            },
            "type": "mesh3d"
           }
          ],
          "parcoords": [
           {
            "line": {
             "colorbar": {
              "outlinewidth": 0,
              "ticks": ""
             }
            },
            "type": "parcoords"
           }
          ],
          "pie": [
           {
            "automargin": true,
            "type": "pie"
           }
          ],
          "scatter": [
           {
            "fillpattern": {
             "fillmode": "overlay",
             "size": 10,
             "solidity": 0.2
            },
            "type": "scatter"
           }
          ],
          "scatter3d": [
           {
            "line": {
             "colorbar": {
              "outlinewidth": 0,
              "ticks": ""
             }
            },
            "marker": {
             "colorbar": {
              "outlinewidth": 0,
              "ticks": ""
             }
            },
            "type": "scatter3d"
           }
          ],
          "scattercarpet": [
           {
            "marker": {
             "colorbar": {
              "outlinewidth": 0,
              "ticks": ""
             }
            },
            "type": "scattercarpet"
           }
          ],
          "scattergeo": [
           {
            "marker": {
             "colorbar": {
              "outlinewidth": 0,
              "ticks": ""
             }
            },
            "type": "scattergeo"
           }
          ],
          "scattergl": [
           {
            "marker": {
             "colorbar": {
              "outlinewidth": 0,
              "ticks": ""
             }
            },
            "type": "scattergl"
           }
          ],
          "scattermapbox": [
           {
            "marker": {
             "colorbar": {
              "outlinewidth": 0,
              "ticks": ""
             }
            },
            "type": "scattermapbox"
           }
          ],
          "scatterpolar": [
           {
            "marker": {
             "colorbar": {
              "outlinewidth": 0,
              "ticks": ""
             }
            },
            "type": "scatterpolar"
           }
          ],
          "scatterpolargl": [
           {
            "marker": {
             "colorbar": {
              "outlinewidth": 0,
              "ticks": ""
             }
            },
            "type": "scatterpolargl"
           }
          ],
          "scatterternary": [
           {
            "marker": {
             "colorbar": {
              "outlinewidth": 0,
              "ticks": ""
             }
            },
            "type": "scatterternary"
           }
          ],
          "surface": [
           {
            "colorbar": {
             "outlinewidth": 0,
             "ticks": ""
            },
            "colorscale": [
             [
              0,
              "#0d0887"
             ],
             [
              0.1111111111111111,
              "#46039f"
             ],
             [
              0.2222222222222222,
              "#7201a8"
             ],
             [
              0.3333333333333333,
              "#9c179e"
             ],
             [
              0.4444444444444444,
              "#bd3786"
             ],
             [
              0.5555555555555556,
              "#d8576b"
             ],
             [
              0.6666666666666666,
              "#ed7953"
             ],
             [
              0.7777777777777778,
              "#fb9f3a"
             ],
             [
              0.8888888888888888,
              "#fdca26"
             ],
             [
              1,
              "#f0f921"
             ]
            ],
            "type": "surface"
           }
          ],
          "table": [
           {
            "cells": {
             "fill": {
              "color": "#EBF0F8"
             },
             "line": {
              "color": "white"
             }
            },
            "header": {
             "fill": {
              "color": "#C8D4E3"
             },
             "line": {
              "color": "white"
             }
            },
            "type": "table"
           }
          ]
         },
         "layout": {
          "annotationdefaults": {
           "arrowcolor": "#2a3f5f",
           "arrowhead": 0,
           "arrowwidth": 1
          },
          "autotypenumbers": "strict",
          "coloraxis": {
           "colorbar": {
            "outlinewidth": 0,
            "ticks": ""
           }
          },
          "colorscale": {
           "diverging": [
            [
             0,
             "#8e0152"
            ],
            [
             0.1,
             "#c51b7d"
            ],
            [
             0.2,
             "#de77ae"
            ],
            [
             0.3,
             "#f1b6da"
            ],
            [
             0.4,
             "#fde0ef"
            ],
            [
             0.5,
             "#f7f7f7"
            ],
            [
             0.6,
             "#e6f5d0"
            ],
            [
             0.7,
             "#b8e186"
            ],
            [
             0.8,
             "#7fbc41"
            ],
            [
             0.9,
             "#4d9221"
            ],
            [
             1,
             "#276419"
            ]
           ],
           "sequential": [
            [
             0,
             "#0d0887"
            ],
            [
             0.1111111111111111,
             "#46039f"
            ],
            [
             0.2222222222222222,
             "#7201a8"
            ],
            [
             0.3333333333333333,
             "#9c179e"
            ],
            [
             0.4444444444444444,
             "#bd3786"
            ],
            [
             0.5555555555555556,
             "#d8576b"
            ],
            [
             0.6666666666666666,
             "#ed7953"
            ],
            [
             0.7777777777777778,
             "#fb9f3a"
            ],
            [
             0.8888888888888888,
             "#fdca26"
            ],
            [
             1,
             "#f0f921"
            ]
           ],
           "sequentialminus": [
            [
             0,
             "#0d0887"
            ],
            [
             0.1111111111111111,
             "#46039f"
            ],
            [
             0.2222222222222222,
             "#7201a8"
            ],
            [
             0.3333333333333333,
             "#9c179e"
            ],
            [
             0.4444444444444444,
             "#bd3786"
            ],
            [
             0.5555555555555556,
             "#d8576b"
            ],
            [
             0.6666666666666666,
             "#ed7953"
            ],
            [
             0.7777777777777778,
             "#fb9f3a"
            ],
            [
             0.8888888888888888,
             "#fdca26"
            ],
            [
             1,
             "#f0f921"
            ]
           ]
          },
          "colorway": [
           "#636efa",
           "#EF553B",
           "#00cc96",
           "#ab63fa",
           "#FFA15A",
           "#19d3f3",
           "#FF6692",
           "#B6E880",
           "#FF97FF",
           "#FECB52"
          ],
          "font": {
           "color": "#2a3f5f"
          },
          "geo": {
           "bgcolor": "white",
           "lakecolor": "white",
           "landcolor": "#E5ECF6",
           "showlakes": true,
           "showland": true,
           "subunitcolor": "white"
          },
          "hoverlabel": {
           "align": "left"
          },
          "hovermode": "closest",
          "mapbox": {
           "style": "light"
          },
          "paper_bgcolor": "white",
          "plot_bgcolor": "#E5ECF6",
          "polar": {
           "angularaxis": {
            "gridcolor": "white",
            "linecolor": "white",
            "ticks": ""
           },
           "bgcolor": "#E5ECF6",
           "radialaxis": {
            "gridcolor": "white",
            "linecolor": "white",
            "ticks": ""
           }
          },
          "scene": {
           "xaxis": {
            "backgroundcolor": "#E5ECF6",
            "gridcolor": "white",
            "gridwidth": 2,
            "linecolor": "white",
            "showbackground": true,
            "ticks": "",
            "zerolinecolor": "white"
           },
           "yaxis": {
            "backgroundcolor": "#E5ECF6",
            "gridcolor": "white",
            "gridwidth": 2,
            "linecolor": "white",
            "showbackground": true,
            "ticks": "",
            "zerolinecolor": "white"
           },
           "zaxis": {
            "backgroundcolor": "#E5ECF6",
            "gridcolor": "white",
            "gridwidth": 2,
            "linecolor": "white",
            "showbackground": true,
            "ticks": "",
            "zerolinecolor": "white"
           }
          },
          "shapedefaults": {
           "line": {
            "color": "#2a3f5f"
           }
          },
          "ternary": {
           "aaxis": {
            "gridcolor": "white",
            "linecolor": "white",
            "ticks": ""
           },
           "baxis": {
            "gridcolor": "white",
            "linecolor": "white",
            "ticks": ""
           },
           "bgcolor": "#E5ECF6",
           "caxis": {
            "gridcolor": "white",
            "linecolor": "white",
            "ticks": ""
           }
          },
          "title": {
           "x": 0.05
          },
          "xaxis": {
           "automargin": true,
           "gridcolor": "white",
           "linecolor": "white",
           "ticks": "",
           "title": {
            "standoff": 15
           },
           "zerolinecolor": "white",
           "zerolinewidth": 2
          },
          "yaxis": {
           "automargin": true,
           "gridcolor": "white",
           "linecolor": "white",
           "ticks": "",
           "title": {
            "standoff": 15
           },
           "zerolinecolor": "white",
           "zerolinewidth": 2
          }
         }
        },
        "title": {
         "font": {
          "size": 15
         },
         "text": "Count of UPDR 2 Scores of Parkinson’s Disease Patients"
        },
        "width": 800,
        "xaxis": {
         "anchor": "y",
         "domain": [
          0,
          1
         ],
         "title": {
          "text": "UPDRS 2"
         }
        },
        "yaxis": {
         "anchor": "x",
         "domain": [
          0,
          1
         ],
         "title": {
          "text": "count"
         }
        }
       }
      },
      "text/html": [
       "<div>                            <div id=\"42cda5b9-62c3-4f6f-89ca-252d772a41a7\" class=\"plotly-graph-div\" style=\"height:500px; width:800px;\"></div>            <script type=\"text/javascript\">                require([\"plotly\"], function(Plotly) {                    window.PLOTLYENV=window.PLOTLYENV || {};                                    if (document.getElementById(\"42cda5b9-62c3-4f6f-89ca-252d772a41a7\")) {                    Plotly.newPlot(                        \"42cda5b9-62c3-4f6f-89ca-252d772a41a7\",                        [{\"alignmentgroup\":\"True\",\"bingroup\":\"x\",\"hovertemplate\":\"Clinical State on Medication UPD23B=On<br>UPDRS 2=%{x}<br>count=%{y}<extra></extra>\",\"legendgroup\":\"On\",\"marker\":{\"color\":\"rgb(93, 105, 177)\",\"pattern\":{\"shape\":\"\"}},\"name\":\"On\",\"offsetgroup\":\"On\",\"orientation\":\"v\",\"showlegend\":true,\"x\":[9.0,10.0,13.0,9.0,13.0,18.0,20.0,16.0,18.0,21.0,6.0,4.0,11.0,14.0,11.0,17.0,13.0,8.0,13.0,8.0,4.0,9.0,13.0,10.0,11.0,12.0,18.0,16.0,11.0,16.0,3.0,3.0,2.0,3.0,2.0,3.0,6.0,4.0,5.0,4.0,18.0,20.0,20.0,10.0,1.0,4.0,7.0,3.0,9.0,8.0,13.0,22.0,23.0,25.0,22.0,24.0,24.0,23.0,23.0,28.0,9.0,9.0,9.0,11.0,5.0,5.0,8.0,2.0,8.0,3.0,4.0,3.0,5.0,4.0,10.0,10.0,11.0,12.0,10.0,16.0,13.0,13.0,15.0,14.0,10.0,15.0,16.0,6.0,5.0,6.0,11.0,7.0,10.0,2.0,4.0,1.0,9.0,12.0,13.0,11.0,8.0,9.0,6.0,11.0,6.0,9.0,8.0,5.0,4.0,6.0,6.0,6.0,4.0,9.0,8.0,7.0,6.0,8.0,5.0,5.0,2.0,3.0,8.0,4.0,5.0,5.0,3.0,5.0,6.0,6.0,22.0,20.0,21.0,19.0,1.0,2.0,0.0,1.0,1.0,2.0,4.0,3.0,2.0,18.0,16.0,1.0,8.0,14.0,14.0,12.0,19.0,20.0,22.0,22.0,15.0,16.0,2.0,10.0,5.0,6.0,5.0,0.0,5.0,6.0,4.0,5.0,8.0,4.0,4.0,11.0,8.0,9.0,9.0,9.0,10.0,10.0,13.0,14.0,14.0,4.0,5.0,4.0,16.0,9.0,16.0,21.0,10.0,16.0,15.0,20.0,15.0,19.0,16.0,17.0,10.0,14.0,11.0,15.0,13.0,12.0,15.0,8.0,7.0,8.0,4.0,9.0,8.0,15.0,18.0,19.0,4.0,8.0,3.0,1.0,1.0,6.0,5.0,4.0,5.0,3.0,4.0,4.0,5.0,3.0,7.0,6.0,10.0,2.0,2.0,6.0,8.0,8.0,11.0,11.0,13.0,11.0,7.0,6.0,6.0,9.0,6.0,8.0,21.0,17.0,21.0,19.0,14.0,13.0,21.0,9.0,9.0,9.0,9.0,4.0,3.0,2.0,1.0,7.0,3.0,2.0,3.0,3.0,4.0,2.0,2.0,0.0,2.0,1.0,7.0,7.0,7.0,5.0,6.0,11.0,13.0,9.0,11.0,4.0,6.0,9.0,8.0,9.0,8.0,5.0,7.0,6.0,5.0,15.0,19.0,26.0,26.0,8.0,2.0,1.0,11.0,6.0,3.0,3.0,5.0,4.0,2.0,4.0,3.0,4.0,3.0,5.0,4.0,4.0,3.0,3.0,3.0,3.0,8.0,23.0,23.0,25.0,30.0,31.0,3.0,4.0,5.0,8.0,7.0,3.0,3.0,2.0,4.0,5.0,3.0,5.0,5.0,5.0,11.0,16.0,8.0,4.0,6.0,3.0,8.0,3.0,5.0,4.0,14.0,15.0,15.0,12.0,15.0,15.0,18.0,20.0,5.0,3.0,3.0,7.0,8.0,5.0,11.0,7.0,12.0,8.0,13.0,8.0,6.0,17.0,14.0,15.0,5.0,8.0,3.0,3.0,4.0,4.0,13.0,9.0,13.0,13.0,15.0,10.0,15.0,5.0,8.0,5.0,4.0,5.0,6.0,3.0,6.0,3.0,2.0,4.0,3.0,3.0,5.0,9.0,4.0,9.0,7.0,7.0,6.0,6.0,12.0,6.0,5.0,8.0,10.0,11.0,13.0,11.0,4.0,2.0,6.0,5.0,9.0,17.0,11.0,11.0,8.0,14.0,16.0,15.0,19.0,27.0,35.0,40.0,14.0,14.0,15.0,19.0,15.0,17.0,12.0,7.0,13.0,15.0,14.0,16.0,15.0,15.0,13.0,13.0,15.0,4.0,8.0,6.0,6.0,10.0,5.0,9.0,3.0,7.0,4.0,9.0,13.0,8.0,8.0,11.0,29.0,5.0,10.0,9.0,3.0,9.0,7.0,15.0,11.0,14.0,14.0,7.0,10.0,15.0,13.0,10.0,11.0,26.0,20.0,24.0,20.0,20.0,25.0,23.0,25.0,12.0,8.0,8.0,8.0,10.0,6.0,3.0,8.0,10.0,12.0,12.0,7.0,11.0,8.0,10.0,9.0,9.0,12.0,3.0,12.0,4.0,5.0,2.0,8.0,7.0,10.0,8.0,9.0,8.0,11.0,13.0,8.0,4.0,7.0,12.0,8.0,12.0,8.0,4.0,5.0,6.0,15.0,14.0,15.0,25.0,25.0,39.0,8.0,8.0,13.0,8.0,16.0,18.0,19.0,18.0,17.0,18.0,15.0,4.0,1.0,4.0,2.0,6.0,5.0,8.0,10.0,7.0,2.0,4.0,6.0,6.0,3.0,12.0,6.0,2.0,5.0,10.0,7.0,6.0,1.0,1.0,2.0,12.0,18.0,10.0,13.0,17.0,7.0,1.0,1.0,2.0,4.0,2.0,6.0,6.0,10.0,8.0,12.0,13.0,18.0,10.0,14.0,16.0,13.0,15.0,18.0,20.0,24.0,18.0,2.0,2.0,1.0,2.0,4.0,5.0,10.0,14.0,16.0,16.0,27.0,24.0,6.0,2.0,6.0,8.0,4.0,2.0,4.0,6.0,5.0,4.0,6.0,6.0,15.0,22.0,17.0,16.0,18.0,15.0,20.0,9.0,13.0,5.0,1.0,4.0,5.0,4.0,8.0,5.0,7.0,14.0,14.0,12.0,9.0,12.0,16.0,21.0,17.0,18.0,8.0,1.0,7.0,6.0,8.0,2.0,2.0,2.0,2.0,2.0,1.0,5.0,12.0,11.0,19.0,6.0,10.0,11.0,10.0,13.0,16.0,13.0,13.0,10.0,4.0,5.0,5.0,6.0,7.0,8.0,7.0,12.0,16.0,6.0,10.0,12.0,9.0,6.0,11.0,11.0,3.0,4.0,3.0,4.0,5.0,12.0,4.0,6.0,12.0,9.0,8.0,7.0,9.0,12.0,8.0,3.0,10.0,2.0,4.0,8.0,6.0,5.0,7.0,9.0,11.0,10.0,15.0,17.0,16.0,19.0,18.0,18.0,22.0,20.0,22.0,12.0,5.0,10.0,7.0,6.0,5.0,12.0,19.0,27.0,36.0,5.0,4.0,8.0,12.0,13.0,10.0,11.0,11.0,8.0,11.0,6.0,6.0,7.0,11.0,3.0,4.0,4.0,3.0,3.0,3.0,2.0,3.0,8.0,10.0,6.0,16.0,2.0,2.0,3.0,3.0,3.0,4.0,6.0,6.0,5.0,2.0,8.0,9.0,16.0,9.0,13.0,17.0,13.0,18.0,16.0,19.0,15.0,17.0,14.0,7.0],\"xaxis\":\"x\",\"yaxis\":\"y\",\"type\":\"histogram\"},{\"alignmentgroup\":\"True\",\"bingroup\":\"x\",\"hovertemplate\":\"Clinical State on Medication UPD23B=Off<br>UPDRS 2=%{x}<br>count=%{y}<extra></extra>\",\"legendgroup\":\"Off\",\"marker\":{\"color\":\"rgb(82, 188, 163)\",\"pattern\":{\"shape\":\"\"}},\"name\":\"Off\",\"offsetgroup\":\"Off\",\"orientation\":\"v\",\"showlegend\":true,\"x\":[2.0,8.0,9.0,15.0,18.0,18.0,6.0,8.0,10.0,11.0,13.0,15.0,4.0,11.0,15.0,19.0,23.0,19.0,19.0,26.0,20.0,17.0,18.0,18.0,14.0,14.0,8.0,7.0,9.0,8.0,13.0,10.0,7.0,9.0,10.0,9.0,13.0,23.0,7.0,11.0,9.0,13.0,5.0,6.0,5.0,3.0,4.0,5.0,7.0,6.0,11.0,13.0,11.0,10.0,14.0,2.0,5.0,6.0,3.0,3.0,7.0,9.0,5.0,10.0,1.0,3.0,2.0,6.0,11.0,8.0,8.0,9.0,5.0,3.0,5.0,5.0,19.0,20.0,20.0,19.0,24.0,18.0,26.0,24.0,24.0,15.0,15.0,18.0,18.0,20.0,5.0,6.0,6.0,11.0,6.0,3.0,2.0,4.0,9.0,3.0,10.0,5.0,12.0,15.0,21.0,11.0,9.0,11.0,10.0,13.0,15.0,14.0,10.0,5.0,6.0,9.0,11.0,14.0,9.0,7.0,9.0,12.0,3.0,5.0,6.0,10.0,7.0,9.0,12.0,7.0,10.0,11.0,8.0,10.0,10.0,10.0,10.0,6.0,11.0,12.0,3.0,1.0,2.0,3.0,5.0,2.0,3.0,6.0,9.0,7.0,6.0,6.0,7.0,8.0,8.0,11.0,13.0,15.0,13.0,16.0,13.0,6.0,2.0,3.0,6.0,6.0,7.0,6.0,5.0,6.0,0.0,8.0,9.0,23.0,23.0,23.0,28.0,12.0,11.0,4.0,3.0,6.0,4.0,7.0,9.0,11.0,0.0,5.0,1.0,3.0,5.0,3.0,8.0,19.0,20.0,21.0,23.0,26.0,7.0,7.0,3.0,5.0,12.0,14.0,13.0,14.0,15.0,14.0,13.0,10.0,6.0,7.0,1.0,13.0,5.0,19.0,9.0,7.0,7.0,6.0,5.0,6.0,6.0,14.0,14.0,6.0,3.0,9.0,11.0,10.0,12.0,15.0,16.0,4.0,10.0,11.0,7.0,5.0,2.0,5.0,6.0,7.0,8.0,6.0,8.0,7.0,5.0,4.0,6.0,7.0,4.0,8.0,8.0,2.0,5.0,9.0,7.0,15.0,18.0,7.0,8.0,13.0,10.0,4.0,7.0,13.0,13.0,14.0,14.0,15.0,17.0,16.0,15.0,7.0,14.0,22.0,11.0,13.0,12.0,12.0,15.0,25.0,16.0,10.0,8.0,6.0,6.0,5.0,7.0,8.0,6.0,7.0,5.0,9.0,7.0,11.0,21.0,20.0,10.0,12.0,10.0,8.0,8.0,10.0,11.0,4.0,7.0,14.0,18.0,4.0,7.0,10.0,11.0,19.0,21.0,19.0,19.0,26.0,24.0,27.0,15.0,15.0,28.0,27.0,28.0,13.0,22.0,17.0,13.0,14.0,23.0,20.0,4.0,1.0,8.0,9.0,1.0,2.0,8.0,8.0,3.0,6.0,5.0,14.0,17.0,17.0,16.0,11.0,15.0,18.0,16.0,11.0,1.0,1.0,2.0,3.0,3.0,5.0,13.0,9.0,12.0,16.0,3.0,1.0,2.0,8.0,6.0,7.0,6.0,4.0,5.0,3.0,1.0,8.0,13.0,17.0,16.0,23.0,21.0,22.0,10.0,9.0,8.0,7.0,4.0,8.0,2.0,5.0,8.0,9.0,13.0,17.0,4.0,7.0,10.0,14.0,21.0,0.0,8.0,6.0,5.0,5.0,6.0,6.0,10.0,15.0,19.0,19.0,16.0,10.0,9.0,4.0,4.0,2.0,5.0,5.0,8.0,6.0,3.0,3.0,5.0,1.0,4.0,3.0,2.0,1.0,10.0,10.0,6.0,7.0,7.0,11.0,11.0,12.0,8.0,9.0,10.0,10.0,11.0,14.0,16.0,18.0,20.0,16.0,17.0,11.0,13.0,16.0,13.0,17.0,15.0,10.0,3.0,7.0,9.0,8.0,3.0,5.0,8.0,5.0,5.0,2.0,3.0,6.0,8.0,9.0,9.0,13.0,15.0,14.0,17.0,17.0,20.0,9.0,7.0,9.0,12.0,8.0,11.0,13.0,12.0,13.0,14.0,12.0,7.0,6.0,5.0,7.0,9.0,8.0,3.0,10.0,4.0,3.0,5.0,5.0,18.0,18.0,15.0,13.0,13.0,15.0,19.0,7.0,7.0,4.0,7.0,10.0,6.0,8.0,6.0,9.0,9.0],\"xaxis\":\"x\",\"yaxis\":\"y\",\"type\":\"histogram\"}],                        {\"template\":{\"data\":{\"histogram2dcontour\":[{\"type\":\"histogram2dcontour\",\"colorbar\":{\"outlinewidth\":0,\"ticks\":\"\"},\"colorscale\":[[0.0,\"#0d0887\"],[0.1111111111111111,\"#46039f\"],[0.2222222222222222,\"#7201a8\"],[0.3333333333333333,\"#9c179e\"],[0.4444444444444444,\"#bd3786\"],[0.5555555555555556,\"#d8576b\"],[0.6666666666666666,\"#ed7953\"],[0.7777777777777778,\"#fb9f3a\"],[0.8888888888888888,\"#fdca26\"],[1.0,\"#f0f921\"]]}],\"choropleth\":[{\"type\":\"choropleth\",\"colorbar\":{\"outlinewidth\":0,\"ticks\":\"\"}}],\"histogram2d\":[{\"type\":\"histogram2d\",\"colorbar\":{\"outlinewidth\":0,\"ticks\":\"\"},\"colorscale\":[[0.0,\"#0d0887\"],[0.1111111111111111,\"#46039f\"],[0.2222222222222222,\"#7201a8\"],[0.3333333333333333,\"#9c179e\"],[0.4444444444444444,\"#bd3786\"],[0.5555555555555556,\"#d8576b\"],[0.6666666666666666,\"#ed7953\"],[0.7777777777777778,\"#fb9f3a\"],[0.8888888888888888,\"#fdca26\"],[1.0,\"#f0f921\"]]}],\"heatmap\":[{\"type\":\"heatmap\",\"colorbar\":{\"outlinewidth\":0,\"ticks\":\"\"},\"colorscale\":[[0.0,\"#0d0887\"],[0.1111111111111111,\"#46039f\"],[0.2222222222222222,\"#7201a8\"],[0.3333333333333333,\"#9c179e\"],[0.4444444444444444,\"#bd3786\"],[0.5555555555555556,\"#d8576b\"],[0.6666666666666666,\"#ed7953\"],[0.7777777777777778,\"#fb9f3a\"],[0.8888888888888888,\"#fdca26\"],[1.0,\"#f0f921\"]]}],\"heatmapgl\":[{\"type\":\"heatmapgl\",\"colorbar\":{\"outlinewidth\":0,\"ticks\":\"\"},\"colorscale\":[[0.0,\"#0d0887\"],[0.1111111111111111,\"#46039f\"],[0.2222222222222222,\"#7201a8\"],[0.3333333333333333,\"#9c179e\"],[0.4444444444444444,\"#bd3786\"],[0.5555555555555556,\"#d8576b\"],[0.6666666666666666,\"#ed7953\"],[0.7777777777777778,\"#fb9f3a\"],[0.8888888888888888,\"#fdca26\"],[1.0,\"#f0f921\"]]}],\"contourcarpet\":[{\"type\":\"contourcarpet\",\"colorbar\":{\"outlinewidth\":0,\"ticks\":\"\"}}],\"contour\":[{\"type\":\"contour\",\"colorbar\":{\"outlinewidth\":0,\"ticks\":\"\"},\"colorscale\":[[0.0,\"#0d0887\"],[0.1111111111111111,\"#46039f\"],[0.2222222222222222,\"#7201a8\"],[0.3333333333333333,\"#9c179e\"],[0.4444444444444444,\"#bd3786\"],[0.5555555555555556,\"#d8576b\"],[0.6666666666666666,\"#ed7953\"],[0.7777777777777778,\"#fb9f3a\"],[0.8888888888888888,\"#fdca26\"],[1.0,\"#f0f921\"]]}],\"surface\":[{\"type\":\"surface\",\"colorbar\":{\"outlinewidth\":0,\"ticks\":\"\"},\"colorscale\":[[0.0,\"#0d0887\"],[0.1111111111111111,\"#46039f\"],[0.2222222222222222,\"#7201a8\"],[0.3333333333333333,\"#9c179e\"],[0.4444444444444444,\"#bd3786\"],[0.5555555555555556,\"#d8576b\"],[0.6666666666666666,\"#ed7953\"],[0.7777777777777778,\"#fb9f3a\"],[0.8888888888888888,\"#fdca26\"],[1.0,\"#f0f921\"]]}],\"mesh3d\":[{\"type\":\"mesh3d\",\"colorbar\":{\"outlinewidth\":0,\"ticks\":\"\"}}],\"scatter\":[{\"fillpattern\":{\"fillmode\":\"overlay\",\"size\":10,\"solidity\":0.2},\"type\":\"scatter\"}],\"parcoords\":[{\"type\":\"parcoords\",\"line\":{\"colorbar\":{\"outlinewidth\":0,\"ticks\":\"\"}}}],\"scatterpolargl\":[{\"type\":\"scatterpolargl\",\"marker\":{\"colorbar\":{\"outlinewidth\":0,\"ticks\":\"\"}}}],\"bar\":[{\"error_x\":{\"color\":\"#2a3f5f\"},\"error_y\":{\"color\":\"#2a3f5f\"},\"marker\":{\"line\":{\"color\":\"#E5ECF6\",\"width\":0.5},\"pattern\":{\"fillmode\":\"overlay\",\"size\":10,\"solidity\":0.2}},\"type\":\"bar\"}],\"scattergeo\":[{\"type\":\"scattergeo\",\"marker\":{\"colorbar\":{\"outlinewidth\":0,\"ticks\":\"\"}}}],\"scatterpolar\":[{\"type\":\"scatterpolar\",\"marker\":{\"colorbar\":{\"outlinewidth\":0,\"ticks\":\"\"}}}],\"histogram\":[{\"marker\":{\"pattern\":{\"fillmode\":\"overlay\",\"size\":10,\"solidity\":0.2}},\"type\":\"histogram\"}],\"scattergl\":[{\"type\":\"scattergl\",\"marker\":{\"colorbar\":{\"outlinewidth\":0,\"ticks\":\"\"}}}],\"scatter3d\":[{\"type\":\"scatter3d\",\"line\":{\"colorbar\":{\"outlinewidth\":0,\"ticks\":\"\"}},\"marker\":{\"colorbar\":{\"outlinewidth\":0,\"ticks\":\"\"}}}],\"scattermapbox\":[{\"type\":\"scattermapbox\",\"marker\":{\"colorbar\":{\"outlinewidth\":0,\"ticks\":\"\"}}}],\"scatterternary\":[{\"type\":\"scatterternary\",\"marker\":{\"colorbar\":{\"outlinewidth\":0,\"ticks\":\"\"}}}],\"scattercarpet\":[{\"type\":\"scattercarpet\",\"marker\":{\"colorbar\":{\"outlinewidth\":0,\"ticks\":\"\"}}}],\"carpet\":[{\"aaxis\":{\"endlinecolor\":\"#2a3f5f\",\"gridcolor\":\"white\",\"linecolor\":\"white\",\"minorgridcolor\":\"white\",\"startlinecolor\":\"#2a3f5f\"},\"baxis\":{\"endlinecolor\":\"#2a3f5f\",\"gridcolor\":\"white\",\"linecolor\":\"white\",\"minorgridcolor\":\"white\",\"startlinecolor\":\"#2a3f5f\"},\"type\":\"carpet\"}],\"table\":[{\"cells\":{\"fill\":{\"color\":\"#EBF0F8\"},\"line\":{\"color\":\"white\"}},\"header\":{\"fill\":{\"color\":\"#C8D4E3\"},\"line\":{\"color\":\"white\"}},\"type\":\"table\"}],\"barpolar\":[{\"marker\":{\"line\":{\"color\":\"#E5ECF6\",\"width\":0.5},\"pattern\":{\"fillmode\":\"overlay\",\"size\":10,\"solidity\":0.2}},\"type\":\"barpolar\"}],\"pie\":[{\"automargin\":true,\"type\":\"pie\"}]},\"layout\":{\"autotypenumbers\":\"strict\",\"colorway\":[\"#636efa\",\"#EF553B\",\"#00cc96\",\"#ab63fa\",\"#FFA15A\",\"#19d3f3\",\"#FF6692\",\"#B6E880\",\"#FF97FF\",\"#FECB52\"],\"font\":{\"color\":\"#2a3f5f\"},\"hovermode\":\"closest\",\"hoverlabel\":{\"align\":\"left\"},\"paper_bgcolor\":\"white\",\"plot_bgcolor\":\"#E5ECF6\",\"polar\":{\"bgcolor\":\"#E5ECF6\",\"angularaxis\":{\"gridcolor\":\"white\",\"linecolor\":\"white\",\"ticks\":\"\"},\"radialaxis\":{\"gridcolor\":\"white\",\"linecolor\":\"white\",\"ticks\":\"\"}},\"ternary\":{\"bgcolor\":\"#E5ECF6\",\"aaxis\":{\"gridcolor\":\"white\",\"linecolor\":\"white\",\"ticks\":\"\"},\"baxis\":{\"gridcolor\":\"white\",\"linecolor\":\"white\",\"ticks\":\"\"},\"caxis\":{\"gridcolor\":\"white\",\"linecolor\":\"white\",\"ticks\":\"\"}},\"coloraxis\":{\"colorbar\":{\"outlinewidth\":0,\"ticks\":\"\"}},\"colorscale\":{\"sequential\":[[0.0,\"#0d0887\"],[0.1111111111111111,\"#46039f\"],[0.2222222222222222,\"#7201a8\"],[0.3333333333333333,\"#9c179e\"],[0.4444444444444444,\"#bd3786\"],[0.5555555555555556,\"#d8576b\"],[0.6666666666666666,\"#ed7953\"],[0.7777777777777778,\"#fb9f3a\"],[0.8888888888888888,\"#fdca26\"],[1.0,\"#f0f921\"]],\"sequentialminus\":[[0.0,\"#0d0887\"],[0.1111111111111111,\"#46039f\"],[0.2222222222222222,\"#7201a8\"],[0.3333333333333333,\"#9c179e\"],[0.4444444444444444,\"#bd3786\"],[0.5555555555555556,\"#d8576b\"],[0.6666666666666666,\"#ed7953\"],[0.7777777777777778,\"#fb9f3a\"],[0.8888888888888888,\"#fdca26\"],[1.0,\"#f0f921\"]],\"diverging\":[[0,\"#8e0152\"],[0.1,\"#c51b7d\"],[0.2,\"#de77ae\"],[0.3,\"#f1b6da\"],[0.4,\"#fde0ef\"],[0.5,\"#f7f7f7\"],[0.6,\"#e6f5d0\"],[0.7,\"#b8e186\"],[0.8,\"#7fbc41\"],[0.9,\"#4d9221\"],[1,\"#276419\"]]},\"xaxis\":{\"gridcolor\":\"white\",\"linecolor\":\"white\",\"ticks\":\"\",\"title\":{\"standoff\":15},\"zerolinecolor\":\"white\",\"automargin\":true,\"zerolinewidth\":2},\"yaxis\":{\"gridcolor\":\"white\",\"linecolor\":\"white\",\"ticks\":\"\",\"title\":{\"standoff\":15},\"zerolinecolor\":\"white\",\"automargin\":true,\"zerolinewidth\":2},\"scene\":{\"xaxis\":{\"backgroundcolor\":\"#E5ECF6\",\"gridcolor\":\"white\",\"linecolor\":\"white\",\"showbackground\":true,\"ticks\":\"\",\"zerolinecolor\":\"white\",\"gridwidth\":2},\"yaxis\":{\"backgroundcolor\":\"#E5ECF6\",\"gridcolor\":\"white\",\"linecolor\":\"white\",\"showbackground\":true,\"ticks\":\"\",\"zerolinecolor\":\"white\",\"gridwidth\":2},\"zaxis\":{\"backgroundcolor\":\"#E5ECF6\",\"gridcolor\":\"white\",\"linecolor\":\"white\",\"showbackground\":true,\"ticks\":\"\",\"zerolinecolor\":\"white\",\"gridwidth\":2}},\"shapedefaults\":{\"line\":{\"color\":\"#2a3f5f\"}},\"annotationdefaults\":{\"arrowcolor\":\"#2a3f5f\",\"arrowhead\":0,\"arrowwidth\":1},\"geo\":{\"bgcolor\":\"white\",\"landcolor\":\"#E5ECF6\",\"subunitcolor\":\"white\",\"showland\":true,\"showlakes\":true,\"lakecolor\":\"white\"},\"title\":{\"x\":0.05},\"mapbox\":{\"style\":\"light\"}}},\"xaxis\":{\"anchor\":\"y\",\"domain\":[0.0,1.0],\"title\":{\"text\":\"UPDRS 2\"}},\"yaxis\":{\"anchor\":\"x\",\"domain\":[0.0,1.0],\"title\":{\"text\":\"count\"}},\"legend\":{\"title\":{\"text\":\"Clinical State on Medication UPD23B\"},\"tracegroupgap\":0},\"title\":{\"text\":\"Count of UPDR 2 Scores of Parkinson\\u2019s Disease Patients\",\"font\":{\"size\":15}},\"barmode\":\"relative\",\"height\":500,\"width\":800},                        {\"responsive\": true}                    ).then(function(){\n",
       "                            \n",
       "var gd = document.getElementById('42cda5b9-62c3-4f6f-89ca-252d772a41a7');\n",
       "var x = new MutationObserver(function (mutations, observer) {{\n",
       "        var display = window.getComputedStyle(gd).display;\n",
       "        if (!display || display === 'none') {{\n",
       "            console.log([gd, 'removed!']);\n",
       "            Plotly.purge(gd);\n",
       "            observer.disconnect();\n",
       "        }}\n",
       "}});\n",
       "\n",
       "// Listen for the removal of the full notebook cells\n",
       "var notebookContainer = gd.closest('#notebook-container');\n",
       "if (notebookContainer) {{\n",
       "    x.observe(notebookContainer, {childList: true});\n",
       "}}\n",
       "\n",
       "// Listen for the clearing of the current output cell\n",
       "var outputEl = gd.closest('.output');\n",
       "if (outputEl) {{\n",
       "    x.observe(outputEl, {childList: true});\n",
       "}}\n",
       "\n",
       "                        })                };                });            </script>        </div>"
      ]
     },
     "metadata": {},
     "output_type": "display_data"
    }
   ],
   "source": [
    " fig=px.histogram(train_clinical,\n",
    "                     x = 'UPDRS 2',\n",
    "                     color = 'Clinical State on Medication UPD23B',\n",
    "                     title= 'Count of UPDR 2 Scores of Parkinson’s Disease Patients',\n",
    "                     color_discrete_sequence=px.colors.qualitative.Vivid,\n",
    "                     width=800, height=500)\n",
    "fig.update_layout(title_font_size=15)\n",
    "fig.show()"
   ]
  },
  {
   "cell_type": "code",
   "execution_count": 35,
   "id": "2da42fcd",
   "metadata": {},
   "outputs": [
    {
     "data": {
      "application/vnd.plotly.v1+json": {
       "config": {
        "plotlyServerURL": "https://plot.ly"
       },
       "data": [
        {
         "alignmentgroup": "True",
         "bingroup": "x",
         "hovertemplate": "Clinical State on Medication UPD23B=On<br>UPDRS 3=%{x}<br>count=%{y}<extra></extra>",
         "legendgroup": "On",
         "marker": {
          "color": "rgb(93, 105, 177)",
          "pattern": {
           "shape": ""
          }
         },
         "name": "On",
         "offsetgroup": "On",
         "orientation": "v",
         "showlegend": true,
         "type": "histogram",
         "x": [
          30,
          41,
          38,
          49,
          49,
          51,
          41,
          52,
          51,
          56,
          25,
          30,
          32,
          25,
          28,
          31,
          37,
          11,
          15,
          7,
          6,
          12,
          36,
          38,
          29,
          41,
          28,
          32,
          28,
          25,
          21,
          23,
          21,
          21,
          19,
          13,
          19,
          11,
          15,
          17,
          46,
          51,
          54,
          12,
          9,
          12,
          17,
          4,
          17,
          30,
          28,
          53,
          45,
          47,
          56,
          53,
          51,
          54,
          55,
          51,
          13,
          14,
          12,
          10,
          23,
          31,
          29,
          27,
          6,
          18,
          11,
          20,
          6,
          5,
          19,
          29,
          23,
          21,
          16,
          24,
          11,
          14,
          12,
          9,
          13,
          16,
          17,
          15,
          15,
          31,
          25,
          19,
          20,
          11,
          26,
          27,
          31,
          null,
          30,
          25,
          26,
          35,
          26,
          29,
          41,
          18,
          15,
          18,
          28,
          9,
          30,
          7,
          12,
          21,
          28,
          34,
          25,
          43,
          30,
          17,
          18,
          9,
          21,
          17,
          21,
          18,
          24,
          12,
          14,
          19,
          40,
          34,
          48,
          33,
          7,
          6,
          6,
          9,
          8,
          5,
          5,
          14,
          16,
          59,
          26,
          12,
          10,
          7,
          14,
          7,
          4,
          4,
          10,
          10,
          15,
          5,
          15,
          16,
          18,
          17,
          18,
          17,
          25,
          25,
          33,
          35,
          40,
          29,
          22,
          25,
          20,
          33,
          32,
          36,
          25,
          38,
          31,
          28,
          21,
          13,
          19,
          28,
          46,
          37,
          33,
          50,
          19,
          28,
          26,
          41,
          32,
          64,
          38,
          20,
          32,
          36,
          17,
          37,
          23,
          26,
          33,
          28,
          23,
          26,
          25,
          35,
          25,
          33,
          32,
          54,
          21,
          22,
          26,
          26,
          22,
          17,
          17,
          21,
          16,
          21,
          23,
          14,
          23,
          32,
          24,
          26,
          56,
          37,
          33,
          40,
          40,
          49,
          39,
          32,
          36,
          51,
          12,
          19,
          14,
          23,
          32,
          null,
          46,
          41,
          36,
          39,
          31,
          53,
          58,
          20,
          17,
          21,
          19,
          6,
          24,
          27,
          20,
          38,
          18,
          19,
          27,
          6,
          10,
          9,
          11,
          16,
          6,
          12,
          17,
          15,
          16,
          6,
          8,
          10,
          16,
          9,
          12,
          10,
          7,
          10,
          10,
          13,
          16,
          24,
          24,
          7,
          13,
          27,
          24,
          15,
          14,
          28,
          12,
          11,
          17,
          30,
          18,
          18,
          15,
          23,
          12,
          9,
          19,
          29,
          9,
          13,
          10,
          5,
          10,
          19,
          10,
          13,
          33,
          28,
          33,
          40,
          47,
          66,
          12,
          19,
          null,
          26,
          20,
          22,
          21,
          17,
          12,
          16,
          20,
          20,
          18,
          24,
          29,
          42,
          9,
          12,
          12,
          10,
          19,
          22,
          15,
          14,
          26,
          17,
          19,
          23,
          27,
          27,
          22,
          25,
          20,
          13,
          6,
          17,
          13,
          21,
          18,
          19,
          27,
          32,
          37,
          24,
          6,
          46,
          26,
          31,
          29,
          24,
          31,
          16,
          22,
          17,
          26,
          10,
          40,
          37,
          34,
          24,
          15,
          17,
          28,
          15,
          9,
          9,
          11,
          15,
          19,
          19,
          12,
          11,
          9,
          5,
          12,
          18,
          31,
          23,
          7,
          8,
          10,
          12,
          20,
          13,
          18,
          21,
          18,
          15,
          20,
          13,
          10,
          10,
          20,
          4,
          null,
          54,
          35,
          42,
          22,
          40,
          35,
          48,
          45,
          63,
          86,
          85,
          30,
          26,
          49,
          39,
          38,
          40,
          11,
          16,
          11,
          17,
          29,
          36,
          36,
          32,
          35,
          21,
          24,
          19,
          11,
          10,
          15,
          11,
          22,
          32,
          13,
          18,
          13,
          24,
          31,
          26,
          29,
          34,
          56,
          11,
          28,
          28,
          18,
          25,
          32,
          40,
          43,
          31,
          31,
          29,
          37,
          null,
          21,
          28,
          18,
          52,
          55,
          67,
          47,
          60,
          57,
          67,
          53,
          28,
          28,
          30,
          12,
          7,
          16,
          39,
          34,
          19,
          27,
          28,
          30,
          23,
          32,
          29,
          23,
          30,
          26,
          26,
          28,
          11,
          28,
          19,
          13,
          10,
          18,
          25,
          32,
          20,
          31,
          36,
          19,
          16,
          18,
          19,
          8,
          31,
          25,
          17,
          15,
          11,
          10,
          15,
          18,
          55,
          44,
          15,
          21,
          9,
          17,
          22,
          21,
          21,
          23,
          26,
          28,
          36,
          27,
          11,
          22,
          16,
          20,
          27,
          11,
          16,
          24,
          15,
          8,
          7,
          19,
          25,
          21,
          25,
          18,
          9,
          29,
          26,
          27,
          null,
          28,
          25,
          26,
          17,
          20,
          26,
          28,
          33,
          33,
          26,
          33,
          16,
          13,
          11,
          5,
          12,
          21,
          16,
          18,
          18,
          21,
          11,
          20,
          null,
          21,
          29,
          29,
          40,
          43,
          49,
          34,
          25,
          10,
          8,
          9,
          12,
          50,
          62,
          43,
          57,
          58,
          19,
          33,
          19,
          40,
          16,
          20,
          15,
          20,
          15,
          18,
          23,
          36,
          21,
          42,
          40,
          41,
          31,
          35,
          35,
          44,
          38,
          40,
          15,
          null,
          12,
          13,
          18,
          22,
          28,
          28,
          34,
          40,
          13,
          17,
          26,
          27,
          23,
          40,
          26,
          22,
          15,
          18,
          21,
          28,
          17,
          19,
          21,
          15,
          6,
          26,
          29,
          34,
          44,
          58,
          22,
          18,
          44,
          39,
          48,
          24,
          36,
          37,
          35,
          17,
          20,
          19,
          8,
          18,
          14,
          19,
          18,
          7,
          28,
          16,
          26,
          36,
          30,
          38,
          24,
          11,
          23,
          20,
          17,
          10,
          32,
          21,
          11,
          21,
          23,
          23,
          21,
          15,
          14,
          22,
          13,
          10,
          8,
          18,
          22,
          21,
          17,
          29,
          28,
          37,
          33,
          35,
          29,
          14,
          19,
          26,
          28,
          21,
          15,
          21,
          16,
          31,
          39,
          19,
          19,
          28,
          43,
          45,
          45,
          59,
          40,
          44,
          28,
          26,
          28,
          30,
          35,
          24,
          20,
          30,
          32,
          30,
          28,
          29,
          1,
          11,
          1,
          3,
          2,
          3,
          1,
          6,
          21,
          33,
          9,
          16,
          9,
          6,
          3,
          5,
          4,
          12,
          13,
          14,
          21,
          7,
          10,
          26,
          17,
          17,
          20,
          25,
          38,
          49,
          48,
          39,
          36,
          46,
          57,
          11
         ],
         "xaxis": "x",
         "yaxis": "y"
        },
        {
         "alignmentgroup": "True",
         "bingroup": "x",
         "hovertemplate": "Clinical State on Medication UPD23B=Off<br>UPDRS 3=%{x}<br>count=%{y}<extra></extra>",
         "legendgroup": "Off",
         "marker": {
          "color": "rgb(82, 188, 163)",
          "pattern": {
           "shape": ""
          }
         },
         "name": "Off",
         "offsetgroup": "Off",
         "orientation": "v",
         "showlegend": true,
         "type": "histogram",
         "x": [
          33,
          26,
          39,
          39,
          40,
          39,
          15,
          8,
          6,
          10,
          9,
          18,
          25,
          30,
          30,
          30,
          45,
          63,
          50,
          38,
          34,
          46,
          51,
          49,
          43,
          52,
          17,
          16,
          14,
          11,
          26,
          27,
          16,
          34,
          39,
          21,
          46,
          68,
          25,
          15,
          17,
          28,
          21,
          35,
          32,
          39,
          9,
          22,
          10,
          13,
          22,
          18,
          30,
          23,
          18,
          21,
          20,
          21,
          26,
          29,
          32,
          38,
          35,
          35,
          21,
          18,
          21,
          24,
          29,
          15,
          28,
          31,
          25,
          25,
          33,
          26,
          39,
          59,
          40,
          44,
          45,
          52,
          46,
          44,
          54,
          44,
          41,
          48,
          46,
          53,
          27,
          39,
          59,
          44,
          24,
          16,
          17,
          19,
          22,
          25,
          33,
          36,
          36,
          37,
          34,
          35,
          34,
          35,
          38,
          40,
          39,
          50,
          41,
          31,
          35,
          28,
          41,
          31,
          19,
          24,
          18,
          26,
          33,
          28,
          31,
          32,
          31,
          46,
          39,
          25,
          29,
          21,
          27,
          26,
          24,
          37,
          21,
          23,
          21,
          35,
          29,
          29,
          26,
          34,
          20,
          23,
          33,
          41,
          53,
          12,
          17,
          10,
          31,
          19,
          26,
          29,
          23,
          31,
          39,
          51,
          30,
          5,
          23,
          30,
          26,
          29,
          11,
          14,
          18,
          24,
          21,
          31,
          43,
          51,
          42,
          43,
          60,
          27,
          11,
          14,
          24,
          16,
          30,
          14,
          35,
          28,
          22,
          17,
          25,
          9,
          23,
          14,
          30,
          26,
          27,
          31,
          52,
          49,
          25,
          25,
          31,
          14,
          37,
          33,
          37,
          35,
          43,
          42,
          16,
          17,
          15,
          22,
          28,
          30,
          23,
          40,
          28,
          22,
          13,
          15,
          28,
          37,
          38,
          38,
          30,
          27,
          33,
          34,
          34,
          40,
          43,
          45,
          52,
          29,
          28,
          29,
          19,
          24,
          8,
          16,
          19,
          14,
          18,
          18,
          14,
          32,
          25,
          29,
          23,
          14,
          1,
          17,
          10,
          9,
          13,
          25,
          28,
          33,
          60,
          35,
          37,
          33,
          51,
          36,
          49,
          56,
          66,
          47,
          47,
          52,
          46,
          46,
          43,
          32,
          41,
          47,
          19,
          27,
          24,
          29,
          41,
          26,
          78,
          28,
          30,
          14,
          12,
          31,
          32,
          34,
          34,
          35,
          24,
          45,
          30,
          30,
          27,
          37,
          31,
          33,
          15,
          14,
          30,
          34,
          38,
          29,
          34,
          36,
          49,
          34,
          16,
          4,
          29,
          52,
          38,
          44,
          29,
          33,
          38,
          45,
          18,
          24,
          36,
          33,
          47,
          26,
          35,
          31,
          30,
          47,
          56,
          50,
          18,
          21,
          22,
          33,
          31,
          29,
          31,
          38,
          20,
          37,
          42,
          33,
          23,
          13,
          29,
          26,
          36,
          39,
          22,
          33,
          28,
          29,
          25,
          23,
          24,
          19,
          25,
          18,
          33,
          31,
          27,
          32,
          40,
          29,
          32,
          44,
          8,
          10,
          23,
          14,
          12,
          47,
          61,
          50,
          65,
          28,
          25,
          23,
          45,
          32,
          48,
          23,
          37,
          23,
          36,
          30,
          36,
          35,
          42,
          45,
          36,
          38,
          39,
          21,
          48,
          20,
          43,
          46,
          25,
          26,
          29,
          35,
          34,
          38,
          39,
          48,
          46,
          10,
          24,
          19,
          15,
          20,
          33,
          37,
          29,
          33,
          23,
          32,
          21,
          19,
          12,
          22,
          28,
          27,
          34,
          39,
          41,
          38,
          43,
          40,
          40,
          41,
          22,
          22,
          19,
          55,
          46,
          43,
          58,
          60,
          47,
          31,
          23,
          31,
          22,
          35,
          33,
          30,
          36,
          34,
          18,
          27,
          12,
          28,
          19,
          16,
          36,
          22,
          37,
          36,
          38,
          43,
          39,
          26,
          30,
          31,
          35,
          24,
          31,
          34,
          41,
          33,
          32,
          33,
          41,
          31,
          31,
          38,
          44,
          51,
          50,
          50,
          39,
          30,
          22,
          37,
          35,
          32,
          30,
          21,
          17,
          18,
          27,
          28,
          53,
          49,
          38,
          45,
          53,
          45,
          60,
          14,
          13,
          4,
          5,
          15,
          13,
          11,
          16,
          14,
          20
         ],
         "xaxis": "x",
         "yaxis": "y"
        }
       ],
       "layout": {
        "barmode": "relative",
        "height": 500,
        "legend": {
         "title": {
          "text": "Clinical State on Medication UPD23B"
         },
         "tracegroupgap": 0
        },
        "template": {
         "data": {
          "bar": [
           {
            "error_x": {
             "color": "#2a3f5f"
            },
            "error_y": {
             "color": "#2a3f5f"
            },
            "marker": {
             "line": {
              "color": "#E5ECF6",
              "width": 0.5
             },
             "pattern": {
              "fillmode": "overlay",
              "size": 10,
              "solidity": 0.2
             }
            },
            "type": "bar"
           }
          ],
          "barpolar": [
           {
            "marker": {
             "line": {
              "color": "#E5ECF6",
              "width": 0.5
             },
             "pattern": {
              "fillmode": "overlay",
              "size": 10,
              "solidity": 0.2
             }
            },
            "type": "barpolar"
           }
          ],
          "carpet": [
           {
            "aaxis": {
             "endlinecolor": "#2a3f5f",
             "gridcolor": "white",
             "linecolor": "white",
             "minorgridcolor": "white",
             "startlinecolor": "#2a3f5f"
            },
            "baxis": {
             "endlinecolor": "#2a3f5f",
             "gridcolor": "white",
             "linecolor": "white",
             "minorgridcolor": "white",
             "startlinecolor": "#2a3f5f"
            },
            "type": "carpet"
           }
          ],
          "choropleth": [
           {
            "colorbar": {
             "outlinewidth": 0,
             "ticks": ""
            },
            "type": "choropleth"
           }
          ],
          "contour": [
           {
            "colorbar": {
             "outlinewidth": 0,
             "ticks": ""
            },
            "colorscale": [
             [
              0,
              "#0d0887"
             ],
             [
              0.1111111111111111,
              "#46039f"
             ],
             [
              0.2222222222222222,
              "#7201a8"
             ],
             [
              0.3333333333333333,
              "#9c179e"
             ],
             [
              0.4444444444444444,
              "#bd3786"
             ],
             [
              0.5555555555555556,
              "#d8576b"
             ],
             [
              0.6666666666666666,
              "#ed7953"
             ],
             [
              0.7777777777777778,
              "#fb9f3a"
             ],
             [
              0.8888888888888888,
              "#fdca26"
             ],
             [
              1,
              "#f0f921"
             ]
            ],
            "type": "contour"
           }
          ],
          "contourcarpet": [
           {
            "colorbar": {
             "outlinewidth": 0,
             "ticks": ""
            },
            "type": "contourcarpet"
           }
          ],
          "heatmap": [
           {
            "colorbar": {
             "outlinewidth": 0,
             "ticks": ""
            },
            "colorscale": [
             [
              0,
              "#0d0887"
             ],
             [
              0.1111111111111111,
              "#46039f"
             ],
             [
              0.2222222222222222,
              "#7201a8"
             ],
             [
              0.3333333333333333,
              "#9c179e"
             ],
             [
              0.4444444444444444,
              "#bd3786"
             ],
             [
              0.5555555555555556,
              "#d8576b"
             ],
             [
              0.6666666666666666,
              "#ed7953"
             ],
             [
              0.7777777777777778,
              "#fb9f3a"
             ],
             [
              0.8888888888888888,
              "#fdca26"
             ],
             [
              1,
              "#f0f921"
             ]
            ],
            "type": "heatmap"
           }
          ],
          "heatmapgl": [
           {
            "colorbar": {
             "outlinewidth": 0,
             "ticks": ""
            },
            "colorscale": [
             [
              0,
              "#0d0887"
             ],
             [
              0.1111111111111111,
              "#46039f"
             ],
             [
              0.2222222222222222,
              "#7201a8"
             ],
             [
              0.3333333333333333,
              "#9c179e"
             ],
             [
              0.4444444444444444,
              "#bd3786"
             ],
             [
              0.5555555555555556,
              "#d8576b"
             ],
             [
              0.6666666666666666,
              "#ed7953"
             ],
             [
              0.7777777777777778,
              "#fb9f3a"
             ],
             [
              0.8888888888888888,
              "#fdca26"
             ],
             [
              1,
              "#f0f921"
             ]
            ],
            "type": "heatmapgl"
           }
          ],
          "histogram": [
           {
            "marker": {
             "pattern": {
              "fillmode": "overlay",
              "size": 10,
              "solidity": 0.2
             }
            },
            "type": "histogram"
           }
          ],
          "histogram2d": [
           {
            "colorbar": {
             "outlinewidth": 0,
             "ticks": ""
            },
            "colorscale": [
             [
              0,
              "#0d0887"
             ],
             [
              0.1111111111111111,
              "#46039f"
             ],
             [
              0.2222222222222222,
              "#7201a8"
             ],
             [
              0.3333333333333333,
              "#9c179e"
             ],
             [
              0.4444444444444444,
              "#bd3786"
             ],
             [
              0.5555555555555556,
              "#d8576b"
             ],
             [
              0.6666666666666666,
              "#ed7953"
             ],
             [
              0.7777777777777778,
              "#fb9f3a"
             ],
             [
              0.8888888888888888,
              "#fdca26"
             ],
             [
              1,
              "#f0f921"
             ]
            ],
            "type": "histogram2d"
           }
          ],
          "histogram2dcontour": [
           {
            "colorbar": {
             "outlinewidth": 0,
             "ticks": ""
            },
            "colorscale": [
             [
              0,
              "#0d0887"
             ],
             [
              0.1111111111111111,
              "#46039f"
             ],
             [
              0.2222222222222222,
              "#7201a8"
             ],
             [
              0.3333333333333333,
              "#9c179e"
             ],
             [
              0.4444444444444444,
              "#bd3786"
             ],
             [
              0.5555555555555556,
              "#d8576b"
             ],
             [
              0.6666666666666666,
              "#ed7953"
             ],
             [
              0.7777777777777778,
              "#fb9f3a"
             ],
             [
              0.8888888888888888,
              "#fdca26"
             ],
             [
              1,
              "#f0f921"
             ]
            ],
            "type": "histogram2dcontour"
           }
          ],
          "mesh3d": [
           {
            "colorbar": {
             "outlinewidth": 0,
             "ticks": ""
            },
            "type": "mesh3d"
           }
          ],
          "parcoords": [
           {
            "line": {
             "colorbar": {
              "outlinewidth": 0,
              "ticks": ""
             }
            },
            "type": "parcoords"
           }
          ],
          "pie": [
           {
            "automargin": true,
            "type": "pie"
           }
          ],
          "scatter": [
           {
            "fillpattern": {
             "fillmode": "overlay",
             "size": 10,
             "solidity": 0.2
            },
            "type": "scatter"
           }
          ],
          "scatter3d": [
           {
            "line": {
             "colorbar": {
              "outlinewidth": 0,
              "ticks": ""
             }
            },
            "marker": {
             "colorbar": {
              "outlinewidth": 0,
              "ticks": ""
             }
            },
            "type": "scatter3d"
           }
          ],
          "scattercarpet": [
           {
            "marker": {
             "colorbar": {
              "outlinewidth": 0,
              "ticks": ""
             }
            },
            "type": "scattercarpet"
           }
          ],
          "scattergeo": [
           {
            "marker": {
             "colorbar": {
              "outlinewidth": 0,
              "ticks": ""
             }
            },
            "type": "scattergeo"
           }
          ],
          "scattergl": [
           {
            "marker": {
             "colorbar": {
              "outlinewidth": 0,
              "ticks": ""
             }
            },
            "type": "scattergl"
           }
          ],
          "scattermapbox": [
           {
            "marker": {
             "colorbar": {
              "outlinewidth": 0,
              "ticks": ""
             }
            },
            "type": "scattermapbox"
           }
          ],
          "scatterpolar": [
           {
            "marker": {
             "colorbar": {
              "outlinewidth": 0,
              "ticks": ""
             }
            },
            "type": "scatterpolar"
           }
          ],
          "scatterpolargl": [
           {
            "marker": {
             "colorbar": {
              "outlinewidth": 0,
              "ticks": ""
             }
            },
            "type": "scatterpolargl"
           }
          ],
          "scatterternary": [
           {
            "marker": {
             "colorbar": {
              "outlinewidth": 0,
              "ticks": ""
             }
            },
            "type": "scatterternary"
           }
          ],
          "surface": [
           {
            "colorbar": {
             "outlinewidth": 0,
             "ticks": ""
            },
            "colorscale": [
             [
              0,
              "#0d0887"
             ],
             [
              0.1111111111111111,
              "#46039f"
             ],
             [
              0.2222222222222222,
              "#7201a8"
             ],
             [
              0.3333333333333333,
              "#9c179e"
             ],
             [
              0.4444444444444444,
              "#bd3786"
             ],
             [
              0.5555555555555556,
              "#d8576b"
             ],
             [
              0.6666666666666666,
              "#ed7953"
             ],
             [
              0.7777777777777778,
              "#fb9f3a"
             ],
             [
              0.8888888888888888,
              "#fdca26"
             ],
             [
              1,
              "#f0f921"
             ]
            ],
            "type": "surface"
           }
          ],
          "table": [
           {
            "cells": {
             "fill": {
              "color": "#EBF0F8"
             },
             "line": {
              "color": "white"
             }
            },
            "header": {
             "fill": {
              "color": "#C8D4E3"
             },
             "line": {
              "color": "white"
             }
            },
            "type": "table"
           }
          ]
         },
         "layout": {
          "annotationdefaults": {
           "arrowcolor": "#2a3f5f",
           "arrowhead": 0,
           "arrowwidth": 1
          },
          "autotypenumbers": "strict",
          "coloraxis": {
           "colorbar": {
            "outlinewidth": 0,
            "ticks": ""
           }
          },
          "colorscale": {
           "diverging": [
            [
             0,
             "#8e0152"
            ],
            [
             0.1,
             "#c51b7d"
            ],
            [
             0.2,
             "#de77ae"
            ],
            [
             0.3,
             "#f1b6da"
            ],
            [
             0.4,
             "#fde0ef"
            ],
            [
             0.5,
             "#f7f7f7"
            ],
            [
             0.6,
             "#e6f5d0"
            ],
            [
             0.7,
             "#b8e186"
            ],
            [
             0.8,
             "#7fbc41"
            ],
            [
             0.9,
             "#4d9221"
            ],
            [
             1,
             "#276419"
            ]
           ],
           "sequential": [
            [
             0,
             "#0d0887"
            ],
            [
             0.1111111111111111,
             "#46039f"
            ],
            [
             0.2222222222222222,
             "#7201a8"
            ],
            [
             0.3333333333333333,
             "#9c179e"
            ],
            [
             0.4444444444444444,
             "#bd3786"
            ],
            [
             0.5555555555555556,
             "#d8576b"
            ],
            [
             0.6666666666666666,
             "#ed7953"
            ],
            [
             0.7777777777777778,
             "#fb9f3a"
            ],
            [
             0.8888888888888888,
             "#fdca26"
            ],
            [
             1,
             "#f0f921"
            ]
           ],
           "sequentialminus": [
            [
             0,
             "#0d0887"
            ],
            [
             0.1111111111111111,
             "#46039f"
            ],
            [
             0.2222222222222222,
             "#7201a8"
            ],
            [
             0.3333333333333333,
             "#9c179e"
            ],
            [
             0.4444444444444444,
             "#bd3786"
            ],
            [
             0.5555555555555556,
             "#d8576b"
            ],
            [
             0.6666666666666666,
             "#ed7953"
            ],
            [
             0.7777777777777778,
             "#fb9f3a"
            ],
            [
             0.8888888888888888,
             "#fdca26"
            ],
            [
             1,
             "#f0f921"
            ]
           ]
          },
          "colorway": [
           "#636efa",
           "#EF553B",
           "#00cc96",
           "#ab63fa",
           "#FFA15A",
           "#19d3f3",
           "#FF6692",
           "#B6E880",
           "#FF97FF",
           "#FECB52"
          ],
          "font": {
           "color": "#2a3f5f"
          },
          "geo": {
           "bgcolor": "white",
           "lakecolor": "white",
           "landcolor": "#E5ECF6",
           "showlakes": true,
           "showland": true,
           "subunitcolor": "white"
          },
          "hoverlabel": {
           "align": "left"
          },
          "hovermode": "closest",
          "mapbox": {
           "style": "light"
          },
          "paper_bgcolor": "white",
          "plot_bgcolor": "#E5ECF6",
          "polar": {
           "angularaxis": {
            "gridcolor": "white",
            "linecolor": "white",
            "ticks": ""
           },
           "bgcolor": "#E5ECF6",
           "radialaxis": {
            "gridcolor": "white",
            "linecolor": "white",
            "ticks": ""
           }
          },
          "scene": {
           "xaxis": {
            "backgroundcolor": "#E5ECF6",
            "gridcolor": "white",
            "gridwidth": 2,
            "linecolor": "white",
            "showbackground": true,
            "ticks": "",
            "zerolinecolor": "white"
           },
           "yaxis": {
            "backgroundcolor": "#E5ECF6",
            "gridcolor": "white",
            "gridwidth": 2,
            "linecolor": "white",
            "showbackground": true,
            "ticks": "",
            "zerolinecolor": "white"
           },
           "zaxis": {
            "backgroundcolor": "#E5ECF6",
            "gridcolor": "white",
            "gridwidth": 2,
            "linecolor": "white",
            "showbackground": true,
            "ticks": "",
            "zerolinecolor": "white"
           }
          },
          "shapedefaults": {
           "line": {
            "color": "#2a3f5f"
           }
          },
          "ternary": {
           "aaxis": {
            "gridcolor": "white",
            "linecolor": "white",
            "ticks": ""
           },
           "baxis": {
            "gridcolor": "white",
            "linecolor": "white",
            "ticks": ""
           },
           "bgcolor": "#E5ECF6",
           "caxis": {
            "gridcolor": "white",
            "linecolor": "white",
            "ticks": ""
           }
          },
          "title": {
           "x": 0.05
          },
          "xaxis": {
           "automargin": true,
           "gridcolor": "white",
           "linecolor": "white",
           "ticks": "",
           "title": {
            "standoff": 15
           },
           "zerolinecolor": "white",
           "zerolinewidth": 2
          },
          "yaxis": {
           "automargin": true,
           "gridcolor": "white",
           "linecolor": "white",
           "ticks": "",
           "title": {
            "standoff": 15
           },
           "zerolinecolor": "white",
           "zerolinewidth": 2
          }
         }
        },
        "title": {
         "font": {
          "size": 15
         },
         "text": "Count of UPDR 3 Scores of Parkinson’s Disease Patients"
        },
        "width": 800,
        "xaxis": {
         "anchor": "y",
         "domain": [
          0,
          1
         ],
         "title": {
          "text": "UPDRS 3"
         }
        },
        "yaxis": {
         "anchor": "x",
         "domain": [
          0,
          1
         ],
         "title": {
          "text": "count"
         }
        }
       }
      },
      "text/html": [
       "<div>                            <div id=\"1c4e0e8a-8f82-4a18-858e-204c0f63678c\" class=\"plotly-graph-div\" style=\"height:500px; width:800px;\"></div>            <script type=\"text/javascript\">                require([\"plotly\"], function(Plotly) {                    window.PLOTLYENV=window.PLOTLYENV || {};                                    if (document.getElementById(\"1c4e0e8a-8f82-4a18-858e-204c0f63678c\")) {                    Plotly.newPlot(                        \"1c4e0e8a-8f82-4a18-858e-204c0f63678c\",                        [{\"alignmentgroup\":\"True\",\"bingroup\":\"x\",\"hovertemplate\":\"Clinical State on Medication UPD23B=On<br>UPDRS 3=%{x}<br>count=%{y}<extra></extra>\",\"legendgroup\":\"On\",\"marker\":{\"color\":\"rgb(93, 105, 177)\",\"pattern\":{\"shape\":\"\"}},\"name\":\"On\",\"offsetgroup\":\"On\",\"orientation\":\"v\",\"showlegend\":true,\"x\":[30.0,41.0,38.0,49.0,49.0,51.0,41.0,52.0,51.0,56.0,25.0,30.0,32.0,25.0,28.0,31.0,37.0,11.0,15.0,7.0,6.0,12.0,36.0,38.0,29.0,41.0,28.0,32.0,28.0,25.0,21.0,23.0,21.0,21.0,19.0,13.0,19.0,11.0,15.0,17.0,46.0,51.0,54.0,12.0,9.0,12.0,17.0,4.0,17.0,30.0,28.0,53.0,45.0,47.0,56.0,53.0,51.0,54.0,55.0,51.0,13.0,14.0,12.0,10.0,23.0,31.0,29.0,27.0,6.0,18.0,11.0,20.0,6.0,5.0,19.0,29.0,23.0,21.0,16.0,24.0,11.0,14.0,12.0,9.0,13.0,16.0,17.0,15.0,15.0,31.0,25.0,19.0,20.0,11.0,26.0,27.0,31.0,null,30.0,25.0,26.0,35.0,26.0,29.0,41.0,18.0,15.0,18.0,28.0,9.0,30.0,7.0,12.0,21.0,28.0,34.0,25.0,43.0,30.0,17.0,18.0,9.0,21.0,17.0,21.0,18.0,24.0,12.0,14.0,19.0,40.0,34.0,48.0,33.0,7.0,6.0,6.0,9.0,8.0,5.0,5.0,14.0,16.0,59.0,26.0,12.0,10.0,7.0,14.0,7.0,4.0,4.0,10.0,10.0,15.0,5.0,15.0,16.0,18.0,17.0,18.0,17.0,25.0,25.0,33.0,35.0,40.0,29.0,22.0,25.0,20.0,33.0,32.0,36.0,25.0,38.0,31.0,28.0,21.0,13.0,19.0,28.0,46.0,37.0,33.0,50.0,19.0,28.0,26.0,41.0,32.0,64.0,38.0,20.0,32.0,36.0,17.0,37.0,23.0,26.0,33.0,28.0,23.0,26.0,25.0,35.0,25.0,33.0,32.0,54.0,21.0,22.0,26.0,26.0,22.0,17.0,17.0,21.0,16.0,21.0,23.0,14.0,23.0,32.0,24.0,26.0,56.0,37.0,33.0,40.0,40.0,49.0,39.0,32.0,36.0,51.0,12.0,19.0,14.0,23.0,32.0,null,46.0,41.0,36.0,39.0,31.0,53.0,58.0,20.0,17.0,21.0,19.0,6.0,24.0,27.0,20.0,38.0,18.0,19.0,27.0,6.0,10.0,9.0,11.0,16.0,6.0,12.0,17.0,15.0,16.0,6.0,8.0,10.0,16.0,9.0,12.0,10.0,7.0,10.0,10.0,13.0,16.0,24.0,24.0,7.0,13.0,27.0,24.0,15.0,14.0,28.0,12.0,11.0,17.0,30.0,18.0,18.0,15.0,23.0,12.0,9.0,19.0,29.0,9.0,13.0,10.0,5.0,10.0,19.0,10.0,13.0,33.0,28.0,33.0,40.0,47.0,66.0,12.0,19.0,null,26.0,20.0,22.0,21.0,17.0,12.0,16.0,20.0,20.0,18.0,24.0,29.0,42.0,9.0,12.0,12.0,10.0,19.0,22.0,15.0,14.0,26.0,17.0,19.0,23.0,27.0,27.0,22.0,25.0,20.0,13.0,6.0,17.0,13.0,21.0,18.0,19.0,27.0,32.0,37.0,24.0,6.0,46.0,26.0,31.0,29.0,24.0,31.0,16.0,22.0,17.0,26.0,10.0,40.0,37.0,34.0,24.0,15.0,17.0,28.0,15.0,9.0,9.0,11.0,15.0,19.0,19.0,12.0,11.0,9.0,5.0,12.0,18.0,31.0,23.0,7.0,8.0,10.0,12.0,20.0,13.0,18.0,21.0,18.0,15.0,20.0,13.0,10.0,10.0,20.0,4.0,null,54.0,35.0,42.0,22.0,40.0,35.0,48.0,45.0,63.0,86.0,85.0,30.0,26.0,49.0,39.0,38.0,40.0,11.0,16.0,11.0,17.0,29.0,36.0,36.0,32.0,35.0,21.0,24.0,19.0,11.0,10.0,15.0,11.0,22.0,32.0,13.0,18.0,13.0,24.0,31.0,26.0,29.0,34.0,56.0,11.0,28.0,28.0,18.0,25.0,32.0,40.0,43.0,31.0,31.0,29.0,37.0,null,21.0,28.0,18.0,52.0,55.0,67.0,47.0,60.0,57.0,67.0,53.0,28.0,28.0,30.0,12.0,7.0,16.0,39.0,34.0,19.0,27.0,28.0,30.0,23.0,32.0,29.0,23.0,30.0,26.0,26.0,28.0,11.0,28.0,19.0,13.0,10.0,18.0,25.0,32.0,20.0,31.0,36.0,19.0,16.0,18.0,19.0,8.0,31.0,25.0,17.0,15.0,11.0,10.0,15.0,18.0,55.0,44.0,15.0,21.0,9.0,17.0,22.0,21.0,21.0,23.0,26.0,28.0,36.0,27.0,11.0,22.0,16.0,20.0,27.0,11.0,16.0,24.0,15.0,8.0,7.0,19.0,25.0,21.0,25.0,18.0,9.0,29.0,26.0,27.0,null,28.0,25.0,26.0,17.0,20.0,26.0,28.0,33.0,33.0,26.0,33.0,16.0,13.0,11.0,5.0,12.0,21.0,16.0,18.0,18.0,21.0,11.0,20.0,null,21.0,29.0,29.0,40.0,43.0,49.0,34.0,25.0,10.0,8.0,9.0,12.0,50.0,62.0,43.0,57.0,58.0,19.0,33.0,19.0,40.0,16.0,20.0,15.0,20.0,15.0,18.0,23.0,36.0,21.0,42.0,40.0,41.0,31.0,35.0,35.0,44.0,38.0,40.0,15.0,null,12.0,13.0,18.0,22.0,28.0,28.0,34.0,40.0,13.0,17.0,26.0,27.0,23.0,40.0,26.0,22.0,15.0,18.0,21.0,28.0,17.0,19.0,21.0,15.0,6.0,26.0,29.0,34.0,44.0,58.0,22.0,18.0,44.0,39.0,48.0,24.0,36.0,37.0,35.0,17.0,20.0,19.0,8.0,18.0,14.0,19.0,18.0,7.0,28.0,16.0,26.0,36.0,30.0,38.0,24.0,11.0,23.0,20.0,17.0,10.0,32.0,21.0,11.0,21.0,23.0,23.0,21.0,15.0,14.0,22.0,13.0,10.0,8.0,18.0,22.0,21.0,17.0,29.0,28.0,37.0,33.0,35.0,29.0,14.0,19.0,26.0,28.0,21.0,15.0,21.0,16.0,31.0,39.0,19.0,19.0,28.0,43.0,45.0,45.0,59.0,40.0,44.0,28.0,26.0,28.0,30.0,35.0,24.0,20.0,30.0,32.0,30.0,28.0,29.0,1.0,11.0,1.0,3.0,2.0,3.0,1.0,6.0,21.0,33.0,9.0,16.0,9.0,6.0,3.0,5.0,4.0,12.0,13.0,14.0,21.0,7.0,10.0,26.0,17.0,17.0,20.0,25.0,38.0,49.0,48.0,39.0,36.0,46.0,57.0,11.0],\"xaxis\":\"x\",\"yaxis\":\"y\",\"type\":\"histogram\"},{\"alignmentgroup\":\"True\",\"bingroup\":\"x\",\"hovertemplate\":\"Clinical State on Medication UPD23B=Off<br>UPDRS 3=%{x}<br>count=%{y}<extra></extra>\",\"legendgroup\":\"Off\",\"marker\":{\"color\":\"rgb(82, 188, 163)\",\"pattern\":{\"shape\":\"\"}},\"name\":\"Off\",\"offsetgroup\":\"Off\",\"orientation\":\"v\",\"showlegend\":true,\"x\":[33.0,26.0,39.0,39.0,40.0,39.0,15.0,8.0,6.0,10.0,9.0,18.0,25.0,30.0,30.0,30.0,45.0,63.0,50.0,38.0,34.0,46.0,51.0,49.0,43.0,52.0,17.0,16.0,14.0,11.0,26.0,27.0,16.0,34.0,39.0,21.0,46.0,68.0,25.0,15.0,17.0,28.0,21.0,35.0,32.0,39.0,9.0,22.0,10.0,13.0,22.0,18.0,30.0,23.0,18.0,21.0,20.0,21.0,26.0,29.0,32.0,38.0,35.0,35.0,21.0,18.0,21.0,24.0,29.0,15.0,28.0,31.0,25.0,25.0,33.0,26.0,39.0,59.0,40.0,44.0,45.0,52.0,46.0,44.0,54.0,44.0,41.0,48.0,46.0,53.0,27.0,39.0,59.0,44.0,24.0,16.0,17.0,19.0,22.0,25.0,33.0,36.0,36.0,37.0,34.0,35.0,34.0,35.0,38.0,40.0,39.0,50.0,41.0,31.0,35.0,28.0,41.0,31.0,19.0,24.0,18.0,26.0,33.0,28.0,31.0,32.0,31.0,46.0,39.0,25.0,29.0,21.0,27.0,26.0,24.0,37.0,21.0,23.0,21.0,35.0,29.0,29.0,26.0,34.0,20.0,23.0,33.0,41.0,53.0,12.0,17.0,10.0,31.0,19.0,26.0,29.0,23.0,31.0,39.0,51.0,30.0,5.0,23.0,30.0,26.0,29.0,11.0,14.0,18.0,24.0,21.0,31.0,43.0,51.0,42.0,43.0,60.0,27.0,11.0,14.0,24.0,16.0,30.0,14.0,35.0,28.0,22.0,17.0,25.0,9.0,23.0,14.0,30.0,26.0,27.0,31.0,52.0,49.0,25.0,25.0,31.0,14.0,37.0,33.0,37.0,35.0,43.0,42.0,16.0,17.0,15.0,22.0,28.0,30.0,23.0,40.0,28.0,22.0,13.0,15.0,28.0,37.0,38.0,38.0,30.0,27.0,33.0,34.0,34.0,40.0,43.0,45.0,52.0,29.0,28.0,29.0,19.0,24.0,8.0,16.0,19.0,14.0,18.0,18.0,14.0,32.0,25.0,29.0,23.0,14.0,1.0,17.0,10.0,9.0,13.0,25.0,28.0,33.0,60.0,35.0,37.0,33.0,51.0,36.0,49.0,56.0,66.0,47.0,47.0,52.0,46.0,46.0,43.0,32.0,41.0,47.0,19.0,27.0,24.0,29.0,41.0,26.0,78.0,28.0,30.0,14.0,12.0,31.0,32.0,34.0,34.0,35.0,24.0,45.0,30.0,30.0,27.0,37.0,31.0,33.0,15.0,14.0,30.0,34.0,38.0,29.0,34.0,36.0,49.0,34.0,16.0,4.0,29.0,52.0,38.0,44.0,29.0,33.0,38.0,45.0,18.0,24.0,36.0,33.0,47.0,26.0,35.0,31.0,30.0,47.0,56.0,50.0,18.0,21.0,22.0,33.0,31.0,29.0,31.0,38.0,20.0,37.0,42.0,33.0,23.0,13.0,29.0,26.0,36.0,39.0,22.0,33.0,28.0,29.0,25.0,23.0,24.0,19.0,25.0,18.0,33.0,31.0,27.0,32.0,40.0,29.0,32.0,44.0,8.0,10.0,23.0,14.0,12.0,47.0,61.0,50.0,65.0,28.0,25.0,23.0,45.0,32.0,48.0,23.0,37.0,23.0,36.0,30.0,36.0,35.0,42.0,45.0,36.0,38.0,39.0,21.0,48.0,20.0,43.0,46.0,25.0,26.0,29.0,35.0,34.0,38.0,39.0,48.0,46.0,10.0,24.0,19.0,15.0,20.0,33.0,37.0,29.0,33.0,23.0,32.0,21.0,19.0,12.0,22.0,28.0,27.0,34.0,39.0,41.0,38.0,43.0,40.0,40.0,41.0,22.0,22.0,19.0,55.0,46.0,43.0,58.0,60.0,47.0,31.0,23.0,31.0,22.0,35.0,33.0,30.0,36.0,34.0,18.0,27.0,12.0,28.0,19.0,16.0,36.0,22.0,37.0,36.0,38.0,43.0,39.0,26.0,30.0,31.0,35.0,24.0,31.0,34.0,41.0,33.0,32.0,33.0,41.0,31.0,31.0,38.0,44.0,51.0,50.0,50.0,39.0,30.0,22.0,37.0,35.0,32.0,30.0,21.0,17.0,18.0,27.0,28.0,53.0,49.0,38.0,45.0,53.0,45.0,60.0,14.0,13.0,4.0,5.0,15.0,13.0,11.0,16.0,14.0,20.0],\"xaxis\":\"x\",\"yaxis\":\"y\",\"type\":\"histogram\"}],                        {\"template\":{\"data\":{\"histogram2dcontour\":[{\"type\":\"histogram2dcontour\",\"colorbar\":{\"outlinewidth\":0,\"ticks\":\"\"},\"colorscale\":[[0.0,\"#0d0887\"],[0.1111111111111111,\"#46039f\"],[0.2222222222222222,\"#7201a8\"],[0.3333333333333333,\"#9c179e\"],[0.4444444444444444,\"#bd3786\"],[0.5555555555555556,\"#d8576b\"],[0.6666666666666666,\"#ed7953\"],[0.7777777777777778,\"#fb9f3a\"],[0.8888888888888888,\"#fdca26\"],[1.0,\"#f0f921\"]]}],\"choropleth\":[{\"type\":\"choropleth\",\"colorbar\":{\"outlinewidth\":0,\"ticks\":\"\"}}],\"histogram2d\":[{\"type\":\"histogram2d\",\"colorbar\":{\"outlinewidth\":0,\"ticks\":\"\"},\"colorscale\":[[0.0,\"#0d0887\"],[0.1111111111111111,\"#46039f\"],[0.2222222222222222,\"#7201a8\"],[0.3333333333333333,\"#9c179e\"],[0.4444444444444444,\"#bd3786\"],[0.5555555555555556,\"#d8576b\"],[0.6666666666666666,\"#ed7953\"],[0.7777777777777778,\"#fb9f3a\"],[0.8888888888888888,\"#fdca26\"],[1.0,\"#f0f921\"]]}],\"heatmap\":[{\"type\":\"heatmap\",\"colorbar\":{\"outlinewidth\":0,\"ticks\":\"\"},\"colorscale\":[[0.0,\"#0d0887\"],[0.1111111111111111,\"#46039f\"],[0.2222222222222222,\"#7201a8\"],[0.3333333333333333,\"#9c179e\"],[0.4444444444444444,\"#bd3786\"],[0.5555555555555556,\"#d8576b\"],[0.6666666666666666,\"#ed7953\"],[0.7777777777777778,\"#fb9f3a\"],[0.8888888888888888,\"#fdca26\"],[1.0,\"#f0f921\"]]}],\"heatmapgl\":[{\"type\":\"heatmapgl\",\"colorbar\":{\"outlinewidth\":0,\"ticks\":\"\"},\"colorscale\":[[0.0,\"#0d0887\"],[0.1111111111111111,\"#46039f\"],[0.2222222222222222,\"#7201a8\"],[0.3333333333333333,\"#9c179e\"],[0.4444444444444444,\"#bd3786\"],[0.5555555555555556,\"#d8576b\"],[0.6666666666666666,\"#ed7953\"],[0.7777777777777778,\"#fb9f3a\"],[0.8888888888888888,\"#fdca26\"],[1.0,\"#f0f921\"]]}],\"contourcarpet\":[{\"type\":\"contourcarpet\",\"colorbar\":{\"outlinewidth\":0,\"ticks\":\"\"}}],\"contour\":[{\"type\":\"contour\",\"colorbar\":{\"outlinewidth\":0,\"ticks\":\"\"},\"colorscale\":[[0.0,\"#0d0887\"],[0.1111111111111111,\"#46039f\"],[0.2222222222222222,\"#7201a8\"],[0.3333333333333333,\"#9c179e\"],[0.4444444444444444,\"#bd3786\"],[0.5555555555555556,\"#d8576b\"],[0.6666666666666666,\"#ed7953\"],[0.7777777777777778,\"#fb9f3a\"],[0.8888888888888888,\"#fdca26\"],[1.0,\"#f0f921\"]]}],\"surface\":[{\"type\":\"surface\",\"colorbar\":{\"outlinewidth\":0,\"ticks\":\"\"},\"colorscale\":[[0.0,\"#0d0887\"],[0.1111111111111111,\"#46039f\"],[0.2222222222222222,\"#7201a8\"],[0.3333333333333333,\"#9c179e\"],[0.4444444444444444,\"#bd3786\"],[0.5555555555555556,\"#d8576b\"],[0.6666666666666666,\"#ed7953\"],[0.7777777777777778,\"#fb9f3a\"],[0.8888888888888888,\"#fdca26\"],[1.0,\"#f0f921\"]]}],\"mesh3d\":[{\"type\":\"mesh3d\",\"colorbar\":{\"outlinewidth\":0,\"ticks\":\"\"}}],\"scatter\":[{\"fillpattern\":{\"fillmode\":\"overlay\",\"size\":10,\"solidity\":0.2},\"type\":\"scatter\"}],\"parcoords\":[{\"type\":\"parcoords\",\"line\":{\"colorbar\":{\"outlinewidth\":0,\"ticks\":\"\"}}}],\"scatterpolargl\":[{\"type\":\"scatterpolargl\",\"marker\":{\"colorbar\":{\"outlinewidth\":0,\"ticks\":\"\"}}}],\"bar\":[{\"error_x\":{\"color\":\"#2a3f5f\"},\"error_y\":{\"color\":\"#2a3f5f\"},\"marker\":{\"line\":{\"color\":\"#E5ECF6\",\"width\":0.5},\"pattern\":{\"fillmode\":\"overlay\",\"size\":10,\"solidity\":0.2}},\"type\":\"bar\"}],\"scattergeo\":[{\"type\":\"scattergeo\",\"marker\":{\"colorbar\":{\"outlinewidth\":0,\"ticks\":\"\"}}}],\"scatterpolar\":[{\"type\":\"scatterpolar\",\"marker\":{\"colorbar\":{\"outlinewidth\":0,\"ticks\":\"\"}}}],\"histogram\":[{\"marker\":{\"pattern\":{\"fillmode\":\"overlay\",\"size\":10,\"solidity\":0.2}},\"type\":\"histogram\"}],\"scattergl\":[{\"type\":\"scattergl\",\"marker\":{\"colorbar\":{\"outlinewidth\":0,\"ticks\":\"\"}}}],\"scatter3d\":[{\"type\":\"scatter3d\",\"line\":{\"colorbar\":{\"outlinewidth\":0,\"ticks\":\"\"}},\"marker\":{\"colorbar\":{\"outlinewidth\":0,\"ticks\":\"\"}}}],\"scattermapbox\":[{\"type\":\"scattermapbox\",\"marker\":{\"colorbar\":{\"outlinewidth\":0,\"ticks\":\"\"}}}],\"scatterternary\":[{\"type\":\"scatterternary\",\"marker\":{\"colorbar\":{\"outlinewidth\":0,\"ticks\":\"\"}}}],\"scattercarpet\":[{\"type\":\"scattercarpet\",\"marker\":{\"colorbar\":{\"outlinewidth\":0,\"ticks\":\"\"}}}],\"carpet\":[{\"aaxis\":{\"endlinecolor\":\"#2a3f5f\",\"gridcolor\":\"white\",\"linecolor\":\"white\",\"minorgridcolor\":\"white\",\"startlinecolor\":\"#2a3f5f\"},\"baxis\":{\"endlinecolor\":\"#2a3f5f\",\"gridcolor\":\"white\",\"linecolor\":\"white\",\"minorgridcolor\":\"white\",\"startlinecolor\":\"#2a3f5f\"},\"type\":\"carpet\"}],\"table\":[{\"cells\":{\"fill\":{\"color\":\"#EBF0F8\"},\"line\":{\"color\":\"white\"}},\"header\":{\"fill\":{\"color\":\"#C8D4E3\"},\"line\":{\"color\":\"white\"}},\"type\":\"table\"}],\"barpolar\":[{\"marker\":{\"line\":{\"color\":\"#E5ECF6\",\"width\":0.5},\"pattern\":{\"fillmode\":\"overlay\",\"size\":10,\"solidity\":0.2}},\"type\":\"barpolar\"}],\"pie\":[{\"automargin\":true,\"type\":\"pie\"}]},\"layout\":{\"autotypenumbers\":\"strict\",\"colorway\":[\"#636efa\",\"#EF553B\",\"#00cc96\",\"#ab63fa\",\"#FFA15A\",\"#19d3f3\",\"#FF6692\",\"#B6E880\",\"#FF97FF\",\"#FECB52\"],\"font\":{\"color\":\"#2a3f5f\"},\"hovermode\":\"closest\",\"hoverlabel\":{\"align\":\"left\"},\"paper_bgcolor\":\"white\",\"plot_bgcolor\":\"#E5ECF6\",\"polar\":{\"bgcolor\":\"#E5ECF6\",\"angularaxis\":{\"gridcolor\":\"white\",\"linecolor\":\"white\",\"ticks\":\"\"},\"radialaxis\":{\"gridcolor\":\"white\",\"linecolor\":\"white\",\"ticks\":\"\"}},\"ternary\":{\"bgcolor\":\"#E5ECF6\",\"aaxis\":{\"gridcolor\":\"white\",\"linecolor\":\"white\",\"ticks\":\"\"},\"baxis\":{\"gridcolor\":\"white\",\"linecolor\":\"white\",\"ticks\":\"\"},\"caxis\":{\"gridcolor\":\"white\",\"linecolor\":\"white\",\"ticks\":\"\"}},\"coloraxis\":{\"colorbar\":{\"outlinewidth\":0,\"ticks\":\"\"}},\"colorscale\":{\"sequential\":[[0.0,\"#0d0887\"],[0.1111111111111111,\"#46039f\"],[0.2222222222222222,\"#7201a8\"],[0.3333333333333333,\"#9c179e\"],[0.4444444444444444,\"#bd3786\"],[0.5555555555555556,\"#d8576b\"],[0.6666666666666666,\"#ed7953\"],[0.7777777777777778,\"#fb9f3a\"],[0.8888888888888888,\"#fdca26\"],[1.0,\"#f0f921\"]],\"sequentialminus\":[[0.0,\"#0d0887\"],[0.1111111111111111,\"#46039f\"],[0.2222222222222222,\"#7201a8\"],[0.3333333333333333,\"#9c179e\"],[0.4444444444444444,\"#bd3786\"],[0.5555555555555556,\"#d8576b\"],[0.6666666666666666,\"#ed7953\"],[0.7777777777777778,\"#fb9f3a\"],[0.8888888888888888,\"#fdca26\"],[1.0,\"#f0f921\"]],\"diverging\":[[0,\"#8e0152\"],[0.1,\"#c51b7d\"],[0.2,\"#de77ae\"],[0.3,\"#f1b6da\"],[0.4,\"#fde0ef\"],[0.5,\"#f7f7f7\"],[0.6,\"#e6f5d0\"],[0.7,\"#b8e186\"],[0.8,\"#7fbc41\"],[0.9,\"#4d9221\"],[1,\"#276419\"]]},\"xaxis\":{\"gridcolor\":\"white\",\"linecolor\":\"white\",\"ticks\":\"\",\"title\":{\"standoff\":15},\"zerolinecolor\":\"white\",\"automargin\":true,\"zerolinewidth\":2},\"yaxis\":{\"gridcolor\":\"white\",\"linecolor\":\"white\",\"ticks\":\"\",\"title\":{\"standoff\":15},\"zerolinecolor\":\"white\",\"automargin\":true,\"zerolinewidth\":2},\"scene\":{\"xaxis\":{\"backgroundcolor\":\"#E5ECF6\",\"gridcolor\":\"white\",\"linecolor\":\"white\",\"showbackground\":true,\"ticks\":\"\",\"zerolinecolor\":\"white\",\"gridwidth\":2},\"yaxis\":{\"backgroundcolor\":\"#E5ECF6\",\"gridcolor\":\"white\",\"linecolor\":\"white\",\"showbackground\":true,\"ticks\":\"\",\"zerolinecolor\":\"white\",\"gridwidth\":2},\"zaxis\":{\"backgroundcolor\":\"#E5ECF6\",\"gridcolor\":\"white\",\"linecolor\":\"white\",\"showbackground\":true,\"ticks\":\"\",\"zerolinecolor\":\"white\",\"gridwidth\":2}},\"shapedefaults\":{\"line\":{\"color\":\"#2a3f5f\"}},\"annotationdefaults\":{\"arrowcolor\":\"#2a3f5f\",\"arrowhead\":0,\"arrowwidth\":1},\"geo\":{\"bgcolor\":\"white\",\"landcolor\":\"#E5ECF6\",\"subunitcolor\":\"white\",\"showland\":true,\"showlakes\":true,\"lakecolor\":\"white\"},\"title\":{\"x\":0.05},\"mapbox\":{\"style\":\"light\"}}},\"xaxis\":{\"anchor\":\"y\",\"domain\":[0.0,1.0],\"title\":{\"text\":\"UPDRS 3\"}},\"yaxis\":{\"anchor\":\"x\",\"domain\":[0.0,1.0],\"title\":{\"text\":\"count\"}},\"legend\":{\"title\":{\"text\":\"Clinical State on Medication UPD23B\"},\"tracegroupgap\":0},\"title\":{\"text\":\"Count of UPDR 3 Scores of Parkinson\\u2019s Disease Patients\",\"font\":{\"size\":15}},\"barmode\":\"relative\",\"height\":500,\"width\":800},                        {\"responsive\": true}                    ).then(function(){\n",
       "                            \n",
       "var gd = document.getElementById('1c4e0e8a-8f82-4a18-858e-204c0f63678c');\n",
       "var x = new MutationObserver(function (mutations, observer) {{\n",
       "        var display = window.getComputedStyle(gd).display;\n",
       "        if (!display || display === 'none') {{\n",
       "            console.log([gd, 'removed!']);\n",
       "            Plotly.purge(gd);\n",
       "            observer.disconnect();\n",
       "        }}\n",
       "}});\n",
       "\n",
       "// Listen for the removal of the full notebook cells\n",
       "var notebookContainer = gd.closest('#notebook-container');\n",
       "if (notebookContainer) {{\n",
       "    x.observe(notebookContainer, {childList: true});\n",
       "}}\n",
       "\n",
       "// Listen for the clearing of the current output cell\n",
       "var outputEl = gd.closest('.output');\n",
       "if (outputEl) {{\n",
       "    x.observe(outputEl, {childList: true});\n",
       "}}\n",
       "\n",
       "                        })                };                });            </script>        </div>"
      ]
     },
     "metadata": {},
     "output_type": "display_data"
    }
   ],
   "source": [
    " fig=px.histogram(train_clinical,\n",
    "                     x = 'UPDRS 3',\n",
    "                     color = 'Clinical State on Medication UPD23B',\n",
    "                     title= 'Count of UPDR 3 Scores of Parkinson’s Disease Patients',\n",
    "                     color_discrete_sequence=px.colors.qualitative.Vivid,\n",
    "                     width=800, height=500)\n",
    "fig.update_layout(title_font_size=15)\n",
    "fig.show()"
   ]
  },
  {
   "cell_type": "code",
   "execution_count": 36,
   "id": "c312df3a",
   "metadata": {},
   "outputs": [
    {
     "data": {
      "application/vnd.plotly.v1+json": {
       "config": {
        "plotlyServerURL": "https://plot.ly"
       },
       "data": [
        {
         "alignmentgroup": "True",
         "bingroup": "x",
         "hovertemplate": "Clinical State on Medication UPD23B=On<br>UPDRS 4=%{x}<br>count=%{y}<extra></extra>",
         "legendgroup": "On",
         "marker": {
          "color": "rgb(93, 105, 177)",
          "pattern": {
           "shape": ""
          }
         },
         "name": "On",
         "offsetgroup": "On",
         "orientation": "v",
         "showlegend": true,
         "type": "histogram",
         "x": [
          0,
          0,
          0,
          0,
          0,
          0,
          0,
          0,
          0,
          0,
          5,
          7,
          5,
          5,
          3,
          8,
          4,
          0,
          3,
          3,
          0,
          0,
          4,
          0,
          7,
          5,
          6,
          7,
          4,
          5,
          0,
          0,
          0,
          3,
          2,
          2,
          3,
          4,
          3,
          2,
          0,
          0,
          0,
          5,
          2,
          8,
          5,
          4,
          0,
          5,
          4,
          2,
          3,
          5,
          5,
          5,
          5,
          4,
          5,
          4,
          0,
          0,
          0,
          0,
          6,
          6,
          0,
          3,
          0,
          0,
          0,
          0,
          0,
          3,
          0,
          0,
          0,
          0,
          0,
          2,
          4,
          0,
          0,
          0,
          2,
          1,
          2,
          0,
          0,
          0,
          1,
          10,
          5,
          0,
          3,
          0,
          0,
          0,
          0,
          0,
          0,
          0,
          0,
          5,
          4,
          0,
          1,
          0,
          0,
          0,
          0,
          0,
          0,
          null,
          0,
          null,
          0,
          0,
          2,
          0,
          0,
          0,
          0,
          0,
          0,
          0,
          0,
          0,
          0,
          0,
          6,
          6,
          5,
          5,
          0,
          2,
          0,
          4,
          2,
          1,
          0,
          0,
          2,
          0,
          0,
          2,
          7,
          3,
          7,
          5,
          8,
          10,
          8,
          7,
          9,
          6,
          2,
          5,
          2,
          4,
          0,
          5,
          7,
          0,
          0,
          0,
          0,
          2,
          3,
          9,
          9,
          3,
          0,
          3,
          0,
          5,
          3,
          3,
          4,
          null,
          null,
          1,
          2,
          1,
          5,
          6,
          3,
          0,
          5,
          8,
          3,
          13,
          8,
          13,
          0,
          0,
          0,
          0,
          0,
          0,
          0,
          10,
          7,
          6,
          11,
          14,
          20,
          15,
          14,
          16,
          1,
          3,
          0,
          0,
          0,
          5,
          0,
          0,
          0,
          0,
          0,
          0,
          0,
          0,
          0,
          0,
          0,
          0,
          2,
          6,
          0,
          0,
          0,
          2,
          0,
          2,
          0,
          0,
          0,
          0,
          2,
          4,
          10,
          1,
          4,
          5,
          0,
          1,
          0,
          4,
          4,
          4,
          5,
          6,
          null,
          0,
          0,
          0,
          0,
          0,
          0,
          0,
          0,
          0,
          0,
          0,
          0,
          0,
          0,
          0,
          0,
          9,
          5,
          10,
          8,
          7,
          5,
          0,
          0,
          0,
          0,
          1,
          2,
          0,
          0,
          0,
          0,
          0,
          1,
          5,
          9,
          6,
          null,
          0,
          0,
          0,
          0,
          0,
          0,
          0,
          0,
          0,
          0,
          1,
          0,
          0,
          0,
          0,
          0,
          0,
          0,
          0,
          1,
          0,
          0,
          5,
          6,
          3,
          0,
          0,
          1,
          0,
          0,
          0,
          2,
          0,
          0,
          0,
          0,
          0,
          0,
          0,
          0,
          3,
          0,
          0,
          0,
          2,
          2,
          6,
          10,
          10,
          0,
          0,
          0,
          0,
          0,
          0,
          0,
          0,
          3,
          5,
          1,
          2,
          1,
          0,
          8,
          1,
          1,
          1,
          6,
          0,
          5,
          0,
          0,
          0,
          null,
          0,
          null,
          6,
          8,
          4,
          14,
          0,
          0,
          0,
          0,
          0,
          0,
          0,
          3,
          3,
          1,
          1,
          1,
          0,
          0,
          3,
          2,
          0,
          0,
          0,
          3,
          4,
          0,
          0,
          5,
          4,
          4,
          8,
          2,
          3,
          0,
          0,
          0,
          0,
          0,
          0,
          0,
          0,
          5,
          3,
          11,
          11,
          0,
          4,
          4,
          0,
          0,
          0,
          0,
          0,
          0,
          16,
          4,
          3,
          0,
          3,
          0,
          0,
          9,
          9,
          10,
          9,
          6,
          0,
          3,
          0,
          2,
          0,
          0,
          0,
          0,
          0,
          0,
          7,
          2,
          1,
          0,
          0,
          0,
          0,
          0,
          0,
          0,
          0,
          3,
          0,
          0,
          0,
          0,
          0,
          0,
          0,
          0,
          0,
          0,
          0,
          0,
          0,
          0,
          2,
          7,
          11,
          8,
          11,
          5,
          11,
          10,
          12,
          8,
          0,
          0,
          0,
          0,
          0,
          0,
          0,
          2,
          0,
          0,
          8,
          7,
          16,
          0,
          4,
          14,
          6,
          13,
          6,
          10,
          6,
          12,
          2,
          0,
          0,
          0,
          0,
          0,
          0,
          0,
          5,
          0,
          0,
          0,
          0,
          0,
          0,
          0,
          0,
          0,
          3,
          7,
          7,
          null,
          null,
          0,
          14,
          10,
          9,
          13,
          8,
          12,
          14,
          7,
          9,
          0,
          0,
          3,
          0,
          0,
          3,
          0,
          0,
          5,
          6,
          7,
          1,
          null,
          null,
          0,
          0,
          0,
          0,
          0,
          0,
          0,
          0,
          0,
          null,
          1,
          3,
          3,
          0,
          0,
          0,
          0,
          0,
          8,
          0,
          0,
          7,
          0,
          0,
          5,
          2,
          3,
          1,
          8,
          6,
          2,
          5,
          6,
          6,
          0,
          2,
          2,
          1,
          3,
          2,
          0,
          0,
          0,
          0,
          0,
          2,
          0,
          0,
          2,
          2,
          2,
          5,
          0,
          0,
          0,
          7,
          0,
          0,
          0,
          0,
          5,
          0,
          7,
          3,
          8,
          11,
          14,
          9,
          7,
          3,
          9,
          6,
          0,
          4,
          0,
          0,
          0,
          0,
          0,
          null,
          0,
          0,
          0,
          0,
          0,
          0,
          1,
          0,
          0,
          5,
          3,
          0,
          0,
          0,
          null,
          4,
          0,
          5,
          3,
          0,
          0,
          0,
          1,
          8,
          6,
          0,
          0,
          0,
          0,
          0,
          0,
          0,
          0,
          5,
          1,
          5,
          4,
          4,
          5,
          3,
          3,
          5,
          4,
          17,
          9,
          8,
          5,
          9,
          7,
          2,
          0,
          0,
          0,
          0,
          6,
          0,
          0,
          0,
          7,
          11,
          4,
          5,
          3,
          7,
          0,
          0,
          0,
          2,
          2,
          0,
          0,
          0,
          0,
          3,
          0,
          5,
          0,
          3,
          5,
          8,
          12,
          7,
          7,
          9,
          6,
          4,
          0,
          0,
          0,
          0,
          0,
          0,
          0,
          0,
          2,
          0,
          0,
          0,
          6,
          0,
          0,
          0,
          0,
          2,
          0,
          0,
          0,
          4,
          0,
          2,
          4,
          3,
          5,
          4,
          4,
          4,
          3,
          3,
          4,
          0,
          13,
          0,
          0,
          0,
          0,
          0,
          3,
          0,
          3,
          3,
          2,
          2,
          3,
          0,
          0,
          0,
          0,
          0,
          0,
          0,
          0,
          0,
          1,
          3,
          0
         ],
         "xaxis": "x",
         "yaxis": "y"
        },
        {
         "alignmentgroup": "True",
         "bingroup": "x",
         "hovertemplate": "Clinical State on Medication UPD23B=Off<br>UPDRS 4=%{x}<br>count=%{y}<extra></extra>",
         "legendgroup": "Off",
         "marker": {
          "color": "rgb(82, 188, 163)",
          "pattern": {
           "shape": ""
          }
         },
         "name": "Off",
         "offsetgroup": "Off",
         "orientation": "v",
         "showlegend": true,
         "type": "histogram",
         "x": [
          0,
          0,
          3,
          10,
          6,
          10,
          null,
          0,
          0,
          0,
          3,
          0,
          4,
          0,
          0,
          0,
          0,
          0,
          2,
          7,
          9,
          0,
          0,
          0,
          0,
          4,
          0,
          0,
          3,
          0,
          4,
          0,
          0,
          0,
          0,
          0,
          2,
          4,
          0,
          0,
          0,
          0,
          5,
          8,
          2,
          3,
          0,
          0,
          0,
          6,
          0,
          0,
          0,
          3,
          3,
          0,
          4,
          2,
          0,
          3,
          3,
          3,
          0,
          0,
          0,
          0,
          0,
          0,
          4,
          0,
          0,
          3,
          0,
          0,
          0,
          1,
          3,
          7,
          6,
          4,
          1,
          6,
          9,
          5,
          9,
          4,
          0,
          0,
          3,
          10,
          0,
          0,
          0,
          1,
          8,
          1,
          0,
          0,
          0,
          6,
          3,
          4,
          3,
          1,
          6,
          4,
          5,
          3,
          4,
          2,
          3,
          4,
          0,
          0,
          0,
          0,
          3,
          0,
          0,
          2,
          0,
          0,
          12,
          0,
          3,
          8,
          6,
          4,
          7,
          4,
          0,
          0,
          0,
          0,
          0,
          2,
          2,
          2,
          3,
          3,
          0,
          0,
          0,
          0,
          0,
          0,
          0,
          0,
          3,
          0,
          0,
          0,
          0,
          0,
          1,
          2,
          2,
          3,
          0,
          0,
          10,
          1,
          0,
          0,
          0,
          0,
          0,
          0,
          0,
          1,
          0,
          0,
          3,
          3,
          6,
          6,
          7,
          7,
          null,
          0,
          2,
          2,
          0,
          0,
          5,
          4,
          0,
          0,
          0,
          0,
          0,
          0,
          0,
          4,
          0,
          0,
          4,
          8,
          0,
          0,
          3,
          4,
          0,
          0,
          0,
          3,
          7,
          1,
          0,
          0,
          4,
          3,
          5,
          1,
          1,
          5,
          0,
          0,
          0,
          5,
          5,
          7,
          6,
          0,
          0,
          0,
          0,
          0,
          0,
          0,
          6,
          0,
          0,
          6,
          5,
          2,
          0,
          0,
          7,
          0,
          0,
          0,
          0,
          0,
          0,
          2,
          4,
          4,
          0,
          1,
          4,
          5,
          3,
          0,
          1,
          2,
          0,
          6,
          0,
          0,
          0,
          0,
          0,
          1,
          5,
          4,
          6,
          0,
          0,
          0,
          4,
          8,
          5,
          0,
          0,
          0,
          0,
          0,
          5,
          6,
          7,
          7,
          13,
          0,
          0,
          0,
          0,
          0,
          0,
          2,
          0,
          0,
          3,
          2,
          4,
          10,
          13,
          7,
          null,
          0,
          0,
          0,
          0,
          0,
          0,
          0,
          0,
          3,
          4,
          0,
          5,
          6,
          4,
          6,
          6,
          0,
          0,
          0,
          0,
          7,
          4,
          6,
          9,
          5,
          6,
          9,
          0,
          3,
          5,
          4,
          10,
          7,
          4,
          null,
          0,
          0,
          3,
          0,
          5,
          0,
          3,
          5,
          4,
          2,
          0,
          0,
          0,
          0,
          0,
          0,
          0,
          3,
          0,
          0,
          0,
          2,
          4,
          5,
          0,
          0,
          1,
          0,
          0,
          null,
          0,
          2,
          3,
          0,
          0,
          0,
          1,
          4,
          2,
          0,
          0,
          0,
          2,
          0,
          8,
          6,
          0,
          0,
          0,
          0,
          0,
          3,
          1,
          6,
          4,
          6,
          6,
          5,
          0,
          2,
          5,
          5,
          8,
          0,
          0,
          0,
          0,
          0,
          0,
          0,
          0,
          0,
          3,
          3,
          5,
          0,
          0,
          0,
          0,
          0,
          3,
          0,
          0,
          3,
          0,
          0,
          0,
          0,
          0,
          0,
          0,
          0,
          0,
          5,
          0,
          0,
          3,
          4,
          0,
          5,
          0,
          0,
          0,
          0,
          0,
          1,
          null,
          1,
          null,
          0,
          0,
          0,
          0,
          0,
          0,
          0,
          1,
          9,
          0,
          4,
          1,
          0,
          1,
          0,
          0,
          0,
          0,
          0,
          0,
          0,
          0,
          0,
          0,
          3,
          5,
          3,
          4,
          5,
          9,
          0,
          7,
          6,
          0,
          0,
          0,
          0,
          2,
          1,
          4,
          4,
          5,
          3,
          3,
          2,
          2,
          2,
          0,
          3,
          0,
          1,
          1,
          2,
          0,
          0,
          0,
          3,
          4,
          4,
          6,
          0,
          0,
          0,
          0,
          0,
          0,
          1,
          1,
          1,
          3
         ],
         "xaxis": "x",
         "yaxis": "y"
        }
       ],
       "layout": {
        "barmode": "relative",
        "height": 500,
        "legend": {
         "title": {
          "text": "Clinical State on Medication UPD23B"
         },
         "tracegroupgap": 0
        },
        "template": {
         "data": {
          "bar": [
           {
            "error_x": {
             "color": "#2a3f5f"
            },
            "error_y": {
             "color": "#2a3f5f"
            },
            "marker": {
             "line": {
              "color": "#E5ECF6",
              "width": 0.5
             },
             "pattern": {
              "fillmode": "overlay",
              "size": 10,
              "solidity": 0.2
             }
            },
            "type": "bar"
           }
          ],
          "barpolar": [
           {
            "marker": {
             "line": {
              "color": "#E5ECF6",
              "width": 0.5
             },
             "pattern": {
              "fillmode": "overlay",
              "size": 10,
              "solidity": 0.2
             }
            },
            "type": "barpolar"
           }
          ],
          "carpet": [
           {
            "aaxis": {
             "endlinecolor": "#2a3f5f",
             "gridcolor": "white",
             "linecolor": "white",
             "minorgridcolor": "white",
             "startlinecolor": "#2a3f5f"
            },
            "baxis": {
             "endlinecolor": "#2a3f5f",
             "gridcolor": "white",
             "linecolor": "white",
             "minorgridcolor": "white",
             "startlinecolor": "#2a3f5f"
            },
            "type": "carpet"
           }
          ],
          "choropleth": [
           {
            "colorbar": {
             "outlinewidth": 0,
             "ticks": ""
            },
            "type": "choropleth"
           }
          ],
          "contour": [
           {
            "colorbar": {
             "outlinewidth": 0,
             "ticks": ""
            },
            "colorscale": [
             [
              0,
              "#0d0887"
             ],
             [
              0.1111111111111111,
              "#46039f"
             ],
             [
              0.2222222222222222,
              "#7201a8"
             ],
             [
              0.3333333333333333,
              "#9c179e"
             ],
             [
              0.4444444444444444,
              "#bd3786"
             ],
             [
              0.5555555555555556,
              "#d8576b"
             ],
             [
              0.6666666666666666,
              "#ed7953"
             ],
             [
              0.7777777777777778,
              "#fb9f3a"
             ],
             [
              0.8888888888888888,
              "#fdca26"
             ],
             [
              1,
              "#f0f921"
             ]
            ],
            "type": "contour"
           }
          ],
          "contourcarpet": [
           {
            "colorbar": {
             "outlinewidth": 0,
             "ticks": ""
            },
            "type": "contourcarpet"
           }
          ],
          "heatmap": [
           {
            "colorbar": {
             "outlinewidth": 0,
             "ticks": ""
            },
            "colorscale": [
             [
              0,
              "#0d0887"
             ],
             [
              0.1111111111111111,
              "#46039f"
             ],
             [
              0.2222222222222222,
              "#7201a8"
             ],
             [
              0.3333333333333333,
              "#9c179e"
             ],
             [
              0.4444444444444444,
              "#bd3786"
             ],
             [
              0.5555555555555556,
              "#d8576b"
             ],
             [
              0.6666666666666666,
              "#ed7953"
             ],
             [
              0.7777777777777778,
              "#fb9f3a"
             ],
             [
              0.8888888888888888,
              "#fdca26"
             ],
             [
              1,
              "#f0f921"
             ]
            ],
            "type": "heatmap"
           }
          ],
          "heatmapgl": [
           {
            "colorbar": {
             "outlinewidth": 0,
             "ticks": ""
            },
            "colorscale": [
             [
              0,
              "#0d0887"
             ],
             [
              0.1111111111111111,
              "#46039f"
             ],
             [
              0.2222222222222222,
              "#7201a8"
             ],
             [
              0.3333333333333333,
              "#9c179e"
             ],
             [
              0.4444444444444444,
              "#bd3786"
             ],
             [
              0.5555555555555556,
              "#d8576b"
             ],
             [
              0.6666666666666666,
              "#ed7953"
             ],
             [
              0.7777777777777778,
              "#fb9f3a"
             ],
             [
              0.8888888888888888,
              "#fdca26"
             ],
             [
              1,
              "#f0f921"
             ]
            ],
            "type": "heatmapgl"
           }
          ],
          "histogram": [
           {
            "marker": {
             "pattern": {
              "fillmode": "overlay",
              "size": 10,
              "solidity": 0.2
             }
            },
            "type": "histogram"
           }
          ],
          "histogram2d": [
           {
            "colorbar": {
             "outlinewidth": 0,
             "ticks": ""
            },
            "colorscale": [
             [
              0,
              "#0d0887"
             ],
             [
              0.1111111111111111,
              "#46039f"
             ],
             [
              0.2222222222222222,
              "#7201a8"
             ],
             [
              0.3333333333333333,
              "#9c179e"
             ],
             [
              0.4444444444444444,
              "#bd3786"
             ],
             [
              0.5555555555555556,
              "#d8576b"
             ],
             [
              0.6666666666666666,
              "#ed7953"
             ],
             [
              0.7777777777777778,
              "#fb9f3a"
             ],
             [
              0.8888888888888888,
              "#fdca26"
             ],
             [
              1,
              "#f0f921"
             ]
            ],
            "type": "histogram2d"
           }
          ],
          "histogram2dcontour": [
           {
            "colorbar": {
             "outlinewidth": 0,
             "ticks": ""
            },
            "colorscale": [
             [
              0,
              "#0d0887"
             ],
             [
              0.1111111111111111,
              "#46039f"
             ],
             [
              0.2222222222222222,
              "#7201a8"
             ],
             [
              0.3333333333333333,
              "#9c179e"
             ],
             [
              0.4444444444444444,
              "#bd3786"
             ],
             [
              0.5555555555555556,
              "#d8576b"
             ],
             [
              0.6666666666666666,
              "#ed7953"
             ],
             [
              0.7777777777777778,
              "#fb9f3a"
             ],
             [
              0.8888888888888888,
              "#fdca26"
             ],
             [
              1,
              "#f0f921"
             ]
            ],
            "type": "histogram2dcontour"
           }
          ],
          "mesh3d": [
           {
            "colorbar": {
             "outlinewidth": 0,
             "ticks": ""
            },
            "type": "mesh3d"
           }
          ],
          "parcoords": [
           {
            "line": {
             "colorbar": {
              "outlinewidth": 0,
              "ticks": ""
             }
            },
            "type": "parcoords"
           }
          ],
          "pie": [
           {
            "automargin": true,
            "type": "pie"
           }
          ],
          "scatter": [
           {
            "fillpattern": {
             "fillmode": "overlay",
             "size": 10,
             "solidity": 0.2
            },
            "type": "scatter"
           }
          ],
          "scatter3d": [
           {
            "line": {
             "colorbar": {
              "outlinewidth": 0,
              "ticks": ""
             }
            },
            "marker": {
             "colorbar": {
              "outlinewidth": 0,
              "ticks": ""
             }
            },
            "type": "scatter3d"
           }
          ],
          "scattercarpet": [
           {
            "marker": {
             "colorbar": {
              "outlinewidth": 0,
              "ticks": ""
             }
            },
            "type": "scattercarpet"
           }
          ],
          "scattergeo": [
           {
            "marker": {
             "colorbar": {
              "outlinewidth": 0,
              "ticks": ""
             }
            },
            "type": "scattergeo"
           }
          ],
          "scattergl": [
           {
            "marker": {
             "colorbar": {
              "outlinewidth": 0,
              "ticks": ""
             }
            },
            "type": "scattergl"
           }
          ],
          "scattermapbox": [
           {
            "marker": {
             "colorbar": {
              "outlinewidth": 0,
              "ticks": ""
             }
            },
            "type": "scattermapbox"
           }
          ],
          "scatterpolar": [
           {
            "marker": {
             "colorbar": {
              "outlinewidth": 0,
              "ticks": ""
             }
            },
            "type": "scatterpolar"
           }
          ],
          "scatterpolargl": [
           {
            "marker": {
             "colorbar": {
              "outlinewidth": 0,
              "ticks": ""
             }
            },
            "type": "scatterpolargl"
           }
          ],
          "scatterternary": [
           {
            "marker": {
             "colorbar": {
              "outlinewidth": 0,
              "ticks": ""
             }
            },
            "type": "scatterternary"
           }
          ],
          "surface": [
           {
            "colorbar": {
             "outlinewidth": 0,
             "ticks": ""
            },
            "colorscale": [
             [
              0,
              "#0d0887"
             ],
             [
              0.1111111111111111,
              "#46039f"
             ],
             [
              0.2222222222222222,
              "#7201a8"
             ],
             [
              0.3333333333333333,
              "#9c179e"
             ],
             [
              0.4444444444444444,
              "#bd3786"
             ],
             [
              0.5555555555555556,
              "#d8576b"
             ],
             [
              0.6666666666666666,
              "#ed7953"
             ],
             [
              0.7777777777777778,
              "#fb9f3a"
             ],
             [
              0.8888888888888888,
              "#fdca26"
             ],
             [
              1,
              "#f0f921"
             ]
            ],
            "type": "surface"
           }
          ],
          "table": [
           {
            "cells": {
             "fill": {
              "color": "#EBF0F8"
             },
             "line": {
              "color": "white"
             }
            },
            "header": {
             "fill": {
              "color": "#C8D4E3"
             },
             "line": {
              "color": "white"
             }
            },
            "type": "table"
           }
          ]
         },
         "layout": {
          "annotationdefaults": {
           "arrowcolor": "#2a3f5f",
           "arrowhead": 0,
           "arrowwidth": 1
          },
          "autotypenumbers": "strict",
          "coloraxis": {
           "colorbar": {
            "outlinewidth": 0,
            "ticks": ""
           }
          },
          "colorscale": {
           "diverging": [
            [
             0,
             "#8e0152"
            ],
            [
             0.1,
             "#c51b7d"
            ],
            [
             0.2,
             "#de77ae"
            ],
            [
             0.3,
             "#f1b6da"
            ],
            [
             0.4,
             "#fde0ef"
            ],
            [
             0.5,
             "#f7f7f7"
            ],
            [
             0.6,
             "#e6f5d0"
            ],
            [
             0.7,
             "#b8e186"
            ],
            [
             0.8,
             "#7fbc41"
            ],
            [
             0.9,
             "#4d9221"
            ],
            [
             1,
             "#276419"
            ]
           ],
           "sequential": [
            [
             0,
             "#0d0887"
            ],
            [
             0.1111111111111111,
             "#46039f"
            ],
            [
             0.2222222222222222,
             "#7201a8"
            ],
            [
             0.3333333333333333,
             "#9c179e"
            ],
            [
             0.4444444444444444,
             "#bd3786"
            ],
            [
             0.5555555555555556,
             "#d8576b"
            ],
            [
             0.6666666666666666,
             "#ed7953"
            ],
            [
             0.7777777777777778,
             "#fb9f3a"
            ],
            [
             0.8888888888888888,
             "#fdca26"
            ],
            [
             1,
             "#f0f921"
            ]
           ],
           "sequentialminus": [
            [
             0,
             "#0d0887"
            ],
            [
             0.1111111111111111,
             "#46039f"
            ],
            [
             0.2222222222222222,
             "#7201a8"
            ],
            [
             0.3333333333333333,
             "#9c179e"
            ],
            [
             0.4444444444444444,
             "#bd3786"
            ],
            [
             0.5555555555555556,
             "#d8576b"
            ],
            [
             0.6666666666666666,
             "#ed7953"
            ],
            [
             0.7777777777777778,
             "#fb9f3a"
            ],
            [
             0.8888888888888888,
             "#fdca26"
            ],
            [
             1,
             "#f0f921"
            ]
           ]
          },
          "colorway": [
           "#636efa",
           "#EF553B",
           "#00cc96",
           "#ab63fa",
           "#FFA15A",
           "#19d3f3",
           "#FF6692",
           "#B6E880",
           "#FF97FF",
           "#FECB52"
          ],
          "font": {
           "color": "#2a3f5f"
          },
          "geo": {
           "bgcolor": "white",
           "lakecolor": "white",
           "landcolor": "#E5ECF6",
           "showlakes": true,
           "showland": true,
           "subunitcolor": "white"
          },
          "hoverlabel": {
           "align": "left"
          },
          "hovermode": "closest",
          "mapbox": {
           "style": "light"
          },
          "paper_bgcolor": "white",
          "plot_bgcolor": "#E5ECF6",
          "polar": {
           "angularaxis": {
            "gridcolor": "white",
            "linecolor": "white",
            "ticks": ""
           },
           "bgcolor": "#E5ECF6",
           "radialaxis": {
            "gridcolor": "white",
            "linecolor": "white",
            "ticks": ""
           }
          },
          "scene": {
           "xaxis": {
            "backgroundcolor": "#E5ECF6",
            "gridcolor": "white",
            "gridwidth": 2,
            "linecolor": "white",
            "showbackground": true,
            "ticks": "",
            "zerolinecolor": "white"
           },
           "yaxis": {
            "backgroundcolor": "#E5ECF6",
            "gridcolor": "white",
            "gridwidth": 2,
            "linecolor": "white",
            "showbackground": true,
            "ticks": "",
            "zerolinecolor": "white"
           },
           "zaxis": {
            "backgroundcolor": "#E5ECF6",
            "gridcolor": "white",
            "gridwidth": 2,
            "linecolor": "white",
            "showbackground": true,
            "ticks": "",
            "zerolinecolor": "white"
           }
          },
          "shapedefaults": {
           "line": {
            "color": "#2a3f5f"
           }
          },
          "ternary": {
           "aaxis": {
            "gridcolor": "white",
            "linecolor": "white",
            "ticks": ""
           },
           "baxis": {
            "gridcolor": "white",
            "linecolor": "white",
            "ticks": ""
           },
           "bgcolor": "#E5ECF6",
           "caxis": {
            "gridcolor": "white",
            "linecolor": "white",
            "ticks": ""
           }
          },
          "title": {
           "x": 0.05
          },
          "xaxis": {
           "automargin": true,
           "gridcolor": "white",
           "linecolor": "white",
           "ticks": "",
           "title": {
            "standoff": 15
           },
           "zerolinecolor": "white",
           "zerolinewidth": 2
          },
          "yaxis": {
           "automargin": true,
           "gridcolor": "white",
           "linecolor": "white",
           "ticks": "",
           "title": {
            "standoff": 15
           },
           "zerolinecolor": "white",
           "zerolinewidth": 2
          }
         }
        },
        "title": {
         "font": {
          "size": 15
         },
         "text": "Count of UPDR 4 Scores of Parkinson’s Disease Patients"
        },
        "width": 800,
        "xaxis": {
         "anchor": "y",
         "domain": [
          0,
          1
         ],
         "title": {
          "text": "UPDRS 4"
         }
        },
        "yaxis": {
         "anchor": "x",
         "domain": [
          0,
          1
         ],
         "title": {
          "text": "count"
         }
        }
       }
      },
      "text/html": [
       "<div>                            <div id=\"aae128d8-e4d3-474b-9107-507326791d69\" class=\"plotly-graph-div\" style=\"height:500px; width:800px;\"></div>            <script type=\"text/javascript\">                require([\"plotly\"], function(Plotly) {                    window.PLOTLYENV=window.PLOTLYENV || {};                                    if (document.getElementById(\"aae128d8-e4d3-474b-9107-507326791d69\")) {                    Plotly.newPlot(                        \"aae128d8-e4d3-474b-9107-507326791d69\",                        [{\"alignmentgroup\":\"True\",\"bingroup\":\"x\",\"hovertemplate\":\"Clinical State on Medication UPD23B=On<br>UPDRS 4=%{x}<br>count=%{y}<extra></extra>\",\"legendgroup\":\"On\",\"marker\":{\"color\":\"rgb(93, 105, 177)\",\"pattern\":{\"shape\":\"\"}},\"name\":\"On\",\"offsetgroup\":\"On\",\"orientation\":\"v\",\"showlegend\":true,\"x\":[0.0,0.0,0.0,0.0,0.0,0.0,0.0,0.0,0.0,0.0,5.0,7.0,5.0,5.0,3.0,8.0,4.0,0.0,3.0,3.0,0.0,0.0,4.0,0.0,7.0,5.0,6.0,7.0,4.0,5.0,0.0,0.0,0.0,3.0,2.0,2.0,3.0,4.0,3.0,2.0,0.0,0.0,0.0,5.0,2.0,8.0,5.0,4.0,0.0,5.0,4.0,2.0,3.0,5.0,5.0,5.0,5.0,4.0,5.0,4.0,0.0,0.0,0.0,0.0,6.0,6.0,0.0,3.0,0.0,0.0,0.0,0.0,0.0,3.0,0.0,0.0,0.0,0.0,0.0,2.0,4.0,0.0,0.0,0.0,2.0,1.0,2.0,0.0,0.0,0.0,1.0,10.0,5.0,0.0,3.0,0.0,0.0,0.0,0.0,0.0,0.0,0.0,0.0,5.0,4.0,0.0,1.0,0.0,0.0,0.0,0.0,0.0,0.0,null,0.0,null,0.0,0.0,2.0,0.0,0.0,0.0,0.0,0.0,0.0,0.0,0.0,0.0,0.0,0.0,6.0,6.0,5.0,5.0,0.0,2.0,0.0,4.0,2.0,1.0,0.0,0.0,2.0,0.0,0.0,2.0,7.0,3.0,7.0,5.0,8.0,10.0,8.0,7.0,9.0,6.0,2.0,5.0,2.0,4.0,0.0,5.0,7.0,0.0,0.0,0.0,0.0,2.0,3.0,9.0,9.0,3.0,0.0,3.0,0.0,5.0,3.0,3.0,4.0,null,null,1.0,2.0,1.0,5.0,6.0,3.0,0.0,5.0,8.0,3.0,13.0,8.0,13.0,0.0,0.0,0.0,0.0,0.0,0.0,0.0,10.0,7.0,6.0,11.0,14.0,20.0,15.0,14.0,16.0,1.0,3.0,0.0,0.0,0.0,5.0,0.0,0.0,0.0,0.0,0.0,0.0,0.0,0.0,0.0,0.0,0.0,0.0,2.0,6.0,0.0,0.0,0.0,2.0,0.0,2.0,0.0,0.0,0.0,0.0,2.0,4.0,10.0,1.0,4.0,5.0,0.0,1.0,0.0,4.0,4.0,4.0,5.0,6.0,null,0.0,0.0,0.0,0.0,0.0,0.0,0.0,0.0,0.0,0.0,0.0,0.0,0.0,0.0,0.0,0.0,9.0,5.0,10.0,8.0,7.0,5.0,0.0,0.0,0.0,0.0,1.0,2.0,0.0,0.0,0.0,0.0,0.0,1.0,5.0,9.0,6.0,null,0.0,0.0,0.0,0.0,0.0,0.0,0.0,0.0,0.0,0.0,1.0,0.0,0.0,0.0,0.0,0.0,0.0,0.0,0.0,1.0,0.0,0.0,5.0,6.0,3.0,0.0,0.0,1.0,0.0,0.0,0.0,2.0,0.0,0.0,0.0,0.0,0.0,0.0,0.0,0.0,3.0,0.0,0.0,0.0,2.0,2.0,6.0,10.0,10.0,0.0,0.0,0.0,0.0,0.0,0.0,0.0,0.0,3.0,5.0,1.0,2.0,1.0,0.0,8.0,1.0,1.0,1.0,6.0,0.0,5.0,0.0,0.0,0.0,null,0.0,null,6.0,8.0,4.0,14.0,0.0,0.0,0.0,0.0,0.0,0.0,0.0,3.0,3.0,1.0,1.0,1.0,0.0,0.0,3.0,2.0,0.0,0.0,0.0,3.0,4.0,0.0,0.0,5.0,4.0,4.0,8.0,2.0,3.0,0.0,0.0,0.0,0.0,0.0,0.0,0.0,0.0,5.0,3.0,11.0,11.0,0.0,4.0,4.0,0.0,0.0,0.0,0.0,0.0,0.0,16.0,4.0,3.0,0.0,3.0,0.0,0.0,9.0,9.0,10.0,9.0,6.0,0.0,3.0,0.0,2.0,0.0,0.0,0.0,0.0,0.0,0.0,7.0,2.0,1.0,0.0,0.0,0.0,0.0,0.0,0.0,0.0,0.0,3.0,0.0,0.0,0.0,0.0,0.0,0.0,0.0,0.0,0.0,0.0,0.0,0.0,0.0,0.0,2.0,7.0,11.0,8.0,11.0,5.0,11.0,10.0,12.0,8.0,0.0,0.0,0.0,0.0,0.0,0.0,0.0,2.0,0.0,0.0,8.0,7.0,16.0,0.0,4.0,14.0,6.0,13.0,6.0,10.0,6.0,12.0,2.0,0.0,0.0,0.0,0.0,0.0,0.0,0.0,5.0,0.0,0.0,0.0,0.0,0.0,0.0,0.0,0.0,0.0,3.0,7.0,7.0,null,null,0.0,14.0,10.0,9.0,13.0,8.0,12.0,14.0,7.0,9.0,0.0,0.0,3.0,0.0,0.0,3.0,0.0,0.0,5.0,6.0,7.0,1.0,null,null,0.0,0.0,0.0,0.0,0.0,0.0,0.0,0.0,0.0,null,1.0,3.0,3.0,0.0,0.0,0.0,0.0,0.0,8.0,0.0,0.0,7.0,0.0,0.0,5.0,2.0,3.0,1.0,8.0,6.0,2.0,5.0,6.0,6.0,0.0,2.0,2.0,1.0,3.0,2.0,0.0,0.0,0.0,0.0,0.0,2.0,0.0,0.0,2.0,2.0,2.0,5.0,0.0,0.0,0.0,7.0,0.0,0.0,0.0,0.0,5.0,0.0,7.0,3.0,8.0,11.0,14.0,9.0,7.0,3.0,9.0,6.0,0.0,4.0,0.0,0.0,0.0,0.0,0.0,null,0.0,0.0,0.0,0.0,0.0,0.0,1.0,0.0,0.0,5.0,3.0,0.0,0.0,0.0,null,4.0,0.0,5.0,3.0,0.0,0.0,0.0,1.0,8.0,6.0,0.0,0.0,0.0,0.0,0.0,0.0,0.0,0.0,5.0,1.0,5.0,4.0,4.0,5.0,3.0,3.0,5.0,4.0,17.0,9.0,8.0,5.0,9.0,7.0,2.0,0.0,0.0,0.0,0.0,6.0,0.0,0.0,0.0,7.0,11.0,4.0,5.0,3.0,7.0,0.0,0.0,0.0,2.0,2.0,0.0,0.0,0.0,0.0,3.0,0.0,5.0,0.0,3.0,5.0,8.0,12.0,7.0,7.0,9.0,6.0,4.0,0.0,0.0,0.0,0.0,0.0,0.0,0.0,0.0,2.0,0.0,0.0,0.0,6.0,0.0,0.0,0.0,0.0,2.0,0.0,0.0,0.0,4.0,0.0,2.0,4.0,3.0,5.0,4.0,4.0,4.0,3.0,3.0,4.0,0.0,13.0,0.0,0.0,0.0,0.0,0.0,3.0,0.0,3.0,3.0,2.0,2.0,3.0,0.0,0.0,0.0,0.0,0.0,0.0,0.0,0.0,0.0,1.0,3.0,0.0],\"xaxis\":\"x\",\"yaxis\":\"y\",\"type\":\"histogram\"},{\"alignmentgroup\":\"True\",\"bingroup\":\"x\",\"hovertemplate\":\"Clinical State on Medication UPD23B=Off<br>UPDRS 4=%{x}<br>count=%{y}<extra></extra>\",\"legendgroup\":\"Off\",\"marker\":{\"color\":\"rgb(82, 188, 163)\",\"pattern\":{\"shape\":\"\"}},\"name\":\"Off\",\"offsetgroup\":\"Off\",\"orientation\":\"v\",\"showlegend\":true,\"x\":[0.0,0.0,3.0,10.0,6.0,10.0,null,0.0,0.0,0.0,3.0,0.0,4.0,0.0,0.0,0.0,0.0,0.0,2.0,7.0,9.0,0.0,0.0,0.0,0.0,4.0,0.0,0.0,3.0,0.0,4.0,0.0,0.0,0.0,0.0,0.0,2.0,4.0,0.0,0.0,0.0,0.0,5.0,8.0,2.0,3.0,0.0,0.0,0.0,6.0,0.0,0.0,0.0,3.0,3.0,0.0,4.0,2.0,0.0,3.0,3.0,3.0,0.0,0.0,0.0,0.0,0.0,0.0,4.0,0.0,0.0,3.0,0.0,0.0,0.0,1.0,3.0,7.0,6.0,4.0,1.0,6.0,9.0,5.0,9.0,4.0,0.0,0.0,3.0,10.0,0.0,0.0,0.0,1.0,8.0,1.0,0.0,0.0,0.0,6.0,3.0,4.0,3.0,1.0,6.0,4.0,5.0,3.0,4.0,2.0,3.0,4.0,0.0,0.0,0.0,0.0,3.0,0.0,0.0,2.0,0.0,0.0,12.0,0.0,3.0,8.0,6.0,4.0,7.0,4.0,0.0,0.0,0.0,0.0,0.0,2.0,2.0,2.0,3.0,3.0,0.0,0.0,0.0,0.0,0.0,0.0,0.0,0.0,3.0,0.0,0.0,0.0,0.0,0.0,1.0,2.0,2.0,3.0,0.0,0.0,10.0,1.0,0.0,0.0,0.0,0.0,0.0,0.0,0.0,1.0,0.0,0.0,3.0,3.0,6.0,6.0,7.0,7.0,null,0.0,2.0,2.0,0.0,0.0,5.0,4.0,0.0,0.0,0.0,0.0,0.0,0.0,0.0,4.0,0.0,0.0,4.0,8.0,0.0,0.0,3.0,4.0,0.0,0.0,0.0,3.0,7.0,1.0,0.0,0.0,4.0,3.0,5.0,1.0,1.0,5.0,0.0,0.0,0.0,5.0,5.0,7.0,6.0,0.0,0.0,0.0,0.0,0.0,0.0,0.0,6.0,0.0,0.0,6.0,5.0,2.0,0.0,0.0,7.0,0.0,0.0,0.0,0.0,0.0,0.0,2.0,4.0,4.0,0.0,1.0,4.0,5.0,3.0,0.0,1.0,2.0,0.0,6.0,0.0,0.0,0.0,0.0,0.0,1.0,5.0,4.0,6.0,0.0,0.0,0.0,4.0,8.0,5.0,0.0,0.0,0.0,0.0,0.0,5.0,6.0,7.0,7.0,13.0,0.0,0.0,0.0,0.0,0.0,0.0,2.0,0.0,0.0,3.0,2.0,4.0,10.0,13.0,7.0,null,0.0,0.0,0.0,0.0,0.0,0.0,0.0,0.0,3.0,4.0,0.0,5.0,6.0,4.0,6.0,6.0,0.0,0.0,0.0,0.0,7.0,4.0,6.0,9.0,5.0,6.0,9.0,0.0,3.0,5.0,4.0,10.0,7.0,4.0,null,0.0,0.0,3.0,0.0,5.0,0.0,3.0,5.0,4.0,2.0,0.0,0.0,0.0,0.0,0.0,0.0,0.0,3.0,0.0,0.0,0.0,2.0,4.0,5.0,0.0,0.0,1.0,0.0,0.0,null,0.0,2.0,3.0,0.0,0.0,0.0,1.0,4.0,2.0,0.0,0.0,0.0,2.0,0.0,8.0,6.0,0.0,0.0,0.0,0.0,0.0,3.0,1.0,6.0,4.0,6.0,6.0,5.0,0.0,2.0,5.0,5.0,8.0,0.0,0.0,0.0,0.0,0.0,0.0,0.0,0.0,0.0,3.0,3.0,5.0,0.0,0.0,0.0,0.0,0.0,3.0,0.0,0.0,3.0,0.0,0.0,0.0,0.0,0.0,0.0,0.0,0.0,0.0,5.0,0.0,0.0,3.0,4.0,0.0,5.0,0.0,0.0,0.0,0.0,0.0,1.0,null,1.0,null,0.0,0.0,0.0,0.0,0.0,0.0,0.0,1.0,9.0,0.0,4.0,1.0,0.0,1.0,0.0,0.0,0.0,0.0,0.0,0.0,0.0,0.0,0.0,0.0,3.0,5.0,3.0,4.0,5.0,9.0,0.0,7.0,6.0,0.0,0.0,0.0,0.0,2.0,1.0,4.0,4.0,5.0,3.0,3.0,2.0,2.0,2.0,0.0,3.0,0.0,1.0,1.0,2.0,0.0,0.0,0.0,3.0,4.0,4.0,6.0,0.0,0.0,0.0,0.0,0.0,0.0,1.0,1.0,1.0,3.0],\"xaxis\":\"x\",\"yaxis\":\"y\",\"type\":\"histogram\"}],                        {\"template\":{\"data\":{\"histogram2dcontour\":[{\"type\":\"histogram2dcontour\",\"colorbar\":{\"outlinewidth\":0,\"ticks\":\"\"},\"colorscale\":[[0.0,\"#0d0887\"],[0.1111111111111111,\"#46039f\"],[0.2222222222222222,\"#7201a8\"],[0.3333333333333333,\"#9c179e\"],[0.4444444444444444,\"#bd3786\"],[0.5555555555555556,\"#d8576b\"],[0.6666666666666666,\"#ed7953\"],[0.7777777777777778,\"#fb9f3a\"],[0.8888888888888888,\"#fdca26\"],[1.0,\"#f0f921\"]]}],\"choropleth\":[{\"type\":\"choropleth\",\"colorbar\":{\"outlinewidth\":0,\"ticks\":\"\"}}],\"histogram2d\":[{\"type\":\"histogram2d\",\"colorbar\":{\"outlinewidth\":0,\"ticks\":\"\"},\"colorscale\":[[0.0,\"#0d0887\"],[0.1111111111111111,\"#46039f\"],[0.2222222222222222,\"#7201a8\"],[0.3333333333333333,\"#9c179e\"],[0.4444444444444444,\"#bd3786\"],[0.5555555555555556,\"#d8576b\"],[0.6666666666666666,\"#ed7953\"],[0.7777777777777778,\"#fb9f3a\"],[0.8888888888888888,\"#fdca26\"],[1.0,\"#f0f921\"]]}],\"heatmap\":[{\"type\":\"heatmap\",\"colorbar\":{\"outlinewidth\":0,\"ticks\":\"\"},\"colorscale\":[[0.0,\"#0d0887\"],[0.1111111111111111,\"#46039f\"],[0.2222222222222222,\"#7201a8\"],[0.3333333333333333,\"#9c179e\"],[0.4444444444444444,\"#bd3786\"],[0.5555555555555556,\"#d8576b\"],[0.6666666666666666,\"#ed7953\"],[0.7777777777777778,\"#fb9f3a\"],[0.8888888888888888,\"#fdca26\"],[1.0,\"#f0f921\"]]}],\"heatmapgl\":[{\"type\":\"heatmapgl\",\"colorbar\":{\"outlinewidth\":0,\"ticks\":\"\"},\"colorscale\":[[0.0,\"#0d0887\"],[0.1111111111111111,\"#46039f\"],[0.2222222222222222,\"#7201a8\"],[0.3333333333333333,\"#9c179e\"],[0.4444444444444444,\"#bd3786\"],[0.5555555555555556,\"#d8576b\"],[0.6666666666666666,\"#ed7953\"],[0.7777777777777778,\"#fb9f3a\"],[0.8888888888888888,\"#fdca26\"],[1.0,\"#f0f921\"]]}],\"contourcarpet\":[{\"type\":\"contourcarpet\",\"colorbar\":{\"outlinewidth\":0,\"ticks\":\"\"}}],\"contour\":[{\"type\":\"contour\",\"colorbar\":{\"outlinewidth\":0,\"ticks\":\"\"},\"colorscale\":[[0.0,\"#0d0887\"],[0.1111111111111111,\"#46039f\"],[0.2222222222222222,\"#7201a8\"],[0.3333333333333333,\"#9c179e\"],[0.4444444444444444,\"#bd3786\"],[0.5555555555555556,\"#d8576b\"],[0.6666666666666666,\"#ed7953\"],[0.7777777777777778,\"#fb9f3a\"],[0.8888888888888888,\"#fdca26\"],[1.0,\"#f0f921\"]]}],\"surface\":[{\"type\":\"surface\",\"colorbar\":{\"outlinewidth\":0,\"ticks\":\"\"},\"colorscale\":[[0.0,\"#0d0887\"],[0.1111111111111111,\"#46039f\"],[0.2222222222222222,\"#7201a8\"],[0.3333333333333333,\"#9c179e\"],[0.4444444444444444,\"#bd3786\"],[0.5555555555555556,\"#d8576b\"],[0.6666666666666666,\"#ed7953\"],[0.7777777777777778,\"#fb9f3a\"],[0.8888888888888888,\"#fdca26\"],[1.0,\"#f0f921\"]]}],\"mesh3d\":[{\"type\":\"mesh3d\",\"colorbar\":{\"outlinewidth\":0,\"ticks\":\"\"}}],\"scatter\":[{\"fillpattern\":{\"fillmode\":\"overlay\",\"size\":10,\"solidity\":0.2},\"type\":\"scatter\"}],\"parcoords\":[{\"type\":\"parcoords\",\"line\":{\"colorbar\":{\"outlinewidth\":0,\"ticks\":\"\"}}}],\"scatterpolargl\":[{\"type\":\"scatterpolargl\",\"marker\":{\"colorbar\":{\"outlinewidth\":0,\"ticks\":\"\"}}}],\"bar\":[{\"error_x\":{\"color\":\"#2a3f5f\"},\"error_y\":{\"color\":\"#2a3f5f\"},\"marker\":{\"line\":{\"color\":\"#E5ECF6\",\"width\":0.5},\"pattern\":{\"fillmode\":\"overlay\",\"size\":10,\"solidity\":0.2}},\"type\":\"bar\"}],\"scattergeo\":[{\"type\":\"scattergeo\",\"marker\":{\"colorbar\":{\"outlinewidth\":0,\"ticks\":\"\"}}}],\"scatterpolar\":[{\"type\":\"scatterpolar\",\"marker\":{\"colorbar\":{\"outlinewidth\":0,\"ticks\":\"\"}}}],\"histogram\":[{\"marker\":{\"pattern\":{\"fillmode\":\"overlay\",\"size\":10,\"solidity\":0.2}},\"type\":\"histogram\"}],\"scattergl\":[{\"type\":\"scattergl\",\"marker\":{\"colorbar\":{\"outlinewidth\":0,\"ticks\":\"\"}}}],\"scatter3d\":[{\"type\":\"scatter3d\",\"line\":{\"colorbar\":{\"outlinewidth\":0,\"ticks\":\"\"}},\"marker\":{\"colorbar\":{\"outlinewidth\":0,\"ticks\":\"\"}}}],\"scattermapbox\":[{\"type\":\"scattermapbox\",\"marker\":{\"colorbar\":{\"outlinewidth\":0,\"ticks\":\"\"}}}],\"scatterternary\":[{\"type\":\"scatterternary\",\"marker\":{\"colorbar\":{\"outlinewidth\":0,\"ticks\":\"\"}}}],\"scattercarpet\":[{\"type\":\"scattercarpet\",\"marker\":{\"colorbar\":{\"outlinewidth\":0,\"ticks\":\"\"}}}],\"carpet\":[{\"aaxis\":{\"endlinecolor\":\"#2a3f5f\",\"gridcolor\":\"white\",\"linecolor\":\"white\",\"minorgridcolor\":\"white\",\"startlinecolor\":\"#2a3f5f\"},\"baxis\":{\"endlinecolor\":\"#2a3f5f\",\"gridcolor\":\"white\",\"linecolor\":\"white\",\"minorgridcolor\":\"white\",\"startlinecolor\":\"#2a3f5f\"},\"type\":\"carpet\"}],\"table\":[{\"cells\":{\"fill\":{\"color\":\"#EBF0F8\"},\"line\":{\"color\":\"white\"}},\"header\":{\"fill\":{\"color\":\"#C8D4E3\"},\"line\":{\"color\":\"white\"}},\"type\":\"table\"}],\"barpolar\":[{\"marker\":{\"line\":{\"color\":\"#E5ECF6\",\"width\":0.5},\"pattern\":{\"fillmode\":\"overlay\",\"size\":10,\"solidity\":0.2}},\"type\":\"barpolar\"}],\"pie\":[{\"automargin\":true,\"type\":\"pie\"}]},\"layout\":{\"autotypenumbers\":\"strict\",\"colorway\":[\"#636efa\",\"#EF553B\",\"#00cc96\",\"#ab63fa\",\"#FFA15A\",\"#19d3f3\",\"#FF6692\",\"#B6E880\",\"#FF97FF\",\"#FECB52\"],\"font\":{\"color\":\"#2a3f5f\"},\"hovermode\":\"closest\",\"hoverlabel\":{\"align\":\"left\"},\"paper_bgcolor\":\"white\",\"plot_bgcolor\":\"#E5ECF6\",\"polar\":{\"bgcolor\":\"#E5ECF6\",\"angularaxis\":{\"gridcolor\":\"white\",\"linecolor\":\"white\",\"ticks\":\"\"},\"radialaxis\":{\"gridcolor\":\"white\",\"linecolor\":\"white\",\"ticks\":\"\"}},\"ternary\":{\"bgcolor\":\"#E5ECF6\",\"aaxis\":{\"gridcolor\":\"white\",\"linecolor\":\"white\",\"ticks\":\"\"},\"baxis\":{\"gridcolor\":\"white\",\"linecolor\":\"white\",\"ticks\":\"\"},\"caxis\":{\"gridcolor\":\"white\",\"linecolor\":\"white\",\"ticks\":\"\"}},\"coloraxis\":{\"colorbar\":{\"outlinewidth\":0,\"ticks\":\"\"}},\"colorscale\":{\"sequential\":[[0.0,\"#0d0887\"],[0.1111111111111111,\"#46039f\"],[0.2222222222222222,\"#7201a8\"],[0.3333333333333333,\"#9c179e\"],[0.4444444444444444,\"#bd3786\"],[0.5555555555555556,\"#d8576b\"],[0.6666666666666666,\"#ed7953\"],[0.7777777777777778,\"#fb9f3a\"],[0.8888888888888888,\"#fdca26\"],[1.0,\"#f0f921\"]],\"sequentialminus\":[[0.0,\"#0d0887\"],[0.1111111111111111,\"#46039f\"],[0.2222222222222222,\"#7201a8\"],[0.3333333333333333,\"#9c179e\"],[0.4444444444444444,\"#bd3786\"],[0.5555555555555556,\"#d8576b\"],[0.6666666666666666,\"#ed7953\"],[0.7777777777777778,\"#fb9f3a\"],[0.8888888888888888,\"#fdca26\"],[1.0,\"#f0f921\"]],\"diverging\":[[0,\"#8e0152\"],[0.1,\"#c51b7d\"],[0.2,\"#de77ae\"],[0.3,\"#f1b6da\"],[0.4,\"#fde0ef\"],[0.5,\"#f7f7f7\"],[0.6,\"#e6f5d0\"],[0.7,\"#b8e186\"],[0.8,\"#7fbc41\"],[0.9,\"#4d9221\"],[1,\"#276419\"]]},\"xaxis\":{\"gridcolor\":\"white\",\"linecolor\":\"white\",\"ticks\":\"\",\"title\":{\"standoff\":15},\"zerolinecolor\":\"white\",\"automargin\":true,\"zerolinewidth\":2},\"yaxis\":{\"gridcolor\":\"white\",\"linecolor\":\"white\",\"ticks\":\"\",\"title\":{\"standoff\":15},\"zerolinecolor\":\"white\",\"automargin\":true,\"zerolinewidth\":2},\"scene\":{\"xaxis\":{\"backgroundcolor\":\"#E5ECF6\",\"gridcolor\":\"white\",\"linecolor\":\"white\",\"showbackground\":true,\"ticks\":\"\",\"zerolinecolor\":\"white\",\"gridwidth\":2},\"yaxis\":{\"backgroundcolor\":\"#E5ECF6\",\"gridcolor\":\"white\",\"linecolor\":\"white\",\"showbackground\":true,\"ticks\":\"\",\"zerolinecolor\":\"white\",\"gridwidth\":2},\"zaxis\":{\"backgroundcolor\":\"#E5ECF6\",\"gridcolor\":\"white\",\"linecolor\":\"white\",\"showbackground\":true,\"ticks\":\"\",\"zerolinecolor\":\"white\",\"gridwidth\":2}},\"shapedefaults\":{\"line\":{\"color\":\"#2a3f5f\"}},\"annotationdefaults\":{\"arrowcolor\":\"#2a3f5f\",\"arrowhead\":0,\"arrowwidth\":1},\"geo\":{\"bgcolor\":\"white\",\"landcolor\":\"#E5ECF6\",\"subunitcolor\":\"white\",\"showland\":true,\"showlakes\":true,\"lakecolor\":\"white\"},\"title\":{\"x\":0.05},\"mapbox\":{\"style\":\"light\"}}},\"xaxis\":{\"anchor\":\"y\",\"domain\":[0.0,1.0],\"title\":{\"text\":\"UPDRS 4\"}},\"yaxis\":{\"anchor\":\"x\",\"domain\":[0.0,1.0],\"title\":{\"text\":\"count\"}},\"legend\":{\"title\":{\"text\":\"Clinical State on Medication UPD23B\"},\"tracegroupgap\":0},\"title\":{\"text\":\"Count of UPDR 4 Scores of Parkinson\\u2019s Disease Patients\",\"font\":{\"size\":15}},\"barmode\":\"relative\",\"height\":500,\"width\":800},                        {\"responsive\": true}                    ).then(function(){\n",
       "                            \n",
       "var gd = document.getElementById('aae128d8-e4d3-474b-9107-507326791d69');\n",
       "var x = new MutationObserver(function (mutations, observer) {{\n",
       "        var display = window.getComputedStyle(gd).display;\n",
       "        if (!display || display === 'none') {{\n",
       "            console.log([gd, 'removed!']);\n",
       "            Plotly.purge(gd);\n",
       "            observer.disconnect();\n",
       "        }}\n",
       "}});\n",
       "\n",
       "// Listen for the removal of the full notebook cells\n",
       "var notebookContainer = gd.closest('#notebook-container');\n",
       "if (notebookContainer) {{\n",
       "    x.observe(notebookContainer, {childList: true});\n",
       "}}\n",
       "\n",
       "// Listen for the clearing of the current output cell\n",
       "var outputEl = gd.closest('.output');\n",
       "if (outputEl) {{\n",
       "    x.observe(outputEl, {childList: true});\n",
       "}}\n",
       "\n",
       "                        })                };                });            </script>        </div>"
      ]
     },
     "metadata": {},
     "output_type": "display_data"
    }
   ],
   "source": [
    " fig=px.histogram(train_clinical,\n",
    "                     x = 'UPDRS 4',\n",
    "                     color = 'Clinical State on Medication UPD23B',\n",
    "                     title= 'Count of UPDR 4 Scores of Parkinson’s Disease Patients',\n",
    "                     color_discrete_sequence=px.colors.qualitative.Vivid,\n",
    "                     width=800, height=500)\n",
    "fig.update_layout(title_font_size=15)\n",
    "fig.show()"
   ]
  },
  {
   "cell_type": "code",
   "execution_count": null,
   "id": "a67b7873",
   "metadata": {},
   "outputs": [],
   "source": []
  },
  {
   "cell_type": "code",
   "execution_count": null,
   "id": "2ac9ef44",
   "metadata": {},
   "outputs": [],
   "source": []
  },
  {
   "cell_type": "code",
   "execution_count": null,
   "id": "930cae8d",
   "metadata": {},
   "outputs": [],
   "source": []
  }
 ],
 "metadata": {
  "kernelspec": {
   "display_name": "Python 3 (ipykernel)",
   "language": "python",
   "name": "python3"
  },
  "language_info": {
   "codemirror_mode": {
    "name": "ipython",
    "version": 3
   },
   "file_extension": ".py",
   "mimetype": "text/x-python",
   "name": "python",
   "nbconvert_exporter": "python",
   "pygments_lexer": "ipython3",
   "version": "3.9.13"
  }
 },
 "nbformat": 4,
 "nbformat_minor": 5
}
