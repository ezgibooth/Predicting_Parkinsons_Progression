{
 "cells": [
  {
   "cell_type": "code",
   "execution_count": 20,
   "id": "76f62765",
   "metadata": {},
   "outputs": [],
   "source": [
    "import pandas as pd\n",
    "import matplotlib.pyplot as plt\n",
    "import seaborn as sns\n",
    "import numpy as np\n",
    "import random"
   ]
  },
  {
   "cell_type": "code",
   "execution_count": 2,
   "id": "b3f9645d",
   "metadata": {},
   "outputs": [],
   "source": [
    "#create dataframes from csv files\n",
    "\n",
    "peptides = pd.read_csv(\"PD-datasets/train_peptides.csv\")\n",
    "proteins = pd.read_csv(\"PD-datasets/train_proteins.csv\")\n",
    "clinical = pd.read_csv(\"PD-datasets/train_clinical_data.csv\")"
   ]
  },
  {
   "cell_type": "markdown",
   "id": "c43c9c3c",
   "metadata": {},
   "source": [
    "# EDA\n",
    "\n",
    "To begin our data exploration we will look at the example of one patient in all 3 datasets. First, let's track the progression of the patient's disease as measured by Unified Parkinson's Disease Rating Scale (UPDRS). The UPDRS is composed of 4 parts, which measure the different impacts of the disease on a patient's health. "
   ]
  },
  {
   "cell_type": "code",
   "execution_count": 68,
   "id": "e4b5fdeb",
   "metadata": {},
   "outputs": [],
   "source": [
    "patients = clinical.patient_id.unique()"
   ]
  },
  {
   "cell_type": "code",
   "execution_count": 69,
   "id": "314cb316",
   "metadata": {},
   "outputs": [],
   "source": [
    "r = random.randrange(len(patients))"
   ]
  },
  {
   "cell_type": "code",
   "execution_count": 70,
   "id": "87649096",
   "metadata": {},
   "outputs": [],
   "source": [
    "patient_x = clinical.loc[clinical['patient_id']==patients[r],:]"
   ]
  },
  {
   "cell_type": "code",
   "execution_count": 71,
   "id": "519edc7b",
   "metadata": {
    "scrolled": true
   },
   "outputs": [
    {
     "data": {
      "text/plain": [
       "Text(0.5, 1.0, 'Patient 247 UPDRS Over Time')"
      ]
     },
     "execution_count": 71,
     "metadata": {},
     "output_type": "execute_result"
    },
    {
     "data": {
      "image/png": "[encoded data removed]",
      "text/plain": [
       "<Figure size 576x432 with 1 Axes>"
      ]
     },
     "metadata": {
      "needs_background": "light"
     },
     "output_type": "display_data"
    }
   ],
   "source": [
    "ax = patient_x[[\"visit_month\",\"updrs_1\",\"updrs_2\",\"updrs_3\",\"updrs_4\"]].plot.bar(x='visit_month', stacked=True, color=['tomato','lightseagreen','yellow','blue'], figsize=(8,6))\n",
    "ax.set_title(f'Patient {r} UPDRS Over Time', fontsize=20)"
   ]
  },
  {
   "cell_type": "markdown",
   "id": "d6e44129",
   "metadata": {},
   "source": [
    "We have two other datasets that provide context to the patients' disease progression. In addition to the UPDRS, protein measurements were taken at every visit. \n",
    "\n",
    "Our protein dataset tells us which proteins are present, and in what concentration (NPX).\n",
    "\n",
    "The peptides dataset tells us what those proteins are composed of."
   ]
  },
  {
   "cell_type": "code",
   "execution_count": 72,
   "id": "cf4e1161",
   "metadata": {},
   "outputs": [
    {
     "data": {
      "text/html": [
       "<div>\n",
       "<style scoped>\n",
       "    .dataframe tbody tr th:only-of-type {\n",
       "        vertical-align: middle;\n",
       "    }\n",
       "\n",
       "    .dataframe tbody tr th {\n",
       "        vertical-align: top;\n",
       "    }\n",
       "\n",
       "    .dataframe thead th {\n",
       "        text-align: right;\n",
       "    }\n",
       "</style>\n",
       "<table border=\"1\" class=\"dataframe\">\n",
       "  <thead>\n",
       "    <tr style=\"text-align: right;\">\n",
       "      <th></th>\n",
       "      <th>visit_id</th>\n",
       "      <th>visit_month</th>\n",
       "      <th>patient_id</th>\n",
       "      <th>UniProt_x</th>\n",
       "      <th>NPX</th>\n",
       "      <th>UniProt_y</th>\n",
       "      <th>Peptide</th>\n",
       "      <th>PeptideAbundance</th>\n",
       "    </tr>\n",
       "  </thead>\n",
       "  <tbody>\n",
       "    <tr>\n",
       "      <th>0</th>\n",
       "      <td>65043_0</td>\n",
       "      <td>0</td>\n",
       "      <td>65043</td>\n",
       "      <td>O00391</td>\n",
       "      <td>13472.4</td>\n",
       "      <td>O00391</td>\n",
       "      <td>NEQEQPLGQWHLS</td>\n",
       "      <td>13472.4</td>\n",
       "    </tr>\n",
       "    <tr>\n",
       "      <th>1</th>\n",
       "      <td>65043_0</td>\n",
       "      <td>0</td>\n",
       "      <td>65043</td>\n",
       "      <td>O00391</td>\n",
       "      <td>13472.4</td>\n",
       "      <td>O00533</td>\n",
       "      <td>GNPEPTFSWTK</td>\n",
       "      <td>158777.0</td>\n",
       "    </tr>\n",
       "    <tr>\n",
       "      <th>2</th>\n",
       "      <td>65043_0</td>\n",
       "      <td>0</td>\n",
       "      <td>65043</td>\n",
       "      <td>O00391</td>\n",
       "      <td>13472.4</td>\n",
       "      <td>O00533</td>\n",
       "      <td>KPQSAVYSTGSNGILLC(UniMod_4)EAEGEPQPTIK</td>\n",
       "      <td>51184.3</td>\n",
       "    </tr>\n",
       "    <tr>\n",
       "      <th>3</th>\n",
       "      <td>65043_0</td>\n",
       "      <td>0</td>\n",
       "      <td>65043</td>\n",
       "      <td>O00391</td>\n",
       "      <td>13472.4</td>\n",
       "      <td>O00533</td>\n",
       "      <td>SMEQNGPGLEYR</td>\n",
       "      <td>55708.4</td>\n",
       "    </tr>\n",
       "    <tr>\n",
       "      <th>4</th>\n",
       "      <td>65043_0</td>\n",
       "      <td>0</td>\n",
       "      <td>65043</td>\n",
       "      <td>O00391</td>\n",
       "      <td>13472.4</td>\n",
       "      <td>O00533</td>\n",
       "      <td>TLKIENVSYQDKGNYR</td>\n",
       "      <td>53159.7</td>\n",
       "    </tr>\n",
       "  </tbody>\n",
       "</table>\n",
       "</div>"
      ],
      "text/plain": [
       "  visit_id  visit_month  patient_id UniProt_x      NPX UniProt_y  \\\n",
       "0  65043_0            0       65043    O00391  13472.4    O00391   \n",
       "1  65043_0            0       65043    O00391  13472.4    O00533   \n",
       "2  65043_0            0       65043    O00391  13472.4    O00533   \n",
       "3  65043_0            0       65043    O00391  13472.4    O00533   \n",
       "4  65043_0            0       65043    O00391  13472.4    O00533   \n",
       "\n",
       "                                  Peptide  PeptideAbundance  \n",
       "0                           NEQEQPLGQWHLS           13472.4  \n",
       "1                             GNPEPTFSWTK          158777.0  \n",
       "2  KPQSAVYSTGSNGILLC(UniMod_4)EAEGEPQPTIK           51184.3  \n",
       "3                            SMEQNGPGLEYR           55708.4  \n",
       "4                        TLKIENVSYQDKGNYR           53159.7  "
      ]
     },
     "execution_count": 72,
     "metadata": {},
     "output_type": "execute_result"
    }
   ],
   "source": [
    "proteins_x = proteins.loc[proteins['patient_id']==patients[r],:]\n",
    "peptides_x = peptides.loc[peptides['patient_id']==patients[r],:]\n",
    "\n",
    "proteins_peptides_x = pd.merge(left=proteins_x,right=peptides_x,how='outer',on=['visit_id', 'visit_month', 'patient_id'])\n",
    "proteins_peptides_x.head()"
   ]
  },
  {
   "cell_type": "code",
   "execution_count": 75,
   "id": "5654cef6",
   "metadata": {},
   "outputs": [],
   "source": [
    "visits = proteins_peptides_x.visit_id.unique()\n",
    "v = random.choice(visits)"
   ]
  },
  {
   "cell_type": "code",
   "execution_count": 76,
   "id": "2d0fbddd",
   "metadata": {},
   "outputs": [
    {
     "data": {
      "text/plain": [
       "'65043_0'"
      ]
     },
     "execution_count": 76,
     "metadata": {},
     "output_type": "execute_result"
    }
   ],
   "source": [
    "v"
   ]
  },
  {
   "cell_type": "code",
   "execution_count": 77,
   "id": "265f566c",
   "metadata": {},
   "outputs": [],
   "source": [
    "visit_x = proteins_peptides_x.loc[proteins_peptides_x['visit_id']==v,:]"
   ]
  },
  {
   "cell_type": "code",
   "execution_count": 78,
   "id": "7212738e",
   "metadata": {
    "scrolled": true
   },
   "outputs": [
    {
     "data": {
      "text/html": [
       "<div>\n",
       "<style scoped>\n",
       "    .dataframe tbody tr th:only-of-type {\n",
       "        vertical-align: middle;\n",
       "    }\n",
       "\n",
       "    .dataframe tbody tr th {\n",
       "        vertical-align: top;\n",
       "    }\n",
       "\n",
       "    .dataframe thead th {\n",
       "        text-align: right;\n",
       "    }\n",
       "</style>\n",
       "<table border=\"1\" class=\"dataframe\">\n",
       "  <thead>\n",
       "    <tr style=\"text-align: right;\">\n",
       "      <th></th>\n",
       "      <th>visit_id</th>\n",
       "      <th>visit_month</th>\n",
       "      <th>patient_id</th>\n",
       "      <th>UniProt_x</th>\n",
       "      <th>NPX</th>\n",
       "      <th>UniProt_y</th>\n",
       "      <th>Peptide</th>\n",
       "      <th>PeptideAbundance</th>\n",
       "    </tr>\n",
       "  </thead>\n",
       "  <tbody>\n",
       "    <tr>\n",
       "      <th>0</th>\n",
       "      <td>65043_0</td>\n",
       "      <td>0</td>\n",
       "      <td>65043</td>\n",
       "      <td>O00391</td>\n",
       "      <td>13472.4</td>\n",
       "      <td>O00391</td>\n",
       "      <td>NEQEQPLGQWHLS</td>\n",
       "      <td>13472.4</td>\n",
       "    </tr>\n",
       "    <tr>\n",
       "      <th>1</th>\n",
       "      <td>65043_0</td>\n",
       "      <td>0</td>\n",
       "      <td>65043</td>\n",
       "      <td>O00391</td>\n",
       "      <td>13472.4</td>\n",
       "      <td>O00533</td>\n",
       "      <td>GNPEPTFSWTK</td>\n",
       "      <td>158777.0</td>\n",
       "    </tr>\n",
       "    <tr>\n",
       "      <th>2</th>\n",
       "      <td>65043_0</td>\n",
       "      <td>0</td>\n",
       "      <td>65043</td>\n",
       "      <td>O00391</td>\n",
       "      <td>13472.4</td>\n",
       "      <td>O00533</td>\n",
       "      <td>KPQSAVYSTGSNGILLC(UniMod_4)EAEGEPQPTIK</td>\n",
       "      <td>51184.3</td>\n",
       "    </tr>\n",
       "    <tr>\n",
       "      <th>3</th>\n",
       "      <td>65043_0</td>\n",
       "      <td>0</td>\n",
       "      <td>65043</td>\n",
       "      <td>O00391</td>\n",
       "      <td>13472.4</td>\n",
       "      <td>O00533</td>\n",
       "      <td>SMEQNGPGLEYR</td>\n",
       "      <td>55708.4</td>\n",
       "    </tr>\n",
       "    <tr>\n",
       "      <th>4</th>\n",
       "      <td>65043_0</td>\n",
       "      <td>0</td>\n",
       "      <td>65043</td>\n",
       "      <td>O00391</td>\n",
       "      <td>13472.4</td>\n",
       "      <td>O00533</td>\n",
       "      <td>TLKIENVSYQDKGNYR</td>\n",
       "      <td>53159.7</td>\n",
       "    </tr>\n",
       "    <tr>\n",
       "      <th>...</th>\n",
       "      <td>...</td>\n",
       "      <td>...</td>\n",
       "      <td>...</td>\n",
       "      <td>...</td>\n",
       "      <td>...</td>\n",
       "      <td>...</td>\n",
       "      <td>...</td>\n",
       "      <td>...</td>\n",
       "    </tr>\n",
       "    <tr>\n",
       "      <th>191515</th>\n",
       "      <td>65043_0</td>\n",
       "      <td>0</td>\n",
       "      <td>65043</td>\n",
       "      <td>Q9Y6R7</td>\n",
       "      <td>35617.5</td>\n",
       "      <td>Q9UHG2</td>\n",
       "      <td>ILAGSADSEGVAAPR</td>\n",
       "      <td>249512.0</td>\n",
       "    </tr>\n",
       "    <tr>\n",
       "      <th>191516</th>\n",
       "      <td>65043_0</td>\n",
       "      <td>0</td>\n",
       "      <td>65043</td>\n",
       "      <td>Q9Y6R7</td>\n",
       "      <td>35617.5</td>\n",
       "      <td>Q9UKV8</td>\n",
       "      <td>SGNIPAGTTVDTK</td>\n",
       "      <td>37584.6</td>\n",
       "    </tr>\n",
       "    <tr>\n",
       "      <th>191517</th>\n",
       "      <td>65043_0</td>\n",
       "      <td>0</td>\n",
       "      <td>65043</td>\n",
       "      <td>Q9Y6R7</td>\n",
       "      <td>35617.5</td>\n",
       "      <td>Q9Y646</td>\n",
       "      <td>LALLVDTVGPR</td>\n",
       "      <td>28346.5</td>\n",
       "    </tr>\n",
       "    <tr>\n",
       "      <th>191518</th>\n",
       "      <td>65043_0</td>\n",
       "      <td>0</td>\n",
       "      <td>65043</td>\n",
       "      <td>Q9Y6R7</td>\n",
       "      <td>35617.5</td>\n",
       "      <td>Q9Y6R7</td>\n",
       "      <td>AGC(UniMod_4)VAESTAVC(UniMod_4)R</td>\n",
       "      <td>12057.7</td>\n",
       "    </tr>\n",
       "    <tr>\n",
       "      <th>191519</th>\n",
       "      <td>65043_0</td>\n",
       "      <td>0</td>\n",
       "      <td>65043</td>\n",
       "      <td>Q9Y6R7</td>\n",
       "      <td>35617.5</td>\n",
       "      <td>Q9Y6R7</td>\n",
       "      <td>GATTSPGVYELSSR</td>\n",
       "      <td>23559.8</td>\n",
       "    </tr>\n",
       "  </tbody>\n",
       "</table>\n",
       "<p>191520 rows × 8 columns</p>\n",
       "</div>"
      ],
      "text/plain": [
       "       visit_id  visit_month  patient_id UniProt_x      NPX UniProt_y  \\\n",
       "0       65043_0            0       65043    O00391  13472.4    O00391   \n",
       "1       65043_0            0       65043    O00391  13472.4    O00533   \n",
       "2       65043_0            0       65043    O00391  13472.4    O00533   \n",
       "3       65043_0            0       65043    O00391  13472.4    O00533   \n",
       "4       65043_0            0       65043    O00391  13472.4    O00533   \n",
       "...         ...          ...         ...       ...      ...       ...   \n",
       "191515  65043_0            0       65043    Q9Y6R7  35617.5    Q9UHG2   \n",
       "191516  65043_0            0       65043    Q9Y6R7  35617.5    Q9UKV8   \n",
       "191517  65043_0            0       65043    Q9Y6R7  35617.5    Q9Y646   \n",
       "191518  65043_0            0       65043    Q9Y6R7  35617.5    Q9Y6R7   \n",
       "191519  65043_0            0       65043    Q9Y6R7  35617.5    Q9Y6R7   \n",
       "\n",
       "                                       Peptide  PeptideAbundance  \n",
       "0                                NEQEQPLGQWHLS           13472.4  \n",
       "1                                  GNPEPTFSWTK          158777.0  \n",
       "2       KPQSAVYSTGSNGILLC(UniMod_4)EAEGEPQPTIK           51184.3  \n",
       "3                                 SMEQNGPGLEYR           55708.4  \n",
       "4                             TLKIENVSYQDKGNYR           53159.7  \n",
       "...                                        ...               ...  \n",
       "191515                         ILAGSADSEGVAAPR          249512.0  \n",
       "191516                           SGNIPAGTTVDTK           37584.6  \n",
       "191517                             LALLVDTVGPR           28346.5  \n",
       "191518        AGC(UniMod_4)VAESTAVC(UniMod_4)R           12057.7  \n",
       "191519                          GATTSPGVYELSSR           23559.8  \n",
       "\n",
       "[191520 rows x 8 columns]"
      ]
     },
     "execution_count": 78,
     "metadata": {},
     "output_type": "execute_result"
    }
   ],
   "source": [
    "visit_x"
   ]
  },
  {
   "cell_type": "code",
   "execution_count": null,
   "id": "b2d63137",
   "metadata": {},
   "outputs": [],
   "source": [
    "plt.style.use('_mpl-gallery-nogrid')\n",
    "\n",
    "\n",
    "# make data\n",
    "x = visit_x[\"PeptideAbundance\"]\n",
    "colors = plt.get_cmap('Blues')(np.linspace(0.2, 0.7, len(x)))\n",
    "\n",
    "# plot\n",
    "fig, ax = plt.subplots()\n",
    "ax.pie(x, colors=colors, radius=3, center=(4, 4),\n",
    "       wedgeprops={\"linewidth\": 1, \"edgecolor\": \"white\"}, frame=True)\n",
    "\n",
    "# ax.set(xlim=(0, 8), xticks=np.arange(1, 8),\n",
    "#        ylim=(0, 8), yticks=np.arange(1, 8))\n",
    "\n",
    "fig.set_size_inches(8, 8)\n",
    "plt.show()"
   ]
  },
  {
   "cell_type": "code",
   "execution_count": 19,
   "id": "b9d6bfea",
   "metadata": {},
   "outputs": [
    {
     "data": {
      "image/png": "[encoded data removed]",
      "text/plain": [
       "<Figure size 576x216 with 1 Axes>"
      ]
     },
     "metadata": {
      "needs_background": "light"
     },
     "output_type": "display_data"
    }
   ],
   "source": [
    "# set up the figure and axes\n",
    "fig = plt.figure(figsize=(8, 3))\n",
    "ax1 = fig.add_subplot(121, projection='3d')\n",
    "\n",
    "# fake data\n",
    "_x = patient_x[\"visit_month\"]\n",
    "_y = patient_x[\"updrs_3\"]\n",
    "_xx, _yy = np.meshgrid(_x, _y)\n",
    "x, y = _xx.ravel(), _yy.ravel()\n",
    "\n",
    "top = x + y\n",
    "bottom = np.zeros_like(top)\n",
    "width = depth = 1\n",
    "\n",
    "ax1.bar3d(x, y, bottom, width, depth, top, shade=True)\n",
    "ax1.set_title('Shaded')\n",
    "\n",
    "plt.show()"
   ]
  },
  {
   "cell_type": "code",
   "execution_count": null,
   "id": "eec3fc83",
   "metadata": {},
   "outputs": [],
   "source": []
  }
 ],
 "metadata": {
  "kernelspec": {
   "display_name": "Python [conda env:PythonData] *",
   "language": "python",
   "name": "conda-env-PythonData-py"
  },
  "language_info": {
   "codemirror_mode": {
    "name": "ipython",
    "version": 3
   },
   "file_extension": ".py",
   "mimetype": "text/x-python",
   "name": "python",
   "nbconvert_exporter": "python",
   "pygments_lexer": "ipython3",
   "version": "3.7.15"
  }
 },
 "nbformat": 4,
 "nbformat_minor": 5
}
